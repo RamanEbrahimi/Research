{
  "cells": [
    {
      "cell_type": "code",
      "execution_count": 1,
      "metadata": {
        "id": "dnCLC6t5O9a8"
      },
      "outputs": [],
      "source": [
        "import numpy as np\n",
        "import pandas as pd\n",
        "import networkx as nx\n",
        "import matplotlib.pyplot as plt\n",
        "%matplotlib inline\n",
        "from scipy.linalg import eigvals\n",
        "from itertools import combinations\n"
      ]
    },
    {
      "cell_type": "code",
      "execution_count": 13,
      "metadata": {},
      "outputs": [
        {
          "name": "stdout",
          "output_type": "stream",
          "text": [
            "Determinant of the matrix is: -4.5\n"
          ]
        }
      ],
      "source": [
        "a = 2\n",
        "b = -0.5\n",
        "matrix = np.array([[1, 1/a, 1/a], [1/a, 1, 1/b], [1/a, 1/b, 1]])\n",
        "\n",
        "# Calculate the determinant\n",
        "determinant = np.linalg.det(matrix)\n",
        "\n",
        "print(\"Determinant of the matrix is:\", determinant)\n"
      ]
    },
    {
      "cell_type": "code",
      "execution_count": 2,
      "metadata": {},
      "outputs": [],
      "source": [
        "# checking if a matrix is p-matrix\n",
        "\n",
        "def generate_subsets(n):\n",
        "    # Generate all possible subsets of size 1 to n.\n",
        "    for size in range(1, n + 1):\n",
        "        for subset in combinations(range(n), size):\n",
        "            yield subset\n",
        "            # print(subset)\n",
        "\n",
        "def check_p(matrix):\n",
        "    n = len(matrix)\n",
        "\n",
        "    # Compute the determinant of the whole matrix first.\n",
        "    determinant = np.linalg.det(matrix)\n",
        "    if determinant <= 0:\n",
        "        return \"Not a p-matrix\"  # Return immediately if the whole matrix has a non-positive determinant\n",
        "\n",
        "    # Check the determinants of diagonal elements (smallest subset) next.\n",
        "    for i in range(n):\n",
        "        submatrix = matrix[i, i]\n",
        "        if submatrix <= 0:\n",
        "            return \"Not a p-matrix\"  # Return immediately if any diagonal element is non-positive\n",
        "\n",
        "    # Initialize the generator to get subsets.\n",
        "    subset_generator = generate_subsets(n)\n",
        "\n",
        "    # Check the determinants of other subsets.\n",
        "    for subset in subset_generator:\n",
        "        if len(subset) > 1:\n",
        "            submatrix = matrix[np.ix_(subset, subset)]\n",
        "            determinant = np.linalg.det(submatrix)\n",
        "            if determinant <= 0:\n",
        "                return \"Not a p-matrix\"  # Return immediately if a non-positive determinant is found\n",
        "\n",
        "    return \"All principal minors are positive -> p-matrix\"\n"
      ]
    },
    {
      "cell_type": "code",
      "execution_count": 60,
      "metadata": {},
      "outputs": [],
      "source": [
        "\n",
        "def generate_non_symmetric_matrix(n):\n",
        "    # Generate a random matrix with values between -1 and 1\n",
        "    matrix = np.random.uniform(-1, 2, (n, n))\n",
        "\n",
        "    # Set diagonal elements to 1\n",
        "    np.fill_diagonal(matrix, 1)\n",
        "\n",
        "    # # Check sub-matrix determinants and adjust as needed\n",
        "    # for i in range(n):\n",
        "    #     for j in range(i + 1, n):\n",
        "    #         sub_matrix = matrix[:j+1, :j+1]  # Extract sub-matrix\n",
        "    #         while np.linalg.det(sub_matrix) < 0:\n",
        "    #             # Find a random element in the sub-matrix\n",
        "    #             row_idx, col_idx = np.random.randint(0, j+1), np.random.randint(0, j+1)\n",
        "    #             # Flip the sign of the element\n",
        "    #             matrix[row_idx, col_idx] *= -1\n",
        "    \n",
        "    return matrix\n",
        "\n",
        "# # Define the size of the matrix (change n to your desired value)\n",
        "# n = 4\n",
        "# result_matrix = generate_non_symmetric_matrix(n)\n",
        "# print(result_matrix)"
      ]
    },
    {
      "cell_type": "code",
      "execution_count": 65,
      "metadata": {},
      "outputs": [
        {
          "name": "stdout",
          "output_type": "stream",
          "text": [
            "Determinant of Schur Complement:\n",
            "-0.3846110287237953\n",
            "Original Matrix:\n",
            "[[ 1.          1.55496457  1.07409445  0.78787959]\n",
            " [-0.10254492  1.         -0.26370776  1.49137393]\n",
            " [ 0.8061432   1.32068156  1.          1.28029768]\n",
            " [ 1.15481471 -0.19734213  1.59857486  1.        ]]\n",
            "\n",
            "Schur Complement:\n",
            "[[ 0.20923863  1.43176606]\n",
            " [-0.12388548 -2.68586183]]\n"
          ]
        }
      ],
      "source": [
        "def schur_complement(matrix, block_indices):\n",
        "    A = matrix[block_indices[0]:block_indices[1], block_indices[0]:block_indices[1]]\n",
        "    B = matrix[block_indices[0]:block_indices[1], block_indices[1]:]\n",
        "    C = matrix[block_indices[1]:, block_indices[0]:block_indices[1]]\n",
        "    D = matrix[block_indices[1]:, block_indices[1]:]\n",
        "\n",
        "    inv_D = np.linalg.inv(D)\n",
        "    S = A - B @ inv_D @ C\n",
        "\n",
        "    return S\n",
        "\n",
        "block_indices = [0, 2]\n",
        "matrix = generate_non_symmetric_matrix(4)\n",
        "schur_matrix = schur_complement(matrix, block_indices)\n",
        "\n",
        "print(\"Determinant of Schur Complement:\")\n",
        "print(np.linalg.det(schur_matrix))\n",
        "print(\"Original Matrix:\")\n",
        "print(matrix)\n",
        "print(\"\\nSchur Complement:\")\n",
        "print(schur_matrix)"
      ]
    }
  ],
  "metadata": {
    "colab": {
      "provenance": []
    },
    "kernelspec": {
      "display_name": "Python 3",
      "language": "python",
      "name": "python3"
    },
    "language_info": {
      "codemirror_mode": {
        "name": "ipython",
        "version": 3
      },
      "file_extension": ".py",
      "mimetype": "text/x-python",
      "name": "python",
      "nbconvert_exporter": "python",
      "pygments_lexer": "ipython3",
      "version": "3.9.13"
    },
    "orig_nbformat": 4,
    "vscode": {
      "interpreter": {
        "hash": "aee8b7b246df8f9039afb4144a1f6fd8d2ca17a180786b69acc140d282b71a49"
      }
    }
  },
  "nbformat": 4,
  "nbformat_minor": 0
}
