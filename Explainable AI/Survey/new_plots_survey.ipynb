{
  "cells": [
    {
      "cell_type": "code",
      "execution_count": 22,
      "metadata": {},
      "outputs": [
        {
          "data": {
            "application/vnd.plotly.v1+json": {
              "config": {
                "plotlyServerURL": "https://plot.ly"
              },
              "data": [
                {
                  "insidetextanchor": "middle",
                  "marker": {
                    "color": "darkcyan"
                  },
                  "name": "Unbalanced",
                  "offsetgroup": "0",
                  "text": [
                    "-2.45",
                    "-4.88"
                  ],
                  "textposition": "inside",
                  "type": "bar",
                  "width": 0.2,
                  "x": [
                    "2 features",
                    "4 features"
                  ],
                  "y": [
                    -2.45,
                    -4.88
                  ]
                },
                {
                  "insidetextanchor": "middle",
                  "marker": {
                    "color": "darkolivegreen"
                  },
                  "name": "Balanced",
                  "offsetgroup": "1",
                  "text": [
                    "-0.54",
                    "-0.63"
                  ],
                  "textposition": "inside",
                  "type": "bar",
                  "width": 0.2,
                  "x": [
                    "2 features",
                    "4 features"
                  ],
                  "y": [
                    -1,
                    -1.4
                  ]
                }
              ],
              "layout": {
                "annotations": [
                  {
                    "arrowhead": 3,
                    "arrowsize": 2,
                    "arrowwidth": 4,
                    "ax": -0.13,
                    "axref": "x",
                    "ay": -2.4000000000000004,
                    "ayref": "y",
                    "font": {
                      "size": 30
                    },
                    "showarrow": true,
                    "x": 0.78,
                    "xref": "x",
                    "y": -4.88,
                    "yref": "y"
                  },
                  {
                    "arrowhead": 3,
                    "arrowsize": 2,
                    "arrowwidth": 4,
                    "ax": 0.12,
                    "axref": "x",
                    "ay": -1,
                    "ayref": "y",
                    "font": {
                      "size": 30
                    },
                    "showarrow": true,
                    "x": 1.05,
                    "xref": "x",
                    "y": -1.4,
                    "yref": "y"
                  }
                ],
                "bargap": 0.5,
                "barmode": "group",
                "font": {
                  "size": 35
                },
                "height": 800,
                "legend": {
                  "orientation": "h",
                  "x": 0.5,
                  "xanchor": "center",
                  "y": 1.02,
                  "yanchor": "bottom"
                },
                "template": {
                  "data": {
                    "pie": [
                      {
                        "automargin": true,
                        "type": "pie"
                      }
                    ],
                    "scatter": [
                      {
                        "line": {
                          "width": 3
                        },
                        "marker": {
                          "size": 9
                        },
                        "type": "scatter"
                      }
                    ],
                    "scatter3d": [
                      {
                        "line": {
                          "width": 3
                        },
                        "marker": {
                          "size": 9
                        },
                        "type": "scatter3d"
                      }
                    ],
                    "scattergeo": [
                      {
                        "line": {
                          "width": 3
                        },
                        "marker": {
                          "size": 9
                        },
                        "type": "scattergeo"
                      }
                    ],
                    "scattergl": [
                      {
                        "line": {
                          "width": 3
                        },
                        "marker": {
                          "size": 9
                        },
                        "type": "scattergl"
                      }
                    ],
                    "scatterpolar": [
                      {
                        "line": {
                          "width": 3
                        },
                        "marker": {
                          "size": 9
                        },
                        "type": "scatterpolar"
                      }
                    ],
                    "scatterpolargl": [
                      {
                        "line": {
                          "width": 3
                        },
                        "marker": {
                          "size": 9
                        },
                        "type": "scatterpolargl"
                      }
                    ],
                    "scatterternary": [
                      {
                        "line": {
                          "width": 3
                        },
                        "marker": {
                          "size": 9
                        },
                        "type": "scatterternary"
                      }
                    ],
                    "table": [
                      {
                        "cells": {
                          "height": 30
                        },
                        "header": {
                          "height": 36
                        },
                        "type": "table"
                      }
                    ]
                  },
                  "layout": {
                    "font": {
                      "size": 18
                    },
                    "xaxis": {
                      "title": {
                        "standoff": 15
                      }
                    },
                    "yaxis": {
                      "title": {
                        "standoff": 15
                      }
                    }
                  }
                },
                "width": 800,
                "xaxis": {
                  "tickvals": [
                    "2 features",
                    "4 features"
                  ]
                },
                "yaxis": {
                  "showgrid": false,
                  "tickfont": {
                    "size": 1
                  },
                  "title": {
                    "text": "Distance to Optimal"
                  }
                }
              }
            }
          },
          "metadata": {},
          "output_type": "display_data"
        }
      ],
      "source": [
        "import plotly.graph_objects as go\n",
        "\n",
        "# Data for \"Distance to optimal\"\n",
        "dist_to_optimal = {\n",
        "    '2 feature unbalanced': -2.45,\n",
        "    '2 feature balanced': -1,\n",
        "    '4 feature unbalanced': -4.88,\n",
        "    '4 feature balanced': -1.4\n",
        "}\n",
        "\n",
        "# Sample n values corresponding to each bar\n",
        "n_values = {\n",
        "    '2 feature unbalanced': -2.45,\n",
        "    '2 feature balanced': -0.54,\n",
        "    '4 feature unbalanced': -4.88,\n",
        "    '4 feature balanced': -0.63\n",
        "}\n",
        "\n",
        "# N values for unbalanced and balanced features\n",
        "n_unbalanced = [n_values['2 feature unbalanced'], n_values['4 feature unbalanced']]\n",
        "n_balanced = [n_values['2 feature balanced'], n_values['4 feature balanced']]\n",
        "\n",
        "# Create x-axis labels\n",
        "x_labels = ['2 features', '4 features']\n",
        "\n",
        "# Y-axis data for unbalanced and balanced features\n",
        "y_unbalanced = [dist_to_optimal['2 feature unbalanced'], dist_to_optimal['4 feature unbalanced']]\n",
        "y_balanced = [dist_to_optimal['2 feature balanced'], dist_to_optimal['4 feature balanced']]\n",
        "\n",
        "# Create the bar plot\n",
        "fig = go.Figure()\n",
        "\n",
        "# Add bars for unbalanced features\n",
        "fig.add_trace(go.Bar(\n",
        "    x=x_labels,\n",
        "    y=y_unbalanced,\n",
        "    name='Unbalanced',\n",
        "    marker=dict(color='darkcyan'),\n",
        "    width = 0.2,\n",
        "    offsetgroup=0,\n",
        "    text=[f\"{n}\" for n in n_unbalanced],  # Add n values on the bars\n",
        "    textposition='inside',  # Show text outside the bars\n",
        "    # textangle = -90,\n",
        "    insidetextanchor='middle'  # Position text in the middle of the bar\n",
        "))\n",
        "\n",
        "# Add bars for balanced features\n",
        "fig.add_trace(go.Bar(\n",
        "    x=x_labels,\n",
        "    y=y_balanced,\n",
        "    name='Balanced',\n",
        "    marker=dict(color='darkolivegreen'),\n",
        "    width = 0.2,\n",
        "    offsetgroup=1,\n",
        "    text=[f\"{n}\" for n in n_balanced],  # Add n values on the bars\n",
        "    textposition='inside',  # Show text outside the bars\n",
        "    # textangle = -90,\n",
        "    insidetextanchor='middle'  # Position text in the middle of the bar\n",
        "))\n",
        "\n",
        "# Define the x-coordinates for where the arrows should start and end (middle of the bars)\n",
        "x_2_unbalanced = -0.13  # Adjusting position for '2 feature unbalanced'\n",
        "x_2_balanced = 0.12     # Adjusting position for '2 feature balanced'\n",
        "x_4_unbalanced = 0.78   # Adjusting position for '4 feature unbalanced'\n",
        "x_4_balanced = 1.05     # Adjusting position for '4 feature balanced'\n",
        "\n",
        "# Add arrows from 4 feature unbalanced to 2 feature unbalanced and balanced\n",
        "fig.add_annotation(x=x_4_unbalanced, y=dist_to_optimal['4 feature unbalanced'],\n",
        "                   ax=x_2_unbalanced, ay=dist_to_optimal['2 feature unbalanced']+0.05,\n",
        "                   xref=\"x\", yref=\"y\", axref=\"x\", ayref=\"y\",\n",
        "                   showarrow=True, arrowhead=3, arrowsize=2, arrowwidth=4)\n",
        "\n",
        "fig.add_annotation(x=x_4_balanced, y=dist_to_optimal['4 feature balanced'],\n",
        "                   ax=x_2_balanced, ay=dist_to_optimal['2 feature balanced'],\n",
        "                   xref=\"x\", yref=\"y\", axref=\"x\", ayref=\"y\",\n",
        "                   showarrow=True, arrowhead=3, arrowsize=2, arrowwidth=4)\n",
        "\n",
        "\n",
        "\n",
        "# Update layout for better visualization\n",
        "fig.update_layout(\n",
        "    font=dict(size=35),  # Increase the font size for the entire plot\n",
        "    yaxis_title='Distance to Optimal',\n",
        "    yaxis=dict(tickfont=dict(size=1), showgrid=False),\n",
        "    xaxis=dict(tickvals=['2 features', '4 features']),\n",
        "    width = 800,\n",
        "    height = 800,\n",
        "    bargap = 0.5,\n",
        "    barmode = 'group',\n",
        "    legend=dict(\n",
        "        orientation=\"h\",  # Horizontal layout\n",
        "        yanchor=\"bottom\",  # Align to the bottom of the plot area\n",
        "        y=1.02,  # Move above the plot\n",
        "        xanchor=\"center\",  # Center the legend horizontally\n",
        "        x=0.5  # Position it in the middle\n",
        "    ),\n",
        "    template = 'presentation'\n",
        ")\n",
        "\n",
        "\n",
        "# Update the font size for the subplot titles\n",
        "for annotation in fig['layout']['annotations']:\n",
        "    annotation['font'] = dict(size=30)  # Increase font size for subplot titles\n",
        "\n",
        "\n",
        "# Display the plot\n",
        "fig.show()\n"
      ]
    },
    {
      "cell_type": "code",
      "execution_count": null,
      "metadata": {},
      "outputs": [],
      "source": []
    }
  ],
  "metadata": {
    "colab": {
      "provenance": []
    },
    "kernelspec": {
      "display_name": "Python 3",
      "name": "python3"
    },
    "language_info": {
      "codemirror_mode": {
        "name": "ipython",
        "version": 3
      },
      "file_extension": ".py",
      "mimetype": "text/x-python",
      "name": "python",
      "nbconvert_exporter": "python",
      "pygments_lexer": "ipython3",
      "version": "3.9.13"
    }
  },
  "nbformat": 4,
  "nbformat_minor": 0
}
