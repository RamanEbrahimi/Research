{
  "cells": [
    {
      "cell_type": "code",
      "execution_count": 4,
      "metadata": {},
      "outputs": [
        {
          "data": {
            "application/vnd.plotly.v1+json": {
              "config": {
                "plotlyServerURL": "https://plot.ly"
              },
              "data": [
                {
                  "insidetextanchor": "middle",
                  "marker": {
                    "color": "darkorange"
                  },
                  "name": "Unbalanced",
                  "offsetgroup": "0",
                  "showlegend": false,
                  "text": [
                    "-2.45",
                    "-4.88"
                  ],
                  "textposition": "inside",
                  "type": "bar",
                  "width": 0.2,
                  "x": [
                    "2 features",
                    "4 features"
                  ],
                  "y": [
                    -2.45,
                    -4.88
                  ]
                },
                {
                  "insidetextanchor": "middle",
                  "marker": {
                    "color": "darkcyan"
                  },
                  "name": "Balanced",
                  "offsetgroup": "1",
                  "showlegend": false,
                  "text": [
                    "-0.54",
                    "-0.63"
                  ],
                  "textposition": "inside",
                  "type": "bar",
                  "width": 0.2,
                  "x": [
                    "2 features",
                    "4 features"
                  ],
                  "y": [
                    -1,
                    -1.4
                  ]
                },
                {
                  "marker": {
                    "color": "darkorange",
                    "size": 70,
                    "symbol": "square"
                  },
                  "mode": "markers",
                  "name": "Unbalanced",
                  "showlegend": true,
                  "type": "scatter",
                  "x": [
                    null
                  ],
                  "y": [
                    null
                  ]
                },
                {
                  "marker": {
                    "color": "darkcyan",
                    "size": 70,
                    "symbol": "square"
                  },
                  "mode": "markers",
                  "name": "Balanced",
                  "showlegend": true,
                  "type": "scatter",
                  "x": [
                    null
                  ],
                  "y": [
                    null
                  ]
                }
              ],
              "layout": {
                "bargap": 0.5,
                "barmode": "group",
                "font": {
                  "size": 35
                },
                "height": 800,
                "legend": {
                  "font": {
                    "size": 40
                  },
                  "itemsizing": "trace",
                  "itemwidth": 40,
                  "orientation": "h",
                  "x": 0.5,
                  "xanchor": "center",
                  "y": 1.02,
                  "yanchor": "bottom"
                },
                "template": {
                  "data": {
                    "pie": [
                      {
                        "automargin": true,
                        "type": "pie"
                      }
                    ],
                    "scatter": [
                      {
                        "line": {
                          "width": 3
                        },
                        "marker": {
                          "size": 9
                        },
                        "type": "scatter"
                      }
                    ],
                    "scatter3d": [
                      {
                        "line": {
                          "width": 3
                        },
                        "marker": {
                          "size": 9
                        },
                        "type": "scatter3d"
                      }
                    ],
                    "scattergeo": [
                      {
                        "line": {
                          "width": 3
                        },
                        "marker": {
                          "size": 9
                        },
                        "type": "scattergeo"
                      }
                    ],
                    "scattergl": [
                      {
                        "line": {
                          "width": 3
                        },
                        "marker": {
                          "size": 9
                        },
                        "type": "scattergl"
                      }
                    ],
                    "scatterpolar": [
                      {
                        "line": {
                          "width": 3
                        },
                        "marker": {
                          "size": 9
                        },
                        "type": "scatterpolar"
                      }
                    ],
                    "scatterpolargl": [
                      {
                        "line": {
                          "width": 3
                        },
                        "marker": {
                          "size": 9
                        },
                        "type": "scatterpolargl"
                      }
                    ],
                    "scatterternary": [
                      {
                        "line": {
                          "width": 3
                        },
                        "marker": {
                          "size": 9
                        },
                        "type": "scatterternary"
                      }
                    ],
                    "table": [
                      {
                        "cells": {
                          "height": 30
                        },
                        "header": {
                          "height": 36
                        },
                        "type": "table"
                      }
                    ]
                  },
                  "layout": {
                    "font": {
                      "size": 18
                    },
                    "xaxis": {
                      "title": {
                        "standoff": 15
                      }
                    },
                    "yaxis": {
                      "title": {
                        "standoff": 15
                      }
                    }
                  }
                },
                "width": 800,
                "xaxis": {
                  "tickvals": [
                    "2 features",
                    "4 features"
                  ]
                },
                "yaxis": {
                  "showgrid": false,
                  "tickfont": {
                    "size": 1
                  },
                  "title": {
                    "text": "Distance to Optimal Score"
                  }
                }
              }
            }
          },
          "metadata": {},
          "output_type": "display_data"
        }
      ],
      "source": [
        "import plotly.graph_objects as go\n",
        "\n",
        "# Data for \"Distance to optimal\"\n",
        "dist_to_optimal = {\n",
        "    '2 feature unbalanced': -2.45,\n",
        "    '2 feature balanced': -1,\n",
        "    '4 feature unbalanced': -4.88,\n",
        "    '4 feature balanced': -1.4\n",
        "}\n",
        "\n",
        "# Sample n values corresponding to each bar\n",
        "n_values = {\n",
        "    '2 feature unbalanced': -2.45,\n",
        "    '2 feature balanced': -0.54,\n",
        "    '4 feature unbalanced': -4.88,\n",
        "    '4 feature balanced': -0.63\n",
        "}\n",
        "\n",
        "# N values for unbalanced and balanced features\n",
        "n_unbalanced = [n_values['2 feature unbalanced'], n_values['4 feature unbalanced']]\n",
        "n_balanced = [n_values['2 feature balanced'], n_values['4 feature balanced']]\n",
        "\n",
        "# Create x-axis labels\n",
        "x_labels = ['2 features', '4 features']\n",
        "\n",
        "# Y-axis data for unbalanced and balanced features\n",
        "y_unbalanced = [dist_to_optimal['2 feature unbalanced'], dist_to_optimal['4 feature unbalanced']]\n",
        "y_balanced = [dist_to_optimal['2 feature balanced'], dist_to_optimal['4 feature balanced']]\n",
        "\n",
        "# Create the bar plot\n",
        "fig = go.Figure()\n",
        "\n",
        "# Add bars for unbalanced features\n",
        "fig.add_trace(go.Bar(\n",
        "    x=x_labels,\n",
        "    y=y_unbalanced,\n",
        "    name='Unbalanced',\n",
        "    marker=dict(color='darkorange'),\n",
        "    width = 0.2,\n",
        "    offsetgroup=0,\n",
        "    text=[f\"{n}\" for n in n_unbalanced],  # Add n values on the bars\n",
        "    textposition='inside',  # Show text outside the bars\n",
        "    # textangle = -90,\n",
        "    insidetextanchor='middle',  # Position text in the middle of the bar\n",
        "    showlegend=False\n",
        "))\n",
        "\n",
        "# Add bars for balanced features\n",
        "fig.add_trace(go.Bar(\n",
        "    x=x_labels,\n",
        "    y=y_balanced,\n",
        "    name='Balanced',\n",
        "    marker=dict(color='darkcyan'),\n",
        "    width = 0.2,\n",
        "    offsetgroup=1,\n",
        "    text=[f\"{n}\" for n in n_balanced],  # Add n values on the bars\n",
        "    textposition='inside',  # Show text outside the bars\n",
        "    # textangle = -90,\n",
        "    insidetextanchor='middle',  # Position text in the middle of the bar\n",
        "    showlegend=False\n",
        "))\n",
        "\n",
        "# # Define the x-coordinates for where the arrows should start and end (middle of the bars)\n",
        "# x_2_unbalanced = -0.13  # Adjusting position for '2 feature unbalanced'\n",
        "# x_2_balanced = 0.12     # Adjusting position for '2 feature balanced'\n",
        "# x_4_unbalanced = 0.78   # Adjusting position for '4 feature unbalanced'\n",
        "# x_4_balanced = 1.05     # Adjusting position for '4 feature balanced'\n",
        "\n",
        "# # Add arrows from 4 feature unbalanced to 2 feature unbalanced and balanced\n",
        "# fig.add_annotation(x=x_4_unbalanced, y=dist_to_optimal['4 feature unbalanced'],\n",
        "#                    ax=x_2_unbalanced, ay=dist_to_optimal['2 feature unbalanced']+0.05,\n",
        "#                    xref=\"x\", yref=\"y\", axref=\"x\", ayref=\"y\",\n",
        "#                    showarrow=True, arrowhead=3, arrowsize=2, arrowwidth=4)\n",
        "\n",
        "# fig.add_annotation(x=x_4_balanced, y=dist_to_optimal['4 feature balanced'],\n",
        "#                    ax=x_2_balanced, ay=dist_to_optimal['2 feature balanced'],\n",
        "#                    xref=\"x\", yref=\"y\", axref=\"x\", ayref=\"y\",\n",
        "#                    showarrow=True, arrowhead=3, arrowsize=2, arrowwidth=4)\n",
        "\n",
        "# Add dummy scatter trace for larger squares in the legend (Unbalanced)\n",
        "fig.add_trace(go.Scatter(\n",
        "    x=[None], y=[None],  # No actual data points\n",
        "    mode='markers',\n",
        "    marker=dict(\n",
        "        size=70,  # Control the size of the squares in the legend\n",
        "        symbol='square',  # Set the marker shape to square\n",
        "        color='darkorange'  # Same color as the 'Unbalanced' bars\n",
        "    ),\n",
        "    name='Unbalanced',  # Same name for legend\n",
        "    showlegend=True\n",
        "))\n",
        "\n",
        "# Add dummy scatter trace for larger squares in the legend (Balanced)\n",
        "fig.add_trace(go.Scatter(\n",
        "    x=[None], y=[None],  # No actual data points\n",
        "    mode='markers',\n",
        "    marker=dict(\n",
        "        size=70,  # Control the size of the squares in the legend\n",
        "        symbol='square',  # Set the marker shape to square\n",
        "        color='darkcyan'  # Same color as the 'Balanced' bars\n",
        "    ),\n",
        "    name='Balanced',  # Same name for legend\n",
        "    showlegend=True\n",
        "))\n",
        "\n",
        "# Update layout for better visualization\n",
        "fig.update_layout(\n",
        "    font=dict(size=35),  # Increase the font size for the entire plot\n",
        "    yaxis_title='Distance to Optimal Score',\n",
        "    yaxis=dict(tickfont=dict(size=1), showgrid=False),\n",
        "    xaxis=dict(tickvals=['2 features', '4 features']),\n",
        "    width = 800,\n",
        "    height = 800,\n",
        "    bargap = 0.5,\n",
        "    barmode = 'group',\n",
        "    legend=dict(\n",
        "        orientation=\"h\",  # Horizontal layout\n",
        "        yanchor=\"bottom\",  # Align to the bottom of the plot area\n",
        "        y=1.02,  # Move above the plot\n",
        "        xanchor=\"center\",  # Center the legend horizontally\n",
        "        x=0.5,  # Position it in the middle\n",
        "        itemsizing='trace',  # Ensure legend markers are not scaled\n",
        "        font=dict(size=40),  # Increase the legend font size\n",
        "        itemwidth=40,  # Increase the item width to make the squares larger\n",
        "\n",
        "    ),\n",
        "    template='presentation'\n",
        ")\n",
        "\n",
        "# Display the plot\n",
        "fig.show()"
      ]
    },
    {
      "cell_type": "code",
      "execution_count": null,
      "metadata": {},
      "outputs": [],
      "source": []
    }
  ],
  "metadata": {
    "colab": {
      "provenance": []
    },
    "kernelspec": {
      "display_name": "Python 3",
      "name": "python3"
    },
    "language_info": {
      "codemirror_mode": {
        "name": "ipython",
        "version": 3
      },
      "file_extension": ".py",
      "mimetype": "text/x-python",
      "name": "python",
      "nbconvert_exporter": "python",
      "pygments_lexer": "ipython3",
      "version": "3.9.13"
    }
  },
  "nbformat": 4,
  "nbformat_minor": 0
}
