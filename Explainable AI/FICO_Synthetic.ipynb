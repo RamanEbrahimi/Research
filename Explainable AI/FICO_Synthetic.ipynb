{
  "cells": [
    {
      "cell_type": "code",
      "execution_count": 18,
      "metadata": {},
      "outputs": [],
      "source": [
        "import pandas as pd\n",
        "import numpy as np\n",
        "import matplotlib.pyplot as plt\n",
        "import seaborn as sns\n",
        "import numpy as np\n",
        "import pandas as pd\n",
        "from scipy.optimize import minimize"
      ]
    },
    {
      "cell_type": "code",
      "execution_count": 12,
      "metadata": {},
      "outputs": [],
      "source": [
        "def generate_synthetic_fico_data(n=5000):\n",
        "    np.random.seed(42)  # For reproducibility\n",
        "    \n",
        "    # Simulate Payment History\n",
        "    # A mix of positive and negative factors\n",
        "    payment_history = np.random.normal(700, 100, n) - np.random.choice([0, 20, 50, 100], n, p=[0.7, 0.15, 0.1, 0.05])\n",
        "    \n",
        "    # Simulate Amounts Owed\n",
        "    # Influence of credit utilization and total balance\n",
        "    amounts_owed = 850 - np.random.beta(2, 5, n) * 500  # Beta distribution for utilization skew\n",
        "    \n",
        "    # Simulate Length of Credit History\n",
        "    # Older accounts generally mean higher scores\n",
        "    length_of_credit_history = np.random.choice(range(300, 850), n, replace=True)\n",
        "    \n",
        "    # Simulate Credit Mix\n",
        "    # More diverse credit types yield higher scores\n",
        "    credit_mix = np.random.choice(range(600, 850), n, replace=True)\n",
        "    \n",
        "    # Simulate New Credit\n",
        "    # Recent credit activities lower the score\n",
        "    new_credit = 850 - np.random.gamma(2, 100, n)\n",
        "    \n",
        "    # Combine into DataFrame\n",
        "    data = {\n",
        "        'Payment History': payment_history,\n",
        "        'Amounts Owed': amounts_owed,\n",
        "        'Length of Credit History': length_of_credit_history,\n",
        "        'Credit Mix': credit_mix,\n",
        "        'New Credit': new_credit\n",
        "    }\n",
        "    df = pd.DataFrame(data)\n",
        "    \n",
        "    # Calculate FICO Score with given weights\n",
        "    weights = {'Payment History': 0.35, 'Amounts Owed': 0.30, 'Length of Credit History': 0.15, 'Credit Mix': 0.10, 'New Credit': 0.10}\n",
        "    df['FICO Score'] = df.apply(lambda row: sum(row[feature] * weight for feature, weight in weights.items()), axis=1)\n",
        "    \n",
        "    return df\n",
        "\n",
        "# Generate the dataset\n",
        "fico_df = generate_synthetic_fico_data()\n"
      ]
    },
    {
      "cell_type": "code",
      "execution_count": 13,
      "metadata": {},
      "outputs": [],
      "source": [
        "# Sigmoid function to calculate probability\n",
        "def sigmoid(x):\n",
        "    return 1 / (1 + np.exp(-0.1 * (x - 650)))\n",
        "\n",
        "# Calculate the approval probability for each individual\n",
        "fico_df['Approval Probability'] = sigmoid(fico_df['FICO Score'])\n",
        "\n",
        "# Assign \"true\" labels based on approval probability being above a random threshold\n",
        "# This introduces randomness in the assignment, making some borderline cases get approved or denied\n",
        "fico_df['True Label'] = (fico_df['Approval Probability'] > np.random.rand(fico_df.shape[0])).astype(int)"
      ]
    },
    {
      "cell_type": "code",
      "execution_count": 14,
      "metadata": {},
      "outputs": [
        {
          "data": {
            "text/html": [
              "<div>\n",
              "<style scoped>\n",
              "    .dataframe tbody tr th:only-of-type {\n",
              "        vertical-align: middle;\n",
              "    }\n",
              "\n",
              "    .dataframe tbody tr th {\n",
              "        vertical-align: top;\n",
              "    }\n",
              "\n",
              "    .dataframe thead th {\n",
              "        text-align: right;\n",
              "    }\n",
              "</style>\n",
              "<table border=\"1\" class=\"dataframe\">\n",
              "  <thead>\n",
              "    <tr style=\"text-align: right;\">\n",
              "      <th></th>\n",
              "      <th>Payment History</th>\n",
              "      <th>Amounts Owed</th>\n",
              "      <th>Length of Credit History</th>\n",
              "      <th>Credit Mix</th>\n",
              "      <th>New Credit</th>\n",
              "      <th>FICO Score</th>\n",
              "      <th>Approval Probability</th>\n",
              "      <th>True Label</th>\n",
              "    </tr>\n",
              "  </thead>\n",
              "  <tbody>\n",
              "    <tr>\n",
              "      <th>0</th>\n",
              "      <td>749.671415</td>\n",
              "      <td>765.857188</td>\n",
              "      <td>769</td>\n",
              "      <td>814</td>\n",
              "      <td>497.391324</td>\n",
              "      <td>738.631284</td>\n",
              "      <td>0.999859</td>\n",
              "      <td>1</td>\n",
              "    </tr>\n",
              "    <tr>\n",
              "      <th>1</th>\n",
              "      <td>686.173570</td>\n",
              "      <td>786.658536</td>\n",
              "      <td>480</td>\n",
              "      <td>623</td>\n",
              "      <td>663.385434</td>\n",
              "      <td>676.796854</td>\n",
              "      <td>0.935817</td>\n",
              "      <td>1</td>\n",
              "    </tr>\n",
              "    <tr>\n",
              "      <th>2</th>\n",
              "      <td>764.768854</td>\n",
              "      <td>675.942702</td>\n",
              "      <td>564</td>\n",
              "      <td>619</td>\n",
              "      <td>362.555187</td>\n",
              "      <td>653.207428</td>\n",
              "      <td>0.579505</td>\n",
              "      <td>0</td>\n",
              "    </tr>\n",
              "    <tr>\n",
              "      <th>3</th>\n",
              "      <td>852.302986</td>\n",
              "      <td>687.332464</td>\n",
              "      <td>594</td>\n",
              "      <td>759</td>\n",
              "      <td>566.075177</td>\n",
              "      <td>726.113302</td>\n",
              "      <td>0.999505</td>\n",
              "      <td>1</td>\n",
              "    </tr>\n",
              "    <tr>\n",
              "      <th>4</th>\n",
              "      <td>676.584663</td>\n",
              "      <td>567.172030</td>\n",
              "      <td>546</td>\n",
              "      <td>831</td>\n",
              "      <td>660.268600</td>\n",
              "      <td>637.983101</td>\n",
              "      <td>0.231175</td>\n",
              "      <td>0</td>\n",
              "    </tr>\n",
              "  </tbody>\n",
              "</table>\n",
              "</div>"
            ],
            "text/plain": [
              "   Payment History  Amounts Owed  Length of Credit History  Credit Mix  \\\n",
              "0       749.671415    765.857188                       769         814   \n",
              "1       686.173570    786.658536                       480         623   \n",
              "2       764.768854    675.942702                       564         619   \n",
              "3       852.302986    687.332464                       594         759   \n",
              "4       676.584663    567.172030                       546         831   \n",
              "\n",
              "   New Credit  FICO Score  Approval Probability  True Label  \n",
              "0  497.391324  738.631284              0.999859           1  \n",
              "1  663.385434  676.796854              0.935817           1  \n",
              "2  362.555187  653.207428              0.579505           0  \n",
              "3  566.075177  726.113302              0.999505           1  \n",
              "4  660.268600  637.983101              0.231175           0  "
            ]
          },
          "execution_count": 14,
          "metadata": {},
          "output_type": "execute_result"
        }
      ],
      "source": [
        "fico_df.head()"
      ]
    },
    {
      "cell_type": "code",
      "execution_count": 46,
      "metadata": {},
      "outputs": [
        {
          "data": {
            "image/png": "[encoded data removed]",
            "text/plain": [
              "<Figure size 1000x600 with 1 Axes>"
            ]
          },
          "metadata": {},
          "output_type": "display_data"
        }
      ],
      "source": [
        "# Generate a sample 'Approval Probability' for visualization purposes\n",
        "fico_df['Approval Probability'] = 1 / (1 + np.exp(-0.1 * (fico_df['FICO Score'] - 650)))\n",
        "\n",
        "plt.figure(figsize=(10, 6))\n",
        "sns.scatterplot(x='FICO Score', y='Approval Probability', hue='True Label', style='True Label',\n",
        "                data=fico_df, palette='coolwarm', markers=['o', 'X'], alpha=0.6)\n",
        "plt.title('Loan Approval Probability vs. FICO Score')\n",
        "plt.xlabel('FICO Score')\n",
        "plt.ylabel('Approval Probability')\n",
        "plt.legend(title='Loan Approval', labels=['Denied', 'Approved'])\n",
        "plt.grid(True)\n",
        "plt.show()"
      ]
    },
    {
      "cell_type": "code",
      "execution_count": 47,
      "metadata": {},
      "outputs": [
        {
          "name": "stdout",
          "output_type": "stream",
          "text": [
            "dict_values([0.35, 0.3, 0.15, 0.1, 0.1])\n"
          ]
        }
      ],
      "source": [
        "beta = np.array(weights.values())\n",
        "print(beta)"
      ]
    },
    {
      "cell_type": "code",
      "execution_count": 44,
      "metadata": {},
      "outputs": [
        {
          "name": "stdout",
          "output_type": "stream",
          "text": [
            "   Payment History  Amounts Owed  Length of Credit History  Credit Mix  \\\n",
            "0       749.671415    765.857188                       769         814   \n",
            "1       686.173570    786.658536                       480         623   \n",
            "2       764.768854    675.942702                       564         619   \n",
            "3       852.302986    687.332464                       594         759   \n",
            "4       676.584663    567.172030                       546         831   \n",
            "\n",
            "   New Credit  FICO Score  \n",
            "0  497.391324  738.631284  \n",
            "1  663.385434  676.796854  \n",
            "2  362.555187  653.207428  \n",
            "3  566.075177  726.113302  \n",
            "4  660.268600  637.983101  \n"
          ]
        },
        {
          "data": {
            "text/html": [
              "<div>\n",
              "<style scoped>\n",
              "    .dataframe tbody tr th:only-of-type {\n",
              "        vertical-align: middle;\n",
              "    }\n",
              "\n",
              "    .dataframe tbody tr th {\n",
              "        vertical-align: top;\n",
              "    }\n",
              "\n",
              "    .dataframe thead th {\n",
              "        text-align: right;\n",
              "    }\n",
              "</style>\n",
              "<table border=\"1\" class=\"dataframe\">\n",
              "  <thead>\n",
              "    <tr style=\"text-align: right;\">\n",
              "      <th></th>\n",
              "      <th>Payment History</th>\n",
              "      <th>Amounts Owed</th>\n",
              "      <th>Length of Credit History</th>\n",
              "      <th>Credit Mix</th>\n",
              "      <th>New Credit</th>\n",
              "      <th>FICO Score</th>\n",
              "    </tr>\n",
              "  </thead>\n",
              "  <tbody>\n",
              "    <tr>\n",
              "      <th>0</th>\n",
              "      <td>749.671415</td>\n",
              "      <td>765.857188</td>\n",
              "      <td>769</td>\n",
              "      <td>814</td>\n",
              "      <td>497.391324</td>\n",
              "      <td>738.631284</td>\n",
              "    </tr>\n",
              "    <tr>\n",
              "      <th>1</th>\n",
              "      <td>686.173570</td>\n",
              "      <td>786.658536</td>\n",
              "      <td>480</td>\n",
              "      <td>623</td>\n",
              "      <td>663.385434</td>\n",
              "      <td>676.796854</td>\n",
              "    </tr>\n",
              "    <tr>\n",
              "      <th>2</th>\n",
              "      <td>764.768854</td>\n",
              "      <td>675.942702</td>\n",
              "      <td>564</td>\n",
              "      <td>619</td>\n",
              "      <td>362.555187</td>\n",
              "      <td>653.207428</td>\n",
              "    </tr>\n",
              "    <tr>\n",
              "      <th>3</th>\n",
              "      <td>852.302986</td>\n",
              "      <td>687.332464</td>\n",
              "      <td>594</td>\n",
              "      <td>759</td>\n",
              "      <td>566.075177</td>\n",
              "      <td>726.113302</td>\n",
              "    </tr>\n",
              "    <tr>\n",
              "      <th>4</th>\n",
              "      <td>676.584663</td>\n",
              "      <td>567.172030</td>\n",
              "      <td>546</td>\n",
              "      <td>831</td>\n",
              "      <td>660.268600</td>\n",
              "      <td>637.983101</td>\n",
              "    </tr>\n",
              "  </tbody>\n",
              "</table>\n",
              "</div>"
            ],
            "text/plain": [
              "   Payment History  Amounts Owed  Length of Credit History  Credit Mix  \\\n",
              "0       749.671415    765.857188                       769         814   \n",
              "1       686.173570    786.658536                       480         623   \n",
              "2       764.768854    675.942702                       564         619   \n",
              "3       852.302986    687.332464                       594         759   \n",
              "4       676.584663    567.172030                       546         831   \n",
              "\n",
              "   New Credit  FICO Score  \n",
              "0  497.391324  738.631284  \n",
              "1  663.385434  676.796854  \n",
              "2  362.555187  653.207428  \n",
              "3  566.075177  726.113302  \n",
              "4  660.268600  637.983101  "
            ]
          },
          "execution_count": 44,
          "metadata": {},
          "output_type": "execute_result"
        }
      ],
      "source": [
        "beta = [0.35, 0.30, 0.15, 0.10, 0.10, -650]\n",
        "\n",
        "# Approval probability function based on FICO score\n",
        "def h(x, beta):\n",
        "    return np.dot(x, beta[:-1]) + beta[-1]\n",
        "\n",
        "# feature profile is first five cols of fico_fd\n",
        "feature_prof_df = fico_df.iloc[:, :-2]\n",
        "print(feature_prof_df.head())\n",
        "\n",
        "# Cost function for changing feature profiles\n",
        "def cost_function(x, x_0, cost_coefficient=1):\n",
        "    return cost_coefficient * np.linalg.norm(x - x_0)\n",
        "\n",
        "# Optimization for new feature profiles\n",
        "new_profiles = feature_prof_df.copy()\n",
        "for index, row in feature_prof_df.iterrows():\n",
        "    x_0 = row.values[:-1]\n",
        "    best_score = row['FICO Score']\n",
        "    # Optimize the feature profile to minimize cost while keeping the FICO score above the threshold\n",
        "    res = minimize(cost_function, x_0, args=(x_0), method='Nelder-Mead')\n",
        "    new_profiles.loc[index] = np.append(res.x, best_score)\n",
        "\n",
        "new_profiles.head()"
      ]
    },
    {
      "cell_type": "code",
      "execution_count": 48,
      "metadata": {},
      "outputs": [
        {
          "ename": "ValueError",
          "evalue": "Could not interpret value `Approval Probability` for parameter `y`",
          "output_type": "error",
          "traceback": [
            "\u001b[0;31m---------------------------------------------------------------------------\u001b[0m",
            "\u001b[0;31mValueError\u001b[0m                                Traceback (most recent call last)",
            "\u001b[0;32m/var/folders/hs/y116vr4j4yg5fcthw_l99c5r0000gn/T/ipykernel_6582/2063820149.py\u001b[0m in \u001b[0;36m<module>\u001b[0;34m\u001b[0m\n\u001b[1;32m      3\u001b[0m \u001b[0;34m\u001b[0m\u001b[0m\n\u001b[1;32m      4\u001b[0m \u001b[0mplt\u001b[0m\u001b[0;34m.\u001b[0m\u001b[0mfigure\u001b[0m\u001b[0;34m(\u001b[0m\u001b[0mfigsize\u001b[0m\u001b[0;34m=\u001b[0m\u001b[0;34m(\u001b[0m\u001b[0;36m10\u001b[0m\u001b[0;34m,\u001b[0m \u001b[0;36m6\u001b[0m\u001b[0;34m)\u001b[0m\u001b[0;34m)\u001b[0m\u001b[0;34m\u001b[0m\u001b[0;34m\u001b[0m\u001b[0m\n\u001b[0;32m----> 5\u001b[0;31m sns.scatterplot(x='FICO Score', y='Approval Probability', hue='True Label', style='True Label',\n\u001b[0m\u001b[1;32m      6\u001b[0m                 data=new_profiles, palette='coolwarm', markers=['o', 'X'], alpha=0.6)\n\u001b[1;32m      7\u001b[0m \u001b[0mplt\u001b[0m\u001b[0;34m.\u001b[0m\u001b[0mtitle\u001b[0m\u001b[0;34m(\u001b[0m\u001b[0;34m'Loan Approval Probability vs. FICO Score'\u001b[0m\u001b[0;34m)\u001b[0m\u001b[0;34m\u001b[0m\u001b[0;34m\u001b[0m\u001b[0m\n",
            "\u001b[0;32m~/opt/anaconda3/lib/python3.9/site-packages/seaborn/_decorators.py\u001b[0m in \u001b[0;36minner_f\u001b[0;34m(*args, **kwargs)\u001b[0m\n\u001b[1;32m     44\u001b[0m             )\n\u001b[1;32m     45\u001b[0m         \u001b[0mkwargs\u001b[0m\u001b[0;34m.\u001b[0m\u001b[0mupdate\u001b[0m\u001b[0;34m(\u001b[0m\u001b[0;34m{\u001b[0m\u001b[0mk\u001b[0m\u001b[0;34m:\u001b[0m \u001b[0marg\u001b[0m \u001b[0;32mfor\u001b[0m \u001b[0mk\u001b[0m\u001b[0;34m,\u001b[0m \u001b[0marg\u001b[0m \u001b[0;32min\u001b[0m \u001b[0mzip\u001b[0m\u001b[0;34m(\u001b[0m\u001b[0msig\u001b[0m\u001b[0;34m.\u001b[0m\u001b[0mparameters\u001b[0m\u001b[0;34m,\u001b[0m \u001b[0margs\u001b[0m\u001b[0;34m)\u001b[0m\u001b[0;34m}\u001b[0m\u001b[0;34m)\u001b[0m\u001b[0;34m\u001b[0m\u001b[0;34m\u001b[0m\u001b[0m\n\u001b[0;32m---> 46\u001b[0;31m         \u001b[0;32mreturn\u001b[0m \u001b[0mf\u001b[0m\u001b[0;34m(\u001b[0m\u001b[0;34m**\u001b[0m\u001b[0mkwargs\u001b[0m\u001b[0;34m)\u001b[0m\u001b[0;34m\u001b[0m\u001b[0;34m\u001b[0m\u001b[0m\n\u001b[0m\u001b[1;32m     47\u001b[0m     \u001b[0;32mreturn\u001b[0m \u001b[0minner_f\u001b[0m\u001b[0;34m\u001b[0m\u001b[0;34m\u001b[0m\u001b[0m\n\u001b[1;32m     48\u001b[0m \u001b[0;34m\u001b[0m\u001b[0m\n",
            "\u001b[0;32m~/opt/anaconda3/lib/python3.9/site-packages/seaborn/relational.py\u001b[0m in \u001b[0;36mscatterplot\u001b[0;34m(x, y, hue, style, size, data, palette, hue_order, hue_norm, sizes, size_order, size_norm, markers, style_order, x_bins, y_bins, units, estimator, ci, n_boot, alpha, x_jitter, y_jitter, legend, ax, **kwargs)\u001b[0m\n\u001b[1;32m    806\u001b[0m \u001b[0;34m\u001b[0m\u001b[0m\n\u001b[1;32m    807\u001b[0m     \u001b[0mvariables\u001b[0m \u001b[0;34m=\u001b[0m \u001b[0m_ScatterPlotter\u001b[0m\u001b[0;34m.\u001b[0m\u001b[0mget_semantics\u001b[0m\u001b[0;34m(\u001b[0m\u001b[0mlocals\u001b[0m\u001b[0;34m(\u001b[0m\u001b[0;34m)\u001b[0m\u001b[0;34m)\u001b[0m\u001b[0;34m\u001b[0m\u001b[0;34m\u001b[0m\u001b[0m\n\u001b[0;32m--> 808\u001b[0;31m     p = _ScatterPlotter(\n\u001b[0m\u001b[1;32m    809\u001b[0m         \u001b[0mdata\u001b[0m\u001b[0;34m=\u001b[0m\u001b[0mdata\u001b[0m\u001b[0;34m,\u001b[0m \u001b[0mvariables\u001b[0m\u001b[0;34m=\u001b[0m\u001b[0mvariables\u001b[0m\u001b[0;34m,\u001b[0m\u001b[0;34m\u001b[0m\u001b[0;34m\u001b[0m\u001b[0m\n\u001b[1;32m    810\u001b[0m         \u001b[0mx_bins\u001b[0m\u001b[0;34m=\u001b[0m\u001b[0mx_bins\u001b[0m\u001b[0;34m,\u001b[0m \u001b[0my_bins\u001b[0m\u001b[0;34m=\u001b[0m\u001b[0my_bins\u001b[0m\u001b[0;34m,\u001b[0m\u001b[0;34m\u001b[0m\u001b[0;34m\u001b[0m\u001b[0m\n",
            "\u001b[0;32m~/opt/anaconda3/lib/python3.9/site-packages/seaborn/relational.py\u001b[0m in \u001b[0;36m__init__\u001b[0;34m(self, data, variables, x_bins, y_bins, estimator, ci, n_boot, alpha, x_jitter, y_jitter, legend)\u001b[0m\n\u001b[1;32m    585\u001b[0m         )\n\u001b[1;32m    586\u001b[0m \u001b[0;34m\u001b[0m\u001b[0m\n\u001b[0;32m--> 587\u001b[0;31m         \u001b[0msuper\u001b[0m\u001b[0;34m(\u001b[0m\u001b[0;34m)\u001b[0m\u001b[0;34m.\u001b[0m\u001b[0m__init__\u001b[0m\u001b[0;34m(\u001b[0m\u001b[0mdata\u001b[0m\u001b[0;34m=\u001b[0m\u001b[0mdata\u001b[0m\u001b[0;34m,\u001b[0m \u001b[0mvariables\u001b[0m\u001b[0;34m=\u001b[0m\u001b[0mvariables\u001b[0m\u001b[0;34m)\u001b[0m\u001b[0;34m\u001b[0m\u001b[0;34m\u001b[0m\u001b[0m\n\u001b[0m\u001b[1;32m    588\u001b[0m \u001b[0;34m\u001b[0m\u001b[0m\n\u001b[1;32m    589\u001b[0m         \u001b[0mself\u001b[0m\u001b[0;34m.\u001b[0m\u001b[0malpha\u001b[0m \u001b[0;34m=\u001b[0m \u001b[0malpha\u001b[0m\u001b[0;34m\u001b[0m\u001b[0;34m\u001b[0m\u001b[0m\n",
            "\u001b[0;32m~/opt/anaconda3/lib/python3.9/site-packages/seaborn/_core.py\u001b[0m in \u001b[0;36m__init__\u001b[0;34m(self, data, variables)\u001b[0m\n\u001b[1;32m    603\u001b[0m     \u001b[0;32mdef\u001b[0m \u001b[0m__init__\u001b[0m\u001b[0;34m(\u001b[0m\u001b[0mself\u001b[0m\u001b[0;34m,\u001b[0m \u001b[0mdata\u001b[0m\u001b[0;34m=\u001b[0m\u001b[0;32mNone\u001b[0m\u001b[0;34m,\u001b[0m \u001b[0mvariables\u001b[0m\u001b[0;34m=\u001b[0m\u001b[0;34m{\u001b[0m\u001b[0;34m}\u001b[0m\u001b[0;34m)\u001b[0m\u001b[0;34m:\u001b[0m\u001b[0;34m\u001b[0m\u001b[0;34m\u001b[0m\u001b[0m\n\u001b[1;32m    604\u001b[0m \u001b[0;34m\u001b[0m\u001b[0m\n\u001b[0;32m--> 605\u001b[0;31m         \u001b[0mself\u001b[0m\u001b[0;34m.\u001b[0m\u001b[0massign_variables\u001b[0m\u001b[0;34m(\u001b[0m\u001b[0mdata\u001b[0m\u001b[0;34m,\u001b[0m \u001b[0mvariables\u001b[0m\u001b[0;34m)\u001b[0m\u001b[0;34m\u001b[0m\u001b[0;34m\u001b[0m\u001b[0m\n\u001b[0m\u001b[1;32m    606\u001b[0m \u001b[0;34m\u001b[0m\u001b[0m\n\u001b[1;32m    607\u001b[0m         \u001b[0;32mfor\u001b[0m \u001b[0mvar\u001b[0m\u001b[0;34m,\u001b[0m \u001b[0mcls\u001b[0m \u001b[0;32min\u001b[0m \u001b[0mself\u001b[0m\u001b[0;34m.\u001b[0m\u001b[0m_semantic_mappings\u001b[0m\u001b[0;34m.\u001b[0m\u001b[0mitems\u001b[0m\u001b[0;34m(\u001b[0m\u001b[0;34m)\u001b[0m\u001b[0;34m:\u001b[0m\u001b[0;34m\u001b[0m\u001b[0;34m\u001b[0m\u001b[0m\n",
            "\u001b[0;32m~/opt/anaconda3/lib/python3.9/site-packages/seaborn/_core.py\u001b[0m in \u001b[0;36massign_variables\u001b[0;34m(self, data, variables)\u001b[0m\n\u001b[1;32m    666\u001b[0m         \u001b[0;32melse\u001b[0m\u001b[0;34m:\u001b[0m\u001b[0;34m\u001b[0m\u001b[0;34m\u001b[0m\u001b[0m\n\u001b[1;32m    667\u001b[0m             \u001b[0mself\u001b[0m\u001b[0;34m.\u001b[0m\u001b[0minput_format\u001b[0m \u001b[0;34m=\u001b[0m \u001b[0;34m\"long\"\u001b[0m\u001b[0;34m\u001b[0m\u001b[0;34m\u001b[0m\u001b[0m\n\u001b[0;32m--> 668\u001b[0;31m             plot_data, variables = self._assign_variables_longform(\n\u001b[0m\u001b[1;32m    669\u001b[0m                 \u001b[0mdata\u001b[0m\u001b[0;34m,\u001b[0m \u001b[0;34m**\u001b[0m\u001b[0mvariables\u001b[0m\u001b[0;34m,\u001b[0m\u001b[0;34m\u001b[0m\u001b[0;34m\u001b[0m\u001b[0m\n\u001b[1;32m    670\u001b[0m             )\n",
            "\u001b[0;32m~/opt/anaconda3/lib/python3.9/site-packages/seaborn/_core.py\u001b[0m in \u001b[0;36m_assign_variables_longform\u001b[0;34m(self, data, **kwargs)\u001b[0m\n\u001b[1;32m    901\u001b[0m \u001b[0;34m\u001b[0m\u001b[0m\n\u001b[1;32m    902\u001b[0m                 \u001b[0merr\u001b[0m \u001b[0;34m=\u001b[0m \u001b[0;34mf\"Could not interpret value `{val}` for parameter `{key}`\"\u001b[0m\u001b[0;34m\u001b[0m\u001b[0;34m\u001b[0m\u001b[0m\n\u001b[0;32m--> 903\u001b[0;31m                 \u001b[0;32mraise\u001b[0m \u001b[0mValueError\u001b[0m\u001b[0;34m(\u001b[0m\u001b[0merr\u001b[0m\u001b[0;34m)\u001b[0m\u001b[0;34m\u001b[0m\u001b[0;34m\u001b[0m\u001b[0m\n\u001b[0m\u001b[1;32m    904\u001b[0m \u001b[0;34m\u001b[0m\u001b[0m\n\u001b[1;32m    905\u001b[0m             \u001b[0;32melse\u001b[0m\u001b[0;34m:\u001b[0m\u001b[0;34m\u001b[0m\u001b[0;34m\u001b[0m\u001b[0m\n",
            "\u001b[0;31mValueError\u001b[0m: Could not interpret value `Approval Probability` for parameter `y`"
          ]
        },
        {
          "data": {
            "text/plain": [
              "<Figure size 1000x600 with 0 Axes>"
            ]
          },
          "metadata": {},
          "output_type": "display_data"
        }
      ],
      "source": [
        "# add the true labels from the original dataset\n",
        "new_profiles['True Label'] = fico_df['True Label']\n",
        "\n",
        "plt.figure(figsize=(10, 6))\n",
        "sns.scatterplot(x='FICO Score', y='Approval Probability', hue='True Label', style='True Label',\n",
        "                data=new_profiles, palette='coolwarm', markers=['o', 'X'], alpha=0.6)\n",
        "plt.title('Loan Approval Probability vs. FICO Score')\n",
        "plt.xlabel('FICO Score')\n",
        "plt.ylabel('Approval Probability')\n",
        "plt.legend(title='Loan Approval', labels=['Denied', 'Approved'])\n",
        "plt.grid(True)\n",
        "plt.show()"
      ]
    },
    {
      "cell_type": "code",
      "execution_count": null,
      "metadata": {},
      "outputs": [],
      "source": []
    }
  ],
  "metadata": {
    "colab": {
      "provenance": []
    },
    "kernelspec": {
      "display_name": "Python 3",
      "name": "python3"
    },
    "language_info": {
      "codemirror_mode": {
        "name": "ipython",
        "version": 3
      },
      "file_extension": ".py",
      "mimetype": "text/x-python",
      "name": "python",
      "nbconvert_exporter": "python",
      "pygments_lexer": "ipython3",
      "version": "3.9.13"
    }
  },
  "nbformat": 4,
  "nbformat_minor": 0
}
