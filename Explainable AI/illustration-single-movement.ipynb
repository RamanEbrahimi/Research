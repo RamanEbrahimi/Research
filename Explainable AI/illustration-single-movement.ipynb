{
  "cells": [
    {
      "cell_type": "code",
      "execution_count": 14,
      "metadata": {},
      "outputs": [
        {
          "data": {
            "application/vnd.plotly.v1+json": {
              "config": {
                "plotlyServerURL": "https://plot.ly"
              },
              "data": [
                {
                  "line": {
                    "color": "black",
                    "dash": "dash"
                  },
                  "mode": "lines",
                  "name": "Closest Point",
                  "showlegend": false,
                  "type": "scatter",
                  "x": [
                    40,
                    70.40194884287453
                  ],
                  "y": [
                    60,
                    68.57490864799026
                  ]
                },
                {
                  "mode": "lines",
                  "name": "0.78x + 0.22y = 70",
                  "showlegend": false,
                  "type": "scatter",
                  "x": [
                    40,
                    40.333333333333336,
                    40.666666666666664,
                    41,
                    41.333333333333336,
                    41.666666666666664,
                    42,
                    42.333333333333336,
                    42.666666666666664,
                    43,
                    43.333333333333336,
                    43.666666666666664,
                    44,
                    44.333333333333336,
                    44.666666666666664,
                    45,
                    45.333333333333336,
                    45.666666666666664,
                    46,
                    46.333333333333336,
                    46.666666666666664,
                    47,
                    47.333333333333336,
                    47.666666666666664,
                    48,
                    48.33333333333333,
                    48.666666666666664,
                    49,
                    49.33333333333333,
                    49.666666666666664,
                    50,
                    50.33333333333333,
                    50.666666666666664,
                    51,
                    51.33333333333333,
                    51.666666666666664,
                    52,
                    52.33333333333333,
                    52.666666666666664,
                    53,
                    53.33333333333333,
                    53.666666666666664,
                    54,
                    54.33333333333333,
                    54.666666666666664,
                    55,
                    55.33333333333333,
                    55.666666666666664,
                    56,
                    56.33333333333333,
                    56.666666666666664,
                    57,
                    57.33333333333333,
                    57.666666666666664,
                    58,
                    58.33333333333333,
                    58.666666666666664,
                    59,
                    59.33333333333333,
                    59.666666666666664,
                    60,
                    60.33333333333333,
                    60.666666666666664,
                    61,
                    61.33333333333333,
                    61.666666666666664,
                    62,
                    62.33333333333333,
                    62.666666666666664,
                    63,
                    63.33333333333333,
                    63.666666666666664,
                    64,
                    64.33333333333333,
                    64.66666666666666,
                    65,
                    65.33333333333333,
                    65.66666666666666,
                    66,
                    66.33333333333333,
                    66.66666666666666,
                    67,
                    67.33333333333333,
                    67.66666666666666,
                    68,
                    68.33333333333333,
                    68.66666666666666,
                    69,
                    69.33333333333333,
                    69.66666666666666,
                    70,
                    70.33333333333333,
                    70.66666666666666,
                    71,
                    71.33333333333333,
                    71.66666666666666,
                    72,
                    72.33333333333333,
                    72.66666666666666,
                    73
                  ],
                  "y": [
                    176.36363636363635,
                    175.18181818181816,
                    174,
                    172.8181818181818,
                    171.63636363636363,
                    170.45454545454547,
                    169.27272727272728,
                    168.09090909090907,
                    166.9090909090909,
                    165.72727272727272,
                    164.54545454545453,
                    163.36363636363635,
                    162.1818181818182,
                    160.99999999999997,
                    159.81818181818184,
                    158.63636363636363,
                    157.4545454545454,
                    156.27272727272728,
                    155.09090909090907,
                    153.9090909090909,
                    152.72727272727272,
                    151.54545454545453,
                    150.36363636363635,
                    149.1818181818182,
                    148,
                    146.81818181818184,
                    145.63636363636363,
                    144.45454545454547,
                    143.27272727272728,
                    142.0909090909091,
                    140.9090909090909,
                    139.72727272727275,
                    138.54545454545456,
                    137.36363636363635,
                    136.1818181818182,
                    135,
                    133.8181818181818,
                    132.63636363636363,
                    131.45454545454547,
                    130.27272727272725,
                    129.09090909090912,
                    127.9090909090909,
                    126.7272727272727,
                    125.54545454545456,
                    124.36363636363636,
                    123.18181818181819,
                    122.00000000000001,
                    120.81818181818181,
                    119.63636363636364,
                    118.45454545454547,
                    117.27272727272727,
                    116.0909090909091,
                    114.90909090909092,
                    113.72727272727275,
                    112.54545454545453,
                    111.36363636363636,
                    110.18181818181819,
                    108.99999999999999,
                    107.81818181818181,
                    106.63636363636364,
                    105.45454545454544,
                    104.2727272727273,
                    103.0909090909091,
                    101.90909090909092,
                    100.72727272727275,
                    99.54545454545453,
                    98.36363636363636,
                    97.18181818181819,
                    95.99999999999999,
                    94.81818181818181,
                    93.63636363636364,
                    92.45454545454547,
                    91.27272727272727,
                    90.0909090909091,
                    88.90909090909092,
                    87.72727272727272,
                    86.54545454545455,
                    85.3636363636364,
                    84.18181818181816,
                    83.00000000000003,
                    81.81818181818186,
                    80.63636363636361,
                    79.45454545454547,
                    78.2727272727273,
                    77.0909090909091,
                    75.90909090909092,
                    74.72727272727275,
                    73.54545454545455,
                    72.36363636363637,
                    71.1818181818182,
                    70,
                    68.81818181818183,
                    67.63636363636365,
                    66.45454545454544,
                    65.27272727272727,
                    64.09090909090914,
                    62.90909090909089,
                    61.72727272727272,
                    60.54545454545458,
                    59.36363636363634
                  ]
                },
                {
                  "marker": {
                    "color": "red",
                    "size": 10,
                    "symbol": "circle"
                  },
                  "mode": "markers+text",
                  "showlegend": false,
                  "text": [
                    "(70, 70)"
                  ],
                  "textposition": "top right",
                  "type": "scatter",
                  "x": [
                    70
                  ],
                  "y": [
                    70
                  ]
                },
                {
                  "marker": {
                    "color": "red",
                    "size": 10,
                    "symbol": "circle"
                  },
                  "mode": "markers+text",
                  "showlegend": false,
                  "text": [
                    "(60, 70)"
                  ],
                  "textposition": "top center",
                  "type": "scatter",
                  "x": [
                    60
                  ],
                  "y": [
                    70
                  ]
                },
                {
                  "marker": {
                    "color": "red",
                    "size": 10,
                    "symbol": "circle"
                  },
                  "mode": "markers+text",
                  "showlegend": false,
                  "text": [
                    "(60, 60)"
                  ],
                  "textposition": "bottom center",
                  "type": "scatter",
                  "x": [
                    60
                  ],
                  "y": [
                    60
                  ]
                },
                {
                  "marker": {
                    "color": "red",
                    "size": 10,
                    "symbol": "circle"
                  },
                  "mode": "markers+text",
                  "showlegend": false,
                  "text": [
                    "(40, 60)"
                  ],
                  "textposition": "bottom center",
                  "type": "scatter",
                  "x": [
                    40
                  ],
                  "y": [
                    60
                  ]
                }
              ],
              "layout": {
                "annotations": [
                  {
                    "arrowcolor": "blue",
                    "arrowhead": 3,
                    "arrowsize": 1,
                    "arrowwidth": 4,
                    "ax": 40,
                    "axref": "x",
                    "ay": 60,
                    "ayref": "y",
                    "showarrow": true,
                    "x": 60,
                    "xref": "x",
                    "y": 60,
                    "yref": "y"
                  },
                  {
                    "arrowcolor": "blue",
                    "arrowhead": 3,
                    "arrowsize": 1,
                    "arrowwidth": 4,
                    "ax": 60,
                    "axref": "x",
                    "ay": 59.4,
                    "ayref": "y",
                    "showarrow": true,
                    "x": 60,
                    "xref": "x",
                    "y": 70,
                    "yref": "y"
                  },
                  {
                    "arrowcolor": "green",
                    "arrowhead": 3,
                    "arrowsize": 1,
                    "arrowwidth": 4,
                    "ax": 40,
                    "axref": "x",
                    "ay": 60,
                    "ayref": "y",
                    "showarrow": true,
                    "x": 70,
                    "xref": "x",
                    "y": 70,
                    "yref": "y"
                  },
                  {
                    "arrowcolor": "blue",
                    "arrowhead": 3,
                    "arrowsize": 1,
                    "arrowwidth": 4,
                    "ax": 60,
                    "axref": "x",
                    "ay": 70,
                    "ayref": "y",
                    "showarrow": true,
                    "x": 70,
                    "xref": "x",
                    "y": 70,
                    "yref": "y"
                  }
                ],
                "font": {
                  "size": 25
                },
                "height": 500,
                "showlegend": true,
                "template": {
                  "data": {
                    "pie": [
                      {
                        "automargin": true,
                        "type": "pie"
                      }
                    ],
                    "scatter": [
                      {
                        "line": {
                          "width": 3
                        },
                        "marker": {
                          "size": 9
                        },
                        "type": "scatter"
                      }
                    ],
                    "scatter3d": [
                      {
                        "line": {
                          "width": 3
                        },
                        "marker": {
                          "size": 9
                        },
                        "type": "scatter3d"
                      }
                    ],
                    "scattergeo": [
                      {
                        "line": {
                          "width": 3
                        },
                        "marker": {
                          "size": 9
                        },
                        "type": "scattergeo"
                      }
                    ],
                    "scattergl": [
                      {
                        "line": {
                          "width": 3
                        },
                        "marker": {
                          "size": 9
                        },
                        "type": "scattergl"
                      }
                    ],
                    "scatterpolar": [
                      {
                        "line": {
                          "width": 3
                        },
                        "marker": {
                          "size": 9
                        },
                        "type": "scatterpolar"
                      }
                    ],
                    "scatterpolargl": [
                      {
                        "line": {
                          "width": 3
                        },
                        "marker": {
                          "size": 9
                        },
                        "type": "scatterpolargl"
                      }
                    ],
                    "scatterternary": [
                      {
                        "line": {
                          "width": 3
                        },
                        "marker": {
                          "size": 9
                        },
                        "type": "scatterternary"
                      }
                    ],
                    "table": [
                      {
                        "cells": {
                          "height": 30
                        },
                        "header": {
                          "height": 36
                        },
                        "type": "table"
                      }
                    ]
                  },
                  "layout": {
                    "font": {
                      "size": 18
                    },
                    "xaxis": {
                      "title": {
                        "standoff": 15
                      }
                    },
                    "yaxis": {
                      "title": {
                        "standoff": 15
                      }
                    }
                  }
                },
                "width": 900,
                "xaxis": {
                  "range": [
                    40,
                    70
                  ],
                  "scaleanchor": "y",
                  "scaleratio": 1,
                  "showgrid": false,
                  "tickfont": {
                    "size": 1
                  }
                },
                "yaxis": {
                  "range": [
                    50,
                    75
                  ],
                  "showgrid": false,
                  "tickfont": {
                    "size": 1
                  }
                }
              }
            }
          },
          "metadata": {},
          "output_type": "display_data"
        }
      ],
      "source": [
        "import plotly.graph_objects as go\n",
        "import numpy as np\n",
        "\n",
        "# Define the elements for the plot\n",
        "x0 = np.array([40, 60])  # Point x_0\n",
        "line_slope = 0.78 / 0.22  # Slope of the line 0.78x + 0.22y = 70\n",
        "\n",
        "# Define x and y values for the line\n",
        "x_vals = np.linspace(40, 73, 100)\n",
        "y_vals = (70 - 0.78 * x_vals) / 0.22\n",
        "\n",
        "# Calculate closest point to x_0 on the line\n",
        "A = np.array([0.78, 0.22])\n",
        "b = 70\n",
        "closest_point = x0 + (b - np.dot(A, x0)) * A / np.dot(A, A)\n",
        "\n",
        "# Define points for the arrows\n",
        "p_1 = np.array([60, 60])\n",
        "p_2 = np.array([60, 70])\n",
        "p_3 = np.array([70, 70])\n",
        "\n",
        "# Create the plot\n",
        "fig = go.Figure()\n",
        "\n",
        "# Add the closest point on the line (dashed line from x_0 to the closest point)\n",
        "fig.add_trace(go.Scatter(\n",
        "    x=[x0[0], closest_point[0]],\n",
        "    y=[x0[1], closest_point[1]],\n",
        "    mode='lines',\n",
        "    line=dict(dash='dash', color='black'),\n",
        "    name='Closest Point',\n",
        "    showlegend=False\n",
        "))\n",
        "\n",
        "# Add the line 0.78x + 0.22y = 70\n",
        "fig.add_trace(go.Scatter(x=x_vals, y=y_vals, mode='lines', name='0.78x + 0.22y = 70', showlegend=False))\n",
        "\n",
        "fig.add_annotation(\n",
        "    x=p_1[0], y=p_1[1],\n",
        "    ax=x0[0], ay=x0[1],\n",
        "    xref=\"x\", yref=\"y\", axref=\"x\", ayref=\"y\",\n",
        "    showarrow=True, arrowhead=3, arrowsize=1, arrowwidth=4,\n",
        "    arrowcolor=\"blue\"\n",
        ")\n",
        "\n",
        "fig.add_annotation(\n",
        "    x=p_2[0], y=70,\n",
        "    ax=p_1[0], ay=59.4,\n",
        "    xref=\"x\", yref=\"y\", axref=\"x\", ayref=\"y\",\n",
        "    showarrow=True, arrowhead=3, arrowsize=1, arrowwidth=4,\n",
        "    arrowcolor=\"blue\"\n",
        ")\n",
        "\n",
        "fig.add_annotation(\n",
        "    x=p_3[0], y=p_3[1],\n",
        "    ax=x0[0], ay=x0[1],\n",
        "    xref=\"x\", yref=\"y\", axref=\"x\", ayref=\"y\",\n",
        "    showarrow=True, arrowhead=3, arrowsize=1, arrowwidth=4,\n",
        "    arrowcolor=\"green\"\n",
        ")\n",
        "\n",
        "fig.add_annotation(\n",
        "    x=p_3[0], y=p_3[1],\n",
        "    ax=p_2[0], ay=p_2[1],\n",
        "    xref=\"x\", yref=\"y\", axref=\"x\", ayref=\"y\",\n",
        "    showarrow=True, arrowhead=3, arrowsize=1, arrowwidth=4,\n",
        "    arrowcolor=\"blue\"\n",
        ")\n",
        "\n",
        "fig.add_trace(go.Scatter(\n",
        "    x=[70], y=[70], mode='markers+text', text=[\"(70, 70)\"], textposition=\"top right\",\n",
        "    marker=dict(symbol=\"circle\", color='red', size=10), showlegend=False\n",
        "))\n",
        "\n",
        "fig.add_trace(go.Scatter(\n",
        "    x=[60], y=[70], mode='markers+text', text=[\"(60, 70)\"], textposition=\"top center\",\n",
        "    marker=dict(symbol=\"circle\", color='red', size=10), showlegend=False\n",
        "))\n",
        "\n",
        "fig.add_trace(go.Scatter(\n",
        "    x=[60], y=[60], mode='markers+text', text=[\"(60, 60)\"], textposition=\"bottom center\",\n",
        "    marker=dict(symbol=\"circle\", color='red', size=10), showlegend=False\n",
        "))\n",
        "\n",
        "fig.add_trace(go.Scatter(\n",
        "    x=[40], y=[60], mode='markers+text', text=[\"(40, 60)\"], textposition=\"bottom center\",\n",
        "    marker=dict(symbol=\"circle\", color='red', size=10), showlegend=False\n",
        "))\n",
        "\n",
        "# Set plot layout\n",
        "fig.update_layout(\n",
        "    # xaxis_title=\"Feature 1\",\n",
        "    # yaxis_title=\"Feature 2\",\n",
        "    font=dict(size=25),\n",
        "    xaxis=dict(range=[40, 70], scaleanchor=\"y\", scaleratio=1, tickfont=dict(size=1), showgrid=False),\n",
        "    yaxis=dict(range=[50, 75], tickfont=dict(size=1), showgrid=False),\n",
        "    showlegend=True,\n",
        "    width=900,\n",
        "    height=500,\n",
        "    template='presentation'\n",
        "    # legend=dict(\n",
        "    #     orientation=\"h\",  # Horizontal layout\n",
        "    #     yanchor=\"bottom\",  # Align to the bottom of the plot area\n",
        "    #     y=1.02,  # Move above the plot\n",
        "    #     xanchor=\"center\",  # Center the legend horizontally\n",
        "    #     x=0.5,  # Position it in the middle\n",
        "    #     itemsizing='trace',  # Ensure legend markers are not scaled\n",
        "    #     font=dict(size=20),  # Increase the legend font size\n",
        "    #     itemwidth=40,  # Increase the item width to make the squares larger\n",
        "\n",
        "    # )\n",
        ")\n",
        "\n",
        "# Show plot\n",
        "fig.show()\n"
      ]
    },
    {
      "cell_type": "code",
      "execution_count": null,
      "metadata": {},
      "outputs": [],
      "source": []
    }
  ],
  "metadata": {
    "colab": {
      "provenance": []
    },
    "kernelspec": {
      "display_name": "base",
      "language": "python",
      "name": "python3"
    },
    "language_info": {
      "codemirror_mode": {
        "name": "ipython",
        "version": 3
      },
      "file_extension": ".py",
      "mimetype": "text/x-python",
      "name": "python",
      "nbconvert_exporter": "python",
      "pygments_lexer": "ipython3",
      "version": "3.9.13"
    }
  },
  "nbformat": 4,
  "nbformat_minor": 0
}
