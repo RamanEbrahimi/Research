{
  "cells": [
    {
      "cell_type": "code",
      "execution_count": 16,
      "metadata": {},
      "outputs": [
        {
          "data": {
            "application/vnd.plotly.v1+json": {
              "config": {
                "plotlyServerURL": "https://plot.ly"
              },
              "data": [
                {
                  "line": {
                    "color": "black",
                    "dash": "dash"
                  },
                  "mode": "lines",
                  "name": "Closest Point",
                  "type": "scatter",
                  "x": [
                    40,
                    70.40194884287453
                  ],
                  "y": [
                    60,
                    68.57490864799026
                  ]
                },
                {
                  "mode": "lines",
                  "name": "0.78x + 0.22y = 70",
                  "type": "scatter",
                  "x": [
                    0,
                    1.0101010101010102,
                    2.0202020202020203,
                    3.0303030303030303,
                    4.040404040404041,
                    5.050505050505051,
                    6.0606060606060606,
                    7.070707070707071,
                    8.080808080808081,
                    9.090909090909092,
                    10.101010101010102,
                    11.111111111111112,
                    12.121212121212121,
                    13.131313131313131,
                    14.141414141414142,
                    15.151515151515152,
                    16.161616161616163,
                    17.171717171717173,
                    18.181818181818183,
                    19.191919191919194,
                    20.202020202020204,
                    21.212121212121215,
                    22.222222222222225,
                    23.232323232323235,
                    24.242424242424242,
                    25.252525252525253,
                    26.262626262626263,
                    27.272727272727273,
                    28.282828282828284,
                    29.292929292929294,
                    30.303030303030305,
                    31.313131313131315,
                    32.323232323232325,
                    33.333333333333336,
                    34.343434343434346,
                    35.35353535353536,
                    36.36363636363637,
                    37.37373737373738,
                    38.38383838383839,
                    39.3939393939394,
                    40.40404040404041,
                    41.41414141414142,
                    42.42424242424243,
                    43.43434343434344,
                    44.44444444444445,
                    45.45454545454546,
                    46.46464646464647,
                    47.47474747474748,
                    48.484848484848484,
                    49.494949494949495,
                    50.505050505050505,
                    51.515151515151516,
                    52.525252525252526,
                    53.535353535353536,
                    54.54545454545455,
                    55.55555555555556,
                    56.56565656565657,
                    57.57575757575758,
                    58.58585858585859,
                    59.5959595959596,
                    60.60606060606061,
                    61.61616161616162,
                    62.62626262626263,
                    63.63636363636364,
                    64.64646464646465,
                    65.65656565656566,
                    66.66666666666667,
                    67.67676767676768,
                    68.68686868686869,
                    69.6969696969697,
                    70.70707070707071,
                    71.71717171717172,
                    72.72727272727273,
                    73.73737373737374,
                    74.74747474747475,
                    75.75757575757576,
                    76.76767676767678,
                    77.77777777777779,
                    78.7878787878788,
                    79.7979797979798,
                    80.80808080808082,
                    81.81818181818183,
                    82.82828282828284,
                    83.83838383838385,
                    84.84848484848486,
                    85.85858585858587,
                    86.86868686868688,
                    87.87878787878789,
                    88.8888888888889,
                    89.89898989898991,
                    90.90909090909092,
                    91.91919191919193,
                    92.92929292929294,
                    93.93939393939395,
                    94.94949494949496,
                    95.95959595959597,
                    96.96969696969697,
                    97.97979797979798,
                    98.98989898989899,
                    100
                  ],
                  "y": [
                    318.1818181818182,
                    314.60055096418733,
                    311.0192837465565,
                    307.43801652892563,
                    303.8567493112947,
                    300.2754820936639,
                    296.694214876033,
                    293.1129476584022,
                    289.53168044077137,
                    285.95041322314046,
                    282.3691460055096,
                    278.78787878787875,
                    275.20661157024796,
                    271.6253443526171,
                    268.0440771349862,
                    264.46280991735534,
                    260.8815426997245,
                    257.30027548209364,
                    253.7190082644628,
                    250.13774104683196,
                    246.5564738292011,
                    242.97520661157023,
                    239.39393939393938,
                    235.81267217630852,
                    232.2314049586777,
                    228.65013774104682,
                    225.06887052341597,
                    221.48760330578511,
                    217.90633608815426,
                    214.3250688705234,
                    210.74380165289256,
                    207.1625344352617,
                    203.58126721763082,
                    200,
                    196.41873278236912,
                    192.8374655647383,
                    189.25619834710741,
                    185.67493112947656,
                    182.0936639118457,
                    178.51239669421486,
                    174.93112947658403,
                    171.34986225895315,
                    167.7685950413223,
                    164.18732782369145,
                    160.6060606060606,
                    157.0247933884297,
                    153.44352617079886,
                    149.862258953168,
                    146.28099173553719,
                    142.69972451790633,
                    139.11845730027545,
                    135.5371900826446,
                    131.95592286501378,
                    128.37465564738292,
                    124.79338842975206,
                    121.2121212121212,
                    117.63085399449034,
                    114.04958677685948,
                    110.46831955922862,
                    106.88705234159777,
                    103.30578512396694,
                    99.72451790633608,
                    96.14325068870522,
                    92.56198347107436,
                    88.9807162534435,
                    85.39944903581265,
                    81.81818181818178,
                    78.23691460055093,
                    74.65564738292007,
                    71.07438016528924,
                    67.49311294765839,
                    63.91184573002752,
                    60.33057851239666,
                    56.7493112947658,
                    53.168044077134944,
                    49.58677685950409,
                    46.00550964187323,
                    42.4242424242424,
                    38.84297520661154,
                    35.26170798898068,
                    31.680440771349826,
                    28.099173553718966,
                    24.517906336088142,
                    20.93663911845725,
                    17.355371900826423,
                    13.774104683195532,
                    10.192837465564706,
                    6.611570247933813,
                    3.030303030302987,
                    -0.550964187327904,
                    -4.1322314049587305,
                    -7.713498622589557,
                    -11.294765840220448,
                    -14.876033057851275,
                    -18.457300275482165,
                    -22.038567493112993,
                    -25.61983471074382,
                    -29.201101928374644,
                    -32.782369146005536,
                    -36.36363636363637
                  ]
                },
                {
                  "marker": {
                    "color": "red",
                    "size": 10,
                    "symbol": "circle"
                  },
                  "mode": "markers+text",
                  "showlegend": false,
                  "text": [
                    "(70, 70)"
                  ],
                  "textposition": "top right",
                  "type": "scatter",
                  "x": [
                    70
                  ],
                  "y": [
                    70
                  ]
                },
                {
                  "marker": {
                    "color": "red",
                    "size": 10,
                    "symbol": "circle"
                  },
                  "mode": "markers+text",
                  "showlegend": false,
                  "text": [
                    "(60, 70)"
                  ],
                  "textposition": "top center",
                  "type": "scatter",
                  "x": [
                    60
                  ],
                  "y": [
                    70
                  ]
                },
                {
                  "marker": {
                    "color": "red",
                    "size": 10,
                    "symbol": "circle"
                  },
                  "mode": "markers+text",
                  "showlegend": false,
                  "text": [
                    "(60, 60)"
                  ],
                  "textposition": "bottom center",
                  "type": "scatter",
                  "x": [
                    60
                  ],
                  "y": [
                    60
                  ]
                },
                {
                  "marker": {
                    "color": "red",
                    "size": 10,
                    "symbol": "circle"
                  },
                  "mode": "markers+text",
                  "showlegend": false,
                  "text": [
                    "(40, 60)"
                  ],
                  "textposition": "bottom center",
                  "type": "scatter",
                  "x": [
                    40
                  ],
                  "y": [
                    60
                  ]
                }
              ],
              "layout": {
                "annotations": [
                  {
                    "arrowcolor": "blue",
                    "arrowhead": 3,
                    "arrowsize": 1,
                    "arrowwidth": 4,
                    "ax": 40,
                    "axref": "x",
                    "ay": 60,
                    "ayref": "y",
                    "showarrow": true,
                    "x": 60,
                    "xref": "x",
                    "y": 60,
                    "yref": "y"
                  },
                  {
                    "arrowcolor": "blue",
                    "arrowhead": 3,
                    "arrowsize": 1,
                    "arrowwidth": 4,
                    "ax": 60,
                    "axref": "x",
                    "ay": 59.4,
                    "ayref": "y",
                    "showarrow": true,
                    "x": 60,
                    "xref": "x",
                    "y": 70,
                    "yref": "y"
                  },
                  {
                    "arrowcolor": "green",
                    "arrowhead": 3,
                    "arrowsize": 1,
                    "arrowwidth": 4,
                    "ax": 40,
                    "axref": "x",
                    "ay": 60,
                    "ayref": "y",
                    "showarrow": true,
                    "x": 70,
                    "xref": "x",
                    "y": 70,
                    "yref": "y"
                  },
                  {
                    "arrowcolor": "blue",
                    "arrowhead": 3,
                    "arrowsize": 1,
                    "arrowwidth": 4,
                    "ax": 60,
                    "axref": "x",
                    "ay": 70,
                    "ayref": "y",
                    "showarrow": true,
                    "x": 70,
                    "xref": "x",
                    "y": 70,
                    "yref": "y"
                  }
                ],
                "height": 500,
                "legend": {
                  "font": {
                    "size": 20
                  },
                  "itemsizing": "trace",
                  "itemwidth": 40,
                  "orientation": "h",
                  "x": 0.5,
                  "xanchor": "center",
                  "y": 1.02,
                  "yanchor": "bottom"
                },
                "showlegend": true,
                "template": {
                  "data": {
                    "pie": [
                      {
                        "automargin": true,
                        "type": "pie"
                      }
                    ],
                    "scatter": [
                      {
                        "line": {
                          "width": 3
                        },
                        "marker": {
                          "size": 9
                        },
                        "type": "scatter"
                      }
                    ],
                    "scatter3d": [
                      {
                        "line": {
                          "width": 3
                        },
                        "marker": {
                          "size": 9
                        },
                        "type": "scatter3d"
                      }
                    ],
                    "scattergeo": [
                      {
                        "line": {
                          "width": 3
                        },
                        "marker": {
                          "size": 9
                        },
                        "type": "scattergeo"
                      }
                    ],
                    "scattergl": [
                      {
                        "line": {
                          "width": 3
                        },
                        "marker": {
                          "size": 9
                        },
                        "type": "scattergl"
                      }
                    ],
                    "scatterpolar": [
                      {
                        "line": {
                          "width": 3
                        },
                        "marker": {
                          "size": 9
                        },
                        "type": "scatterpolar"
                      }
                    ],
                    "scatterpolargl": [
                      {
                        "line": {
                          "width": 3
                        },
                        "marker": {
                          "size": 9
                        },
                        "type": "scatterpolargl"
                      }
                    ],
                    "scatterternary": [
                      {
                        "line": {
                          "width": 3
                        },
                        "marker": {
                          "size": 9
                        },
                        "type": "scatterternary"
                      }
                    ],
                    "table": [
                      {
                        "cells": {
                          "height": 30
                        },
                        "header": {
                          "height": 36
                        },
                        "type": "table"
                      }
                    ]
                  },
                  "layout": {
                    "font": {
                      "size": 18
                    },
                    "xaxis": {
                      "title": {
                        "standoff": 15
                      }
                    },
                    "yaxis": {
                      "title": {
                        "standoff": 15
                      }
                    }
                  }
                },
                "width": 900,
                "xaxis": {
                  "range": [
                    40,
                    70
                  ],
                  "scaleanchor": "y",
                  "scaleratio": 1,
                  "showgrid": false,
                  "tickfont": {
                    "size": 1
                  },
                  "title": {
                    "text": "Feature 1"
                  }
                },
                "yaxis": {
                  "range": [
                    50,
                    75
                  ],
                  "showgrid": false,
                  "tickfont": {
                    "size": 1
                  },
                  "title": {
                    "text": "Feature 2"
                  }
                }
              }
            }
          },
          "metadata": {},
          "output_type": "display_data"
        }
      ],
      "source": [
        "import plotly.graph_objects as go\n",
        "import numpy as np\n",
        "\n",
        "# Define the elements for the plot\n",
        "x0 = np.array([40, 60])  # Point x_0\n",
        "line_slope = 0.78 / 0.22  # Slope of the line 0.78x + 0.22y = 70\n",
        "\n",
        "# Define x and y values for the line\n",
        "x_vals = np.linspace(0, 100, 100)\n",
        "y_vals = (70 - 0.78 * x_vals) / 0.22\n",
        "\n",
        "# Calculate closest point to x_0 on the line\n",
        "A = np.array([0.78, 0.22])\n",
        "b = 70\n",
        "closest_point = x0 + (b - np.dot(A, x0)) * A / np.dot(A, A)\n",
        "\n",
        "# Define points for the arrows\n",
        "p_1 = np.array([60, 60])\n",
        "p_2 = np.array([60, 70])\n",
        "p_3 = np.array([70, 70])\n",
        "\n",
        "# Create the plot\n",
        "fig = go.Figure()\n",
        "\n",
        "# Add the closest point on the line (dashed line from x_0 to the closest point)\n",
        "fig.add_trace(go.Scatter(\n",
        "    x=[x0[0], closest_point[0]],\n",
        "    y=[x0[1], closest_point[1]],\n",
        "    mode='lines',\n",
        "    line=dict(dash='dash', color='black'),\n",
        "    name='Closest Point'\n",
        "))\n",
        "\n",
        "# Add the line 0.78x + 0.22y = 70\n",
        "fig.add_trace(go.Scatter(x=x_vals, y=y_vals, mode='lines', name='0.78x + 0.22y = 70'))\n",
        "\n",
        "fig.add_annotation(\n",
        "    x=p_1[0], y=p_1[1],\n",
        "    ax=x0[0], ay=x0[1],\n",
        "    xref=\"x\", yref=\"y\", axref=\"x\", ayref=\"y\",\n",
        "    showarrow=True, arrowhead=3, arrowsize=1, arrowwidth=4,\n",
        "    arrowcolor=\"blue\"\n",
        ")\n",
        "\n",
        "fig.add_annotation(\n",
        "    x=p_2[0], y=70,\n",
        "    ax=p_1[0], ay=59.4,\n",
        "    xref=\"x\", yref=\"y\", axref=\"x\", ayref=\"y\",\n",
        "    showarrow=True, arrowhead=3, arrowsize=1, arrowwidth=4,\n",
        "    arrowcolor=\"blue\"\n",
        ")\n",
        "\n",
        "fig.add_annotation(\n",
        "    x=p_3[0], y=p_3[1],\n",
        "    ax=x0[0], ay=x0[1],\n",
        "    xref=\"x\", yref=\"y\", axref=\"x\", ayref=\"y\",\n",
        "    showarrow=True, arrowhead=3, arrowsize=1, arrowwidth=4,\n",
        "    arrowcolor=\"green\"\n",
        ")\n",
        "\n",
        "fig.add_annotation(\n",
        "    x=p_3[0], y=p_3[1],\n",
        "    ax=p_2[0], ay=p_2[1],\n",
        "    xref=\"x\", yref=\"y\", axref=\"x\", ayref=\"y\",\n",
        "    showarrow=True, arrowhead=3, arrowsize=1, arrowwidth=4,\n",
        "    arrowcolor=\"blue\"\n",
        ")\n",
        "\n",
        "fig.add_trace(go.Scatter(\n",
        "    x=[70], y=[70], mode='markers+text', text=[\"(70, 70)\"], textposition=\"top right\",\n",
        "    marker=dict(symbol=\"circle\", color='red', size=10), showlegend=False\n",
        "))\n",
        "\n",
        "fig.add_trace(go.Scatter(\n",
        "    x=[60], y=[70], mode='markers+text', text=[\"(60, 70)\"], textposition=\"top center\",\n",
        "    marker=dict(symbol=\"circle\", color='red', size=10), showlegend=False\n",
        "))\n",
        "\n",
        "fig.add_trace(go.Scatter(\n",
        "    x=[60], y=[60], mode='markers+text', text=[\"(60, 60)\"], textposition=\"bottom center\",\n",
        "    marker=dict(symbol=\"circle\", color='red', size=10), showlegend=False\n",
        "))\n",
        "\n",
        "fig.add_trace(go.Scatter(\n",
        "    x=[40], y=[60], mode='markers+text', text=[\"(40, 60)\"], textposition=\"bottom center\",\n",
        "    marker=dict(symbol=\"circle\", color='red', size=10), showlegend=False\n",
        "))\n",
        "\n",
        "# Set plot layout\n",
        "fig.update_layout(\n",
        "    xaxis_title=\"Feature 1\",\n",
        "    yaxis_title=\"Feature 2\",\n",
        "    xaxis=dict(range=[40, 70], scaleanchor=\"y\", scaleratio=1, tickfont=dict(size=1), showgrid=False),\n",
        "    yaxis=dict(range=[50, 75], tickfont=dict(size=1), showgrid=False),\n",
        "    showlegend=True,\n",
        "    width=900,\n",
        "    height=500,\n",
        "    template='presentation',\n",
        "    legend=dict(\n",
        "        orientation=\"h\",  # Horizontal layout\n",
        "        yanchor=\"bottom\",  # Align to the bottom of the plot area\n",
        "        y=1.02,  # Move above the plot\n",
        "        xanchor=\"center\",  # Center the legend horizontally\n",
        "        x=0.5,  # Position it in the middle\n",
        "        itemsizing='trace',  # Ensure legend markers are not scaled\n",
        "        font=dict(size=20),  # Increase the legend font size\n",
        "        itemwidth=40,  # Increase the item width to make the squares larger\n",
        "\n",
        "    )\n",
        ")\n",
        "\n",
        "# Show plot\n",
        "fig.show()\n"
      ]
    },
    {
      "cell_type": "code",
      "execution_count": null,
      "metadata": {},
      "outputs": [],
      "source": []
    }
  ],
  "metadata": {
    "colab": {
      "provenance": []
    },
    "kernelspec": {
      "display_name": "base",
      "language": "python",
      "name": "python3"
    },
    "language_info": {
      "codemirror_mode": {
        "name": "ipython",
        "version": 3
      },
      "file_extension": ".py",
      "mimetype": "text/x-python",
      "name": "python",
      "nbconvert_exporter": "python",
      "pygments_lexer": "ipython3",
      "version": "3.9.13"
    }
  },
  "nbformat": 4,
  "nbformat_minor": 0
}
