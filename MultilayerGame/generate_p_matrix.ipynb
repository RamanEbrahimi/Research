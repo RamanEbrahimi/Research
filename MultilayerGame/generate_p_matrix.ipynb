{
  "cells": [
    {
      "cell_type": "code",
      "execution_count": 1,
      "metadata": {
        "id": "dnCLC6t5O9a8"
      },
      "outputs": [],
      "source": [
        "import numpy as np\n",
        "import pandas as pd\n",
        "import networkx as nx\n",
        "import matplotlib.pyplot as plt\n",
        "%matplotlib inline\n",
        "from scipy.linalg import eigvals\n",
        "from itertools import combinations"
      ]
    },
    {
      "cell_type": "code",
      "execution_count": 2,
      "metadata": {},
      "outputs": [],
      "source": [
        "def generate_subsets(n):\n",
        "    # Generate all possible subsets of size 1 to n.\n",
        "    for size in range(1, n + 1):\n",
        "        for subset in combinations(range(n), size):\n",
        "            yield subset\n",
        "            # print(subset)\n",
        "\n",
        "def check_p(matrix):\n",
        "    n = len(matrix)\n",
        "\n",
        "    # Compute the determinant of the whole matrix first.\n",
        "    determinant = np.linalg.det(matrix)\n",
        "    if determinant <= 0:\n",
        "        return False  # Return immediately if the whole matrix has a non-positive determinant\n",
        "\n",
        "    # Check the determinants of diagonal elements (smallest subset) next.\n",
        "    for i in range(n):\n",
        "        submatrix = matrix[i, i]\n",
        "        if submatrix <= 0:\n",
        "            return False  # Return immediately if any diagonal element is non-positive\n",
        "\n",
        "    # Initialize the generator to get subsets.\n",
        "    subset_generator = generate_subsets(n)\n",
        "\n",
        "    # Check the determinants of other subsets.\n",
        "    for subset in subset_generator:\n",
        "        if len(subset) > 1:\n",
        "            submatrix = matrix[np.ix_(subset, subset)]\n",
        "            determinant = np.linalg.det(submatrix)\n",
        "            if determinant <= 0:\n",
        "                return False  # Return immediately if a non-positive determinant is found\n",
        "\n",
        "    return True # Return True if all determinants are positive\n"
      ]
    },
    {
      "cell_type": "code",
      "execution_count": 3,
      "metadata": {},
      "outputs": [],
      "source": [
        "# def generate_non_symmetric_matrix(n):\n",
        "#     # Generate a random matrix with values between -1 and 1\n",
        "#     matrix = np.random.uniform(-1, 1, (n, n))\n",
        "\n",
        "#     # Set diagonal elements to 1\n",
        "#     np.fill_diagonal(matrix, 1)\n",
        "\n",
        "#     # Check sub-matrix determinants and adjust as needed\n",
        "#     for i in range(n):\n",
        "#         for j in range(i + 1, n):\n",
        "#             sub_matrix = matrix[:j+1, :j+1]  # Extract sub-matrix\n",
        "#             while np.linalg.det(sub_matrix) < 0:\n",
        "#                 # Find a random element in the sub-matrix\n",
        "#                 row_idx, col_idx = np.random.randint(0, j+1), np.random.randint(0, j+1)\n",
        "#                 # Flip the sign of the element\n",
        "#                 matrix[row_idx, col_idx] *= -1\n",
        "    \n",
        "#     return matrix\n",
        "\n",
        "# # Define the size of the matrix (change n to your desired value)\n",
        "# n = 10\n",
        "# result_matrix = generate_non_symmetric_matrix(n)\n",
        "# print(result_matrix)\n",
        "\n",
        "def generate_matrix(n):\n",
        "    # Generate a random matrix with values between -1 and 1\n",
        "    matrix = np.random.uniform(-1, 1, (n, n))\n",
        "\n",
        "    # Set diagonal elements to 1\n",
        "    np.fill_diagonal(matrix, 1)\n",
        "    \n",
        "    return matrix\n"
      ]
    },
    {
      "cell_type": "code",
      "execution_count": 6,
      "metadata": {},
      "outputs": [
        {
          "name": "stdout",
          "output_type": "stream",
          "text": [
            "layers have a unique NE and so does the Multiplex:  1000\n",
            "layers have a unique NE but the Multiplex does not:  0\n",
            "one layer has a unique NE and so does the Multiplex:  0\n",
            "no layer has a unique NE but the Multiplex does:  0\n"
          ]
        }
      ],
      "source": [
        "n = 10\n",
        "iterations = 1000\n",
        "kappa = 0.5\n",
        "all_p = 0\n",
        "G1_p_G2_p_G_n = 0\n",
        "G1_n_G2_p_G_p = 0\n",
        "G1_n_G2_n_G_p = 0\n",
        "\n",
        "for i in range(iterations):\n",
        "    G1 = generate_matrix(n)\n",
        "    G2 = generate_matrix(n)\n",
        "    G = kappa * G1 + (1 - kappa) * G2\n",
        "    result1 = check_p(G1)\n",
        "    result2 = check_p(G2)\n",
        "    result = check_p(G)\n",
        "    if result1 and result2 and result:\n",
        "        all_p += 1\n",
        "    elif result1 and result2 and not result:\n",
        "        G1_p_G2_p_G_n += 1\n",
        "    elif result1 and not result2 and result or not result1 and result2 and result:\n",
        "        G1_n_G2_p_G_p += 1\n",
        "    elif not result1 and not result2 and result:\n",
        "        G1_n_G2_n_G_p += 1\n",
        "\n",
        "    \n",
        "print(\"layers have a unique NE and so does the Multiplex: \", all_p)\n",
        "print(\"layers have a unique NE but the Multiplex does not: \", G1_p_G2_p_G_n)\n",
        "print(\"one layer has a unique NE and so does the Multiplex: \", G1_n_G2_p_G_p)\n",
        "print(\"no layer has a unique NE but the Multiplex does: \", G1_n_G2_n_G_p)"
      ]
    }
  ],
  "metadata": {
    "colab": {
      "provenance": []
    },
    "kernelspec": {
      "display_name": "Python 3",
      "language": "python",
      "name": "python3"
    },
    "language_info": {
      "codemirror_mode": {
        "name": "ipython",
        "version": 3
      },
      "file_extension": ".py",
      "mimetype": "text/x-python",
      "name": "python",
      "nbconvert_exporter": "python",
      "pygments_lexer": "ipython3",
      "version": "3.9.13"
    },
    "orig_nbformat": 4,
    "vscode": {
      "interpreter": {
        "hash": "aee8b7b246df8f9039afb4144a1f6fd8d2ca17a180786b69acc140d282b71a49"
      }
    }
  },
  "nbformat": 4,
  "nbformat_minor": 0
}
