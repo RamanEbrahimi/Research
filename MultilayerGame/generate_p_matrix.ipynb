{
  "cells": [
    {
      "cell_type": "code",
      "execution_count": 1,
      "metadata": {
        "id": "dnCLC6t5O9a8"
      },
      "outputs": [],
      "source": [
        "import numpy as np\n",
        "import pandas as pd\n",
        "import networkx as nx\n",
        "import matplotlib.pyplot as plt\n",
        "%matplotlib inline\n",
        "from scipy.linalg import eigvals\n",
        "from itertools import combinations"
      ]
    },
    {
      "cell_type": "code",
      "execution_count": 2,
      "metadata": {},
      "outputs": [],
      "source": [
        "def generate_subsets(n):\n",
        "    # Generate all possible subsets of size 1 to n.\n",
        "    for size in range(1, n + 1):\n",
        "        for subset in combinations(range(n), size):\n",
        "            yield subset\n",
        "            # print(subset)\n",
        "\n",
        "def check_p(matrix):\n",
        "    n = len(matrix)\n",
        "\n",
        "    # Compute the determinant of the whole matrix first.\n",
        "    determinant = np.linalg.det(matrix)\n",
        "    if determinant <= 0:\n",
        "        return \"Not a p-matrix\"  # Return immediately if the whole matrix has a non-positive determinant\n",
        "\n",
        "    # Check the determinants of diagonal elements (smallest subset) next.\n",
        "    for i in range(n):\n",
        "        submatrix = matrix[i, i]\n",
        "        if submatrix <= 0:\n",
        "            return \"Not a p-matrix\"  # Return immediately if any diagonal element is non-positive\n",
        "\n",
        "    # Initialize the generator to get subsets.\n",
        "    subset_generator = generate_subsets(n)\n",
        "\n",
        "    # Check the determinants of other subsets.\n",
        "    for subset in subset_generator:\n",
        "        if len(subset) > 1:\n",
        "            submatrix = matrix[np.ix_(subset, subset)]\n",
        "            determinant = np.linalg.det(submatrix)\n",
        "            if determinant <= 0:\n",
        "                return \"Not a p-matrix\"  # Return immediately if a non-positive determinant is found\n",
        "\n",
        "    return \"All principal minors are positive -> p-matrix\"\n"
      ]
    },
    {
      "cell_type": "code",
      "execution_count": 4,
      "metadata": {},
      "outputs": [
        {
          "name": "stdout",
          "output_type": "stream",
          "text": [
            "[[ 1.         -0.17863315  0.05221453  0.91410272  0.70620495  0.3580923\n",
            "   0.89545707  0.43216547 -0.82933604  0.91879427]\n",
            " [-0.6748118   1.         -0.33100264  0.61621045 -0.2666039  -0.25603109\n",
            "   0.34319887  0.98726942 -0.86216542 -0.63585693]\n",
            " [-0.94676594 -0.83190741  1.          0.99812274 -0.48292894 -0.260472\n",
            "  -0.1868698   0.61879945 -0.15239615 -0.64795202]\n",
            " [-0.34587918 -0.31107598  0.31036253  1.         -0.07570927 -0.30787145\n",
            "   0.59279649 -0.98097998 -0.12719642 -0.78584564]\n",
            " [-0.65348966 -0.4024412   0.31007921  0.69804764  1.          0.64690216\n",
            "  -0.33139064  0.69508642 -0.99775764  0.5391532 ]\n",
            " [-0.47429664 -0.5475119  -0.3920254   0.82810538  0.53286766  1.\n",
            "   0.05707014 -0.87856436  0.04851886  0.30295223]\n",
            " [ 0.21525069 -0.91963797  0.09677809  0.53576152 -0.00470704  0.94205666\n",
            "   1.          0.68244322 -0.06817725  0.03734771]\n",
            " [ 0.70488668  0.36298922 -0.66415734 -0.39174758 -0.64872974  0.16608946\n",
            "   0.32141385  1.         -0.36172951 -0.34177064]\n",
            " [ 0.31866753  0.08146615  0.22132535 -0.55308358  0.18946888 -0.301137\n",
            "   0.31538097  0.72282648  1.          0.69330847]\n",
            " [-0.51860733 -0.83629272 -0.46633826 -0.05594217 -0.56782082  0.85265262\n",
            "   0.21531203  0.22726052 -0.29461776  1.        ]]\n"
          ]
        }
      ],
      "source": [
        "import numpy as np\n",
        "\n",
        "def generate_non_symmetric_matrix(n):\n",
        "    # Generate a random matrix with values between -1 and 1\n",
        "    matrix = np.random.uniform(-1, 1, (n, n))\n",
        "\n",
        "    # Set diagonal elements to 1\n",
        "    np.fill_diagonal(matrix, 1)\n",
        "\n",
        "    # Check sub-matrix determinants and adjust as needed\n",
        "    for i in range(n):\n",
        "        for j in range(i + 1, n):\n",
        "            sub_matrix = matrix[:j+1, :j+1]  # Extract sub-matrix\n",
        "            while np.linalg.det(sub_matrix) < 0:\n",
        "                # Find a random element in the sub-matrix\n",
        "                row_idx, col_idx = np.random.randint(0, j+1), np.random.randint(0, j+1)\n",
        "                # Flip the sign of the element\n",
        "                matrix[row_idx, col_idx] *= -1\n",
        "    \n",
        "    return matrix\n",
        "\n",
        "# Define the size of the matrix (change n to your desired value)\n",
        "n = 10\n",
        "result_matrix = generate_non_symmetric_matrix(n)\n",
        "print(result_matrix)"
      ]
    },
    {
      "cell_type": "code",
      "execution_count": 4,
      "metadata": {},
      "outputs": [
        {
          "name": "stdout",
          "output_type": "stream",
          "text": [
            "Original Matrix:\n",
            "[[ 1.          0.41180866 -0.95501689  0.33562446]\n",
            " [-0.72924636  1.          0.04034673 -0.12964737]\n",
            " [ 0.14018943  0.19382237  1.         -0.62063751]\n",
            " [-0.50179487  0.48002998 -0.30126106  1.        ]]\n",
            "\n",
            "Schur Complement:\n",
            "[[ 1.         -0.62063751]\n",
            " [-0.30126106  1.        ]]\n"
          ]
        }
      ],
      "source": [
        "def schur_complement(matrix, block_indices):\n",
        "    A = matrix[block_indices[0]:block_indices[1], block_indices[0]:block_indices[1]]\n",
        "    B = matrix[block_indices[0]:block_indices[1], block_indices[1]:]\n",
        "    C = matrix[block_indices[1]:, block_indices[0]:block_indices[1]]\n",
        "    D = matrix[block_indices[1]:, block_indices[1]:]\n",
        "\n",
        "    inv_D = np.linalg.inv(D)\n",
        "    S = A - B @ inv_D @ C\n",
        "\n",
        "    return S\n",
        "\n",
        "# Create a random 4x4 matrix\n",
        "matrix = generate_non_symmetric_matrix(4)\n",
        "\n",
        "# Define the block indices for partitioning (e.g., block at row 2 and column 2)\n",
        "block_indices = (2, 4)\n",
        "\n",
        "# Compute the Schur complement\n",
        "schur_matrix = schur_complement(matrix, block_indices)\n",
        "\n",
        "print(\"Original Matrix:\")\n",
        "print(matrix)\n",
        "\n",
        "print(\"\\nSchur Complement:\")\n",
        "print(schur_matrix)"
      ]
    },
    {
      "cell_type": "code",
      "execution_count": 5,
      "metadata": {},
      "outputs": [
        {
          "data": {
            "text/plain": [
              "'All principal minors are positive -> p-matrix'"
            ]
          },
          "execution_count": 5,
          "metadata": {},
          "output_type": "execute_result"
        }
      ],
      "source": [
        "check_p(result_matrix)"
      ]
    },
    {
      "cell_type": "code",
      "execution_count": 10,
      "metadata": {},
      "outputs": [
        {
          "ename": "KeyboardInterrupt",
          "evalue": "",
          "output_type": "error",
          "traceback": [
            "\u001b[0;31m---------------------------------------------------------------------------\u001b[0m",
            "\u001b[0;31mKeyboardInterrupt\u001b[0m                         Traceback (most recent call last)",
            "\u001b[0;32m/var/folders/hs/y116vr4j4yg5fcthw_l99c5r0000gn/T/ipykernel_1552/4099664493.py\u001b[0m in \u001b[0;36m<module>\u001b[0;34m\u001b[0m\n\u001b[1;32m      1\u001b[0m \u001b[0mn\u001b[0m \u001b[0;34m=\u001b[0m \u001b[0;36m50\u001b[0m\u001b[0;34m\u001b[0m\u001b[0;34m\u001b[0m\u001b[0m\n\u001b[1;32m      2\u001b[0m \u001b[0;32mwhile\u001b[0m \u001b[0mcheck_p\u001b[0m\u001b[0;34m(\u001b[0m\u001b[0mresult_matrix\u001b[0m\u001b[0;34m)\u001b[0m \u001b[0;34m==\u001b[0m \u001b[0;34m\"Not a p-matrix\"\u001b[0m\u001b[0;34m:\u001b[0m\u001b[0;34m\u001b[0m\u001b[0;34m\u001b[0m\u001b[0m\n\u001b[0;32m----> 3\u001b[0;31m     \u001b[0mresult_matrix\u001b[0m \u001b[0;34m=\u001b[0m \u001b[0mgenerate_non_symmetric_matrix\u001b[0m\u001b[0;34m(\u001b[0m\u001b[0mn\u001b[0m\u001b[0;34m)\u001b[0m\u001b[0;34m\u001b[0m\u001b[0;34m\u001b[0m\u001b[0m\n\u001b[0m\u001b[1;32m      4\u001b[0m     \u001b[0mcheck_p\u001b[0m\u001b[0;34m(\u001b[0m\u001b[0mresult_matrix\u001b[0m\u001b[0;34m)\u001b[0m\u001b[0;34m\u001b[0m\u001b[0;34m\u001b[0m\u001b[0m\n",
            "\u001b[0;32m/var/folders/hs/y116vr4j4yg5fcthw_l99c5r0000gn/T/ipykernel_1552/3393498181.py\u001b[0m in \u001b[0;36mgenerate_non_symmetric_matrix\u001b[0;34m(n)\u001b[0m\n\u001b[1;32m     12\u001b[0m         \u001b[0;32mfor\u001b[0m \u001b[0mj\u001b[0m \u001b[0;32min\u001b[0m \u001b[0mrange\u001b[0m\u001b[0;34m(\u001b[0m\u001b[0mi\u001b[0m \u001b[0;34m+\u001b[0m \u001b[0;36m1\u001b[0m\u001b[0;34m,\u001b[0m \u001b[0mn\u001b[0m\u001b[0;34m)\u001b[0m\u001b[0;34m:\u001b[0m\u001b[0;34m\u001b[0m\u001b[0;34m\u001b[0m\u001b[0m\n\u001b[1;32m     13\u001b[0m             \u001b[0msub_matrix\u001b[0m \u001b[0;34m=\u001b[0m \u001b[0mmatrix\u001b[0m\u001b[0;34m[\u001b[0m\u001b[0;34m:\u001b[0m\u001b[0mj\u001b[0m\u001b[0;34m+\u001b[0m\u001b[0;36m1\u001b[0m\u001b[0;34m,\u001b[0m \u001b[0;34m:\u001b[0m\u001b[0mj\u001b[0m\u001b[0;34m+\u001b[0m\u001b[0;36m1\u001b[0m\u001b[0;34m]\u001b[0m  \u001b[0;31m# Extract sub-matrix\u001b[0m\u001b[0;34m\u001b[0m\u001b[0;34m\u001b[0m\u001b[0m\n\u001b[0;32m---> 14\u001b[0;31m             \u001b[0;32mwhile\u001b[0m \u001b[0mnp\u001b[0m\u001b[0;34m.\u001b[0m\u001b[0mlinalg\u001b[0m\u001b[0;34m.\u001b[0m\u001b[0mdet\u001b[0m\u001b[0;34m(\u001b[0m\u001b[0msub_matrix\u001b[0m\u001b[0;34m)\u001b[0m \u001b[0;34m<\u001b[0m \u001b[0;36m0\u001b[0m\u001b[0;34m:\u001b[0m\u001b[0;34m\u001b[0m\u001b[0;34m\u001b[0m\u001b[0m\n\u001b[0m\u001b[1;32m     15\u001b[0m                 \u001b[0;31m# Find a random element in the sub-matrix\u001b[0m\u001b[0;34m\u001b[0m\u001b[0;34m\u001b[0m\u001b[0m\n\u001b[1;32m     16\u001b[0m                 \u001b[0mrow_idx\u001b[0m\u001b[0;34m,\u001b[0m \u001b[0mcol_idx\u001b[0m \u001b[0;34m=\u001b[0m \u001b[0mnp\u001b[0m\u001b[0;34m.\u001b[0m\u001b[0mrandom\u001b[0m\u001b[0;34m.\u001b[0m\u001b[0mrandint\u001b[0m\u001b[0;34m(\u001b[0m\u001b[0;36m0\u001b[0m\u001b[0;34m,\u001b[0m \u001b[0mj\u001b[0m\u001b[0;34m+\u001b[0m\u001b[0;36m1\u001b[0m\u001b[0;34m)\u001b[0m\u001b[0;34m,\u001b[0m \u001b[0mnp\u001b[0m\u001b[0;34m.\u001b[0m\u001b[0mrandom\u001b[0m\u001b[0;34m.\u001b[0m\u001b[0mrandint\u001b[0m\u001b[0;34m(\u001b[0m\u001b[0;36m0\u001b[0m\u001b[0;34m,\u001b[0m \u001b[0mj\u001b[0m\u001b[0;34m+\u001b[0m\u001b[0;36m1\u001b[0m\u001b[0;34m)\u001b[0m\u001b[0;34m\u001b[0m\u001b[0;34m\u001b[0m\u001b[0m\n",
            "\u001b[0;32m<__array_function__ internals>\u001b[0m in \u001b[0;36mdet\u001b[0;34m(*args, **kwargs)\u001b[0m\n",
            "\u001b[0;32m~/opt/anaconda3/lib/python3.9/site-packages/numpy/linalg/linalg.py\u001b[0m in \u001b[0;36mdet\u001b[0;34m(a)\u001b[0m\n\u001b[1;32m   2153\u001b[0m     \u001b[0ma\u001b[0m \u001b[0;34m=\u001b[0m \u001b[0masarray\u001b[0m\u001b[0;34m(\u001b[0m\u001b[0ma\u001b[0m\u001b[0;34m)\u001b[0m\u001b[0;34m\u001b[0m\u001b[0;34m\u001b[0m\u001b[0m\n\u001b[1;32m   2154\u001b[0m     \u001b[0m_assert_stacked_2d\u001b[0m\u001b[0;34m(\u001b[0m\u001b[0ma\u001b[0m\u001b[0;34m)\u001b[0m\u001b[0;34m\u001b[0m\u001b[0;34m\u001b[0m\u001b[0m\n\u001b[0;32m-> 2155\u001b[0;31m     \u001b[0m_assert_stacked_square\u001b[0m\u001b[0;34m(\u001b[0m\u001b[0ma\u001b[0m\u001b[0;34m)\u001b[0m\u001b[0;34m\u001b[0m\u001b[0;34m\u001b[0m\u001b[0m\n\u001b[0m\u001b[1;32m   2156\u001b[0m     \u001b[0mt\u001b[0m\u001b[0;34m,\u001b[0m \u001b[0mresult_t\u001b[0m \u001b[0;34m=\u001b[0m \u001b[0m_commonType\u001b[0m\u001b[0;34m(\u001b[0m\u001b[0ma\u001b[0m\u001b[0;34m)\u001b[0m\u001b[0;34m\u001b[0m\u001b[0;34m\u001b[0m\u001b[0m\n\u001b[1;32m   2157\u001b[0m     \u001b[0msignature\u001b[0m \u001b[0;34m=\u001b[0m \u001b[0;34m'D->D'\u001b[0m \u001b[0;32mif\u001b[0m \u001b[0misComplexType\u001b[0m\u001b[0;34m(\u001b[0m\u001b[0mt\u001b[0m\u001b[0;34m)\u001b[0m \u001b[0;32melse\u001b[0m \u001b[0;34m'd->d'\u001b[0m\u001b[0;34m\u001b[0m\u001b[0;34m\u001b[0m\u001b[0m\n",
            "\u001b[0;32m~/opt/anaconda3/lib/python3.9/site-packages/numpy/linalg/linalg.py\u001b[0m in \u001b[0;36m_assert_stacked_square\u001b[0;34m(*arrays)\u001b[0m\n\u001b[1;32m    197\u001b[0m                     'at least two-dimensional' % a.ndim)\n\u001b[1;32m    198\u001b[0m \u001b[0;34m\u001b[0m\u001b[0m\n\u001b[0;32m--> 199\u001b[0;31m \u001b[0;32mdef\u001b[0m \u001b[0m_assert_stacked_square\u001b[0m\u001b[0;34m(\u001b[0m\u001b[0;34m*\u001b[0m\u001b[0marrays\u001b[0m\u001b[0;34m)\u001b[0m\u001b[0;34m:\u001b[0m\u001b[0;34m\u001b[0m\u001b[0;34m\u001b[0m\u001b[0m\n\u001b[0m\u001b[1;32m    200\u001b[0m     \u001b[0;32mfor\u001b[0m \u001b[0ma\u001b[0m \u001b[0;32min\u001b[0m \u001b[0marrays\u001b[0m\u001b[0;34m:\u001b[0m\u001b[0;34m\u001b[0m\u001b[0;34m\u001b[0m\u001b[0m\n\u001b[1;32m    201\u001b[0m         \u001b[0mm\u001b[0m\u001b[0;34m,\u001b[0m \u001b[0mn\u001b[0m \u001b[0;34m=\u001b[0m \u001b[0ma\u001b[0m\u001b[0;34m.\u001b[0m\u001b[0mshape\u001b[0m\u001b[0;34m[\u001b[0m\u001b[0;34m-\u001b[0m\u001b[0;36m2\u001b[0m\u001b[0;34m:\u001b[0m\u001b[0;34m]\u001b[0m\u001b[0;34m\u001b[0m\u001b[0;34m\u001b[0m\u001b[0m\n",
            "\u001b[0;31mKeyboardInterrupt\u001b[0m: "
          ]
        }
      ],
      "source": [
        "n = 50\n",
        "while check_p(result_matrix) == \"Not a p-matrix\":\n",
        "    result_matrix = generate_non_symmetric_matrix(n)\n",
        "    check_p(result_matrix)"
      ]
    }
  ],
  "metadata": {
    "colab": {
      "provenance": []
    },
    "kernelspec": {
      "display_name": "Python 3",
      "language": "python",
      "name": "python3"
    },
    "language_info": {
      "codemirror_mode": {
        "name": "ipython",
        "version": 3
      },
      "file_extension": ".py",
      "mimetype": "text/x-python",
      "name": "python",
      "nbconvert_exporter": "python",
      "pygments_lexer": "ipython3",
      "version": "3.9.13"
    },
    "orig_nbformat": 4,
    "vscode": {
      "interpreter": {
        "hash": "aee8b7b246df8f9039afb4144a1f6fd8d2ca17a180786b69acc140d282b71a49"
      }
    }
  },
  "nbformat": 4,
  "nbformat_minor": 0
}
