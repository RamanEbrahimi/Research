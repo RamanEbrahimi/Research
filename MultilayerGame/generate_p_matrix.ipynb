{
  "cells": [
    {
      "cell_type": "code",
      "execution_count": 1,
      "metadata": {
        "id": "dnCLC6t5O9a8"
      },
      "outputs": [],
      "source": [
        "import numpy as np\n",
        "import pandas as pd\n",
        "import networkx as nx\n",
        "import matplotlib.pyplot as plt\n",
        "%matplotlib inline\n",
        "from scipy.linalg import eigvals"
      ]
    },
    {
      "cell_type": "code",
      "execution_count": 7,
      "metadata": {},
      "outputs": [],
      "source": [
        "# checking if a matrix is p-matrix\n",
        "import numpy as np\n",
        "from itertools import combinations\n",
        "import pandas as pd\n",
        "\n",
        "def generate_subsets(n):\n",
        "    # Generate all possible subsets of size 1 to n.\n",
        "    for size in range(1, n + 1):\n",
        "        for subset in combinations(range(n), size):\n",
        "            yield subset\n",
        "            # print(subset)\n",
        "\n",
        "def check_p(matrix):\n",
        "    n = len(matrix)\n",
        "\n",
        "    # Compute the determinant of the whole matrix first.\n",
        "    determinant = np.linalg.det(matrix)\n",
        "    if determinant <= 0:\n",
        "        return \"Not a p-matrix\"  # Return immediately if the whole matrix has a non-positive determinant\n",
        "\n",
        "    # Check the determinants of diagonal elements (smallest subset) next.\n",
        "    for i in range(n):\n",
        "        submatrix = matrix[i, i]\n",
        "        if submatrix <= 0:\n",
        "            return \"Not a p-matrix\"  # Return immediately if any diagonal element is non-positive\n",
        "\n",
        "    # Initialize the generator to get subsets.\n",
        "    subset_generator = generate_subsets(n)\n",
        "\n",
        "    # Check the determinants of other subsets.\n",
        "    for subset in subset_generator:\n",
        "        if len(subset) > 1:\n",
        "            submatrix = matrix[np.ix_(subset, subset)]\n",
        "            determinant = np.linalg.det(submatrix)\n",
        "            if determinant <= 0:\n",
        "                return \"Not a p-matrix\"  # Return immediately if a non-positive determinant is found\n",
        "\n",
        "    return \"All principal minors are positive -> p-matrix\"\n"
      ]
    },
    {
      "cell_type": "code",
      "execution_count": 8,
      "metadata": {},
      "outputs": [
        {
          "name": "stdout",
          "output_type": "stream",
          "text": [
            "[[ 1.          0.35535211  0.54990837  0.18605189]\n",
            " [-0.19747944  1.          0.80191627 -0.81793347]\n",
            " [-0.99081524 -0.89966169  1.         -0.98655034]\n",
            " [-0.79146721  0.87756217 -0.66432958  1.        ]]\n"
          ]
        }
      ],
      "source": [
        "import numpy as np\n",
        "\n",
        "def generate_non_symmetric_matrix(n):\n",
        "    # Generate a random matrix with values between -1 and 1\n",
        "    matrix = np.random.uniform(-1, 1, (n, n))\n",
        "\n",
        "    # Set diagonal elements to 1\n",
        "    np.fill_diagonal(matrix, 1)\n",
        "\n",
        "    # Check sub-matrix determinants and adjust as needed\n",
        "    for i in range(n):\n",
        "        for j in range(i + 1, n):\n",
        "            sub_matrix = matrix[:j+1, :j+1]  # Extract sub-matrix\n",
        "            while np.linalg.det(sub_matrix) < 0:\n",
        "                # Find a random element in the sub-matrix\n",
        "                row_idx, col_idx = np.random.randint(0, j+1), np.random.randint(0, j+1)\n",
        "                # Flip the sign of the element\n",
        "                matrix[row_idx, col_idx] *= -1\n",
        "    \n",
        "    return matrix\n",
        "\n",
        "# Define the size of the matrix (change n to your desired value)\n",
        "n = 4\n",
        "result_matrix = generate_non_symmetric_matrix(n)\n",
        "print(result_matrix)"
      ]
    },
    {
      "cell_type": "code",
      "execution_count": 20,
      "metadata": {},
      "outputs": [
        {
          "name": "stdout",
          "output_type": "stream",
          "text": [
            "Original Matrix:\n",
            "[[ 1.          0.17275446  0.00698661  0.62637853]\n",
            " [-0.884951    1.          0.06665338  0.33791885]\n",
            " [-0.17629458  0.22182929  1.          0.16269795]\n",
            " [-0.69268878  0.88167653  0.56353493  1.        ]]\n",
            "\n",
            "Schur Complement:\n",
            "[[1.         0.16269795]\n",
            " [0.56353493 1.        ]]\n"
          ]
        }
      ],
      "source": [
        "def schur_complement(matrix, block_indices):\n",
        "    A = matrix[block_indices[0]:block_indices[1], block_indices[0]:block_indices[1]]\n",
        "    B = matrix[block_indices[0]:block_indices[1], block_indices[1]:]\n",
        "    C = matrix[block_indices[1]:, block_indices[0]:block_indices[1]]\n",
        "    D = matrix[block_indices[1]:, block_indices[1]:]\n",
        "\n",
        "    inv_D = np.linalg.inv(D)\n",
        "    S = A - B @ inv_D @ C\n",
        "\n",
        "    return S\n",
        "\n",
        "# Create a random 4x4 matrix\n",
        "matrix = generate_non_symmetric_matrix(4)\n",
        "\n",
        "# Define the block indices for partitioning (e.g., block at row 2 and column 2)\n",
        "block_indices = (2, 4)\n",
        "\n",
        "# Compute the Schur complement\n",
        "schur_matrix = schur_complement(matrix, block_indices)\n",
        "\n",
        "print(\"Original Matrix:\")\n",
        "print(matrix)\n",
        "\n",
        "print(\"\\nSchur Complement:\")\n",
        "print(schur_matrix)"
      ]
    },
    {
      "cell_type": "code",
      "execution_count": 21,
      "metadata": {},
      "outputs": [
        {
          "data": {
            "text/plain": [
              "'All principal minors are positive -> p-matrix'"
            ]
          },
          "execution_count": 21,
          "metadata": {},
          "output_type": "execute_result"
        }
      ],
      "source": [
        "check_p(result_matrix)"
      ]
    },
    {
      "cell_type": "code",
      "execution_count": 22,
      "metadata": {},
      "outputs": [
        {
          "data": {
            "text/plain": [
              "'All principal minors are positive -> p-matrix'"
            ]
          },
          "execution_count": 22,
          "metadata": {},
          "output_type": "execute_result"
        }
      ],
      "source": [
        "block_indices = (2, 4)\n",
        "schur_comp = schur_complement(result_matrix, block_indices)\n",
        "check_p(schur_comp)"
      ]
    },
    {
      "cell_type": "code",
      "execution_count": 25,
      "metadata": {},
      "outputs": [
        {
          "name": "stdout",
          "output_type": "stream",
          "text": [
            "No P-matrix with a non-P-matrix Schur complement found after 100000 attempts.\n"
          ]
        }
      ],
      "source": [
        "def find_p_matrix_with_non_p_schur(n, max_attempts=100000):\n",
        "    for _ in range(max_attempts):\n",
        "        # Generate a random n x n matrix with positive elements\n",
        "        matrix = generate_non_symmetric_matrix(n)\n",
        "\n",
        "        # Check if the generated matrix is a P-matrix\n",
        "        if not check_p(matrix):\n",
        "            print(\"Generated matrix is not a P-matrix.\")\n",
        "            return matrix\n",
        "\n",
        "        # Define the block indices for partitioning\n",
        "        block_indices = (n // 2, n)\n",
        "\n",
        "        # Compute the Schur complement\n",
        "        schur_matrix = schur_complement(matrix, block_indices)\n",
        "\n",
        "        # Check if the Schur complement is a P-matrix\n",
        "        if not check_p(schur_matrix):\n",
        "            print(\"Generated P-matrix has a non-P-matrix Schur complement.\")\n",
        "            print(\"Generated P-matrix:\")\n",
        "            print(matrix)\n",
        "            print(\"\\nSchur Complement:\")\n",
        "            print(schur_matrix)\n",
        "            return matrix\n",
        "\n",
        "    print(\"No P-matrix with a non-P-matrix Schur complement found after\", max_attempts, \"attempts.\")\n",
        "    return None\n",
        "\n",
        "# Example usage:\n",
        "n = 20  # Adjust the size of the matrix as needed\n",
        "p_matrix = find_p_matrix_with_non_p_schur(n)\n",
        "if p_matrix is not None:\n",
        "    print(\"Found a P-matrix where its Schur complement is not a P-matrix.\")"
      ]
    }
  ],
  "metadata": {
    "colab": {
      "provenance": []
    },
    "kernelspec": {
      "display_name": "Python 3",
      "language": "python",
      "name": "python3"
    },
    "language_info": {
      "codemirror_mode": {
        "name": "ipython",
        "version": 3
      },
      "file_extension": ".py",
      "mimetype": "text/x-python",
      "name": "python",
      "nbconvert_exporter": "python",
      "pygments_lexer": "ipython3",
      "version": "3.9.13"
    },
    "orig_nbformat": 4,
    "vscode": {
      "interpreter": {
        "hash": "aee8b7b246df8f9039afb4144a1f6fd8d2ca17a180786b69acc140d282b71a49"
      }
    }
  },
  "nbformat": 4,
  "nbformat_minor": 0
}
