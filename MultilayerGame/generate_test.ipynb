{
  "cells": [
    {
      "cell_type": "code",
      "execution_count": 1,
      "metadata": {
        "id": "dnCLC6t5O9a8"
      },
      "outputs": [],
      "source": [
        "import numpy as np\n",
        "import pandas as pd\n",
        "import networkx as nx\n",
        "import matplotlib.pyplot as plt\n",
        "%matplotlib inline\n",
        "from scipy.linalg import eigvals"
      ]
    },
    {
      "attachments": {},
      "cell_type": "markdown",
      "metadata": {
        "id": "MC030zwaO9a-"
      },
      "source": [
        "# Generating matrices with control over their eigenvalues"
      ]
    },
    {
      "cell_type": "code",
      "execution_count": null,
      "metadata": {
        "id": "GJVVSl2kO9bA"
      },
      "outputs": [],
      "source": [
        "# generating n random eigenvalues bigger than m and less than l and putting them in a list\n",
        "def generate_eigenvalues(n, m, l):\n",
        "    eigenvalues = []\n",
        "    for i in range(n):\n",
        "        eigenvalues.append(np.random.uniform(m, l))\n",
        "    return eigenvalues\n",
        "\n",
        "# creating a diagonal matrix with the eigenvalues\n",
        "def create_diagonal_matrix(eigenvalues):\n",
        "    n = len(eigenvalues)\n",
        "    diagonal_matrix = np.zeros((n, n))\n",
        "    for i in range(n):\n",
        "        diagonal_matrix[i, i] = eigenvalues[i]\n",
        "    return diagonal_matrix\n",
        "\n",
        "# generating a random matrix with size n\n",
        "def generate_random_matrix(n):\n",
        "    random_matrix = np.random.rand(n, n)\n",
        "    return random_matrix\n",
        "\n",
        "\n",
        "# NEW FUNCTIONS FOR TEST\n",
        "def symmetric_matrix_with_eigenvalues_between(m, l, n):\n",
        "    # Generate n random eigenvalues between m and l\n",
        "    eigenvalues = np.random.uniform(m, l, n)\n",
        "    # Create a random matrix with the same dimensions as the desired symmetric matrix\n",
        "    A = np.random.rand(n, n)\n",
        "    # Make A symmetric by adding it to its transpose\n",
        "    A = A + A.T\n",
        "    # Use the eigenvalues and A to create a symmetric matrix with the desired eigenvalues\n",
        "    symmetric_matrix = A @ np.diag(eigenvalues) @ np.linalg.inv(A)\n",
        "    return symmetric_matrix\n"
      ]
    },
    {
      "cell_type": "code",
      "execution_count": null,
      "metadata": {
        "id": "ttEkL9MEO9bB",
        "outputId": "4432f987-551a-41e0-803c-c349e7a5aa33"
      },
      "outputs": [
        {
          "name": "stdout",
          "output_type": "stream",
          "text": [
            "[[ 1.34930255  0.48284756  0.3319546 ]\n",
            " [-1.13798102  2.93350459  0.37736689]\n",
            " [-0.52102404  0.25344252  2.48517301]]\n"
          ]
        }
      ],
      "source": [
        "A_1 = symmetric_matrix_with_eigenvalues_between(1.5, 2.5, 3)\n",
        "A_2 = symmetric_matrix_with_eigenvalues_between(0.5, 1.5, 3)\n",
        "\n",
        "print(A_1)"
      ]
    },
    {
      "cell_type": "code",
      "execution_count": null,
      "metadata": {
        "id": "Rrhrahr7O9bD",
        "outputId": "bb28f9eb-5261-41e6-a543-a85303215e86"
      },
      "outputs": [
        {
          "name": "stdout",
          "output_type": "stream",
          "text": [
            "[1.54754571+0.j 1.55412819+0.j 1.637868  +0.j 1.68260492+0.j\n",
            " 1.72171891+0.j 1.74537085+0.j 1.75842834+0.j 1.78511465+0.j\n",
            " 1.90839698+0.j 1.92958037+0.j]\n",
            "[1.54754571 1.55412819 1.637868   1.68260492 1.72171891 1.74537085\n",
            " 1.75842834 1.78511465 1.90839698 1.92958037]\n",
            "(2.2161039586514+0j)\n"
          ]
        },
        {
          "name": "stderr",
          "output_type": "stream",
          "text": [
            "/Users/macbook/opt/anaconda3/lib/python3.9/site-packages/matplotlib/cbook/__init__.py:1298: ComplexWarning: Casting complex values to real discards the imaginary part\n",
            "  return np.asarray(x, float)\n"
          ]
        },
        {
          "data": {
            "text/plain": [
              "[<matplotlib.lines.Line2D at 0x7f91540b62b0>]"
            ]
          },
          "execution_count": 267,
          "metadata": {},
          "output_type": "execute_result"
        },
        {
          "data": {
            "image/png": "[encoded data removed]",
            "text/plain": [
              "<Figure size 640x480 with 1 Axes>"
            ]
          },
          "metadata": {},
          "output_type": "display_data"
        }
      ],
      "source": [
        "from numpy.linalg import inv\n",
        "\n",
        "n = 10\n",
        "\n",
        "eigs_1 = generate_eigenvalues(n, 1.5, 2) # all the eigenvalues are bigger than 1.5 (lambda 1)\n",
        "eigs_2 = generate_eigenvalues(n, 0.5, 1) # all the eigenvalues are less than 1 (lambda 2)\n",
        "\n",
        "# creatin G11 and G22\n",
        "D_1 = create_diagonal_matrix(eigs_1)\n",
        "D_2 = create_diagonal_matrix(eigs_2)\n",
        "\n",
        "S_1 = generate_random_matrix(n)\n",
        "S_2 = generate_random_matrix(n)\n",
        "\n",
        "G_1 = np.dot(np.dot(inv(S_1), D_1), S_1)\n",
        "G_2 = np.dot(np.dot(inv(S_2), D_2), S_2)\n",
        "\n",
        "lower_b = min(eigs_1) + min(eigs_2) - 2\n",
        "\n",
        "print(np.sort(eigvals(G_1)))\n",
        "print(np.sort(eigs_1))"
      ]
    },
    {
      "cell_type": "code",
      "execution_count": null,
      "metadata": {
        "id": "Jo8oB8bLO9bD",
        "outputId": "7e73ad57-1cc6-4639-af4f-89d65bb3994f"
      },
      "outputs": [
        {
          "data": {
            "image/png": "[encoded data removed]",
            "text/plain": [
              "<Figure size 1500x500 with 1 Axes>"
            ]
          },
          "metadata": {},
          "output_type": "display_data"
        }
      ],
      "source": [
        "from numpy.linalg import inv\n",
        "# TESTS:\n",
        "n = 10\n",
        "lower_bound = []\n",
        "min_G = []\n",
        "for i in range(100):\n",
        "    eigs_1 = generate_eigenvalues(n, 1.5, 2) # all the eigenvalues are bigger than 1.5 (lambda 1)\n",
        "    eigs_2 = generate_eigenvalues(n, 0.5, 1) # all the eigenvalues are less than 1 (lambda 2)\n",
        "    lower_bound.append(min(eigs_1) + min(eigs_2) - 2) # sum of the smallest eigenvalues of G11 and G22 minus 2\n",
        "    # creatin G11 and G22\n",
        "    D_1 = create_diagonal_matrix(eigs_1)\n",
        "    D_2 = create_diagonal_matrix(eigs_2)\n",
        "\n",
        "    S_1 = generate_random_matrix(n)\n",
        "    S_2 = generate_random_matrix(n)\n",
        "\n",
        "    G_1 = np.dot(np.dot(inv(S_1), D_1), S_1) # this is (2I + ) G11 + G11.T\n",
        "    G_2 = np.dot(np.dot(inv(S_2), D_2), S_2) # this is (2I + ) G22 + G22.T\n",
        "    \n",
        "    min_eig_G = min(eigvals(G_1+G_2))\n",
        "    # print(np.shape(G_1+G_2))\n",
        "    min_G.append(min_eig_G)\n",
        "\n",
        "\n",
        "# plotting the lower bounds and the eigenvalues of the matrix\n",
        "plt.figure(figsize=(15,5))\n",
        "plt.plot(min_G, label='minimum eigenvalue of G')\n",
        "plt.plot(lower_bound, label='lower bound')\n",
        "plt.xlabel('Iteration')\n",
        "plt.legend()\n",
        "plt.title('For n = '+str(n))\n",
        "plt.show()\n"
      ]
    },
    {
      "cell_type": "code",
      "execution_count": null,
      "metadata": {
        "id": "4SHlS7gNO9bE"
      },
      "outputs": [],
      "source": [
        "# Since I couldn't generate the matrix with desired diagonal elements and desired eigenvalues at the same time, I try a different approach.\n",
        "# define a function to create random adjacency matrix of a weighted directed graph with n nodes and weights between -10 and 10 with weights less than a threshold set to 0 and diagonal elements zero\n",
        "def create_adj_matrix(n, threshold):\n",
        "    # create a random adjacency matrix\n",
        "    adj_matrix = np.random.rand(n, n) * 20 - 10\n",
        "    # set the diagonal elements to zero\n",
        "    np.fill_diagonal(adj_matrix, 0)\n",
        "    # set the weights less than threshold to zero\n",
        "    adj_matrix[abs(adj_matrix) < threshold] = 0\n",
        "    # return the adjacency matrix\n",
        "    return adj_matrix\n",
        "\n",
        "# define a function to compute the maximum and minimum eigenvalues of the matrix\n",
        "def compute_eigenvalues(adj_matrix):\n",
        "    # compute the maximum eigenvalue of the adjacency matrix\n",
        "    max_eig = np.max(np.linalg.eigvals(adj_matrix))\n",
        "    # compute the minimum eigenvalue of the adjacency matrix\n",
        "    min_eig = np.min(np.linalg.eigvals(adj_matrix))\n",
        "    # return the maximum and minimum eigenvalues\n",
        "    return max_eig, min_eig"
      ]
    },
    {
      "cell_type": "code",
      "execution_count": null,
      "metadata": {
        "id": "T8hleGOZO9bE",
        "outputId": "c31f28ac-6238-489a-b59d-5eb0e737bc28"
      },
      "outputs": [
        {
          "ename": "KeyboardInterrupt",
          "evalue": "",
          "output_type": "error",
          "traceback": [
            "\u001b[0;31m---------------------------------------------------------------------------\u001b[0m",
            "\u001b[0;31mKeyboardInterrupt\u001b[0m                         Traceback (most recent call last)",
            "\u001b[0;32m/var/folders/hs/y116vr4j4yg5fcthw_l99c5r0000gn/T/ipykernel_42889/1808830667.py\u001b[0m in \u001b[0;36m<module>\u001b[0;34m\u001b[0m\n\u001b[1;32m     22\u001b[0m     \u001b[0;32mreturn\u001b[0m \u001b[0msymmetric_matrix\u001b[0m\u001b[0;34m\u001b[0m\u001b[0;34m\u001b[0m\u001b[0m\n\u001b[1;32m     23\u001b[0m \u001b[0;34m\u001b[0m\u001b[0m\n\u001b[0;32m---> 24\u001b[0;31m \u001b[0mIG_11\u001b[0m \u001b[0;34m=\u001b[0m \u001b[0mcreate_symmetric_matrix\u001b[0m\u001b[0;34m(\u001b[0m\u001b[0;36m10\u001b[0m\u001b[0;34m)\u001b[0m\u001b[0;34m\u001b[0m\u001b[0;34m\u001b[0m\u001b[0m\n\u001b[0m",
            "\u001b[0;32m/var/folders/hs/y116vr4j4yg5fcthw_l99c5r0000gn/T/ipykernel_42889/1808830667.py\u001b[0m in \u001b[0;36mcreate_symmetric_matrix\u001b[0;34m(n)\u001b[0m\n\u001b[1;32m     18\u001b[0m         \u001b[0mnp\u001b[0m\u001b[0;34m.\u001b[0m\u001b[0mfill_diagonal\u001b[0m\u001b[0;34m(\u001b[0m\u001b[0msymmetric_matrix\u001b[0m\u001b[0;34m,\u001b[0m \u001b[0;36m2\u001b[0m\u001b[0;34m)\u001b[0m\u001b[0;34m\u001b[0m\u001b[0;34m\u001b[0m\u001b[0m\n\u001b[1;32m     19\u001b[0m         \u001b[0;31m# compute the maximum and minimum eigenvalues of the matrix\u001b[0m\u001b[0;34m\u001b[0m\u001b[0;34m\u001b[0m\u001b[0;34m\u001b[0m\u001b[0m\n\u001b[0;32m---> 20\u001b[0;31m         \u001b[0mmax_eig\u001b[0m\u001b[0;34m,\u001b[0m \u001b[0mmin_eig\u001b[0m \u001b[0;34m=\u001b[0m \u001b[0mcompute_eigenvalues\u001b[0m\u001b[0;34m(\u001b[0m\u001b[0msymmetric_matrix\u001b[0m\u001b[0;34m)\u001b[0m\u001b[0;34m\u001b[0m\u001b[0;34m\u001b[0m\u001b[0m\n\u001b[0m\u001b[1;32m     21\u001b[0m     \u001b[0;31m# return the symmetric matrix\u001b[0m\u001b[0;34m\u001b[0m\u001b[0;34m\u001b[0m\u001b[0;34m\u001b[0m\u001b[0m\n\u001b[1;32m     22\u001b[0m     \u001b[0;32mreturn\u001b[0m \u001b[0msymmetric_matrix\u001b[0m\u001b[0;34m\u001b[0m\u001b[0;34m\u001b[0m\u001b[0m\n",
            "\u001b[0;32m/var/folders/hs/y116vr4j4yg5fcthw_l99c5r0000gn/T/ipykernel_42889/1328516208.py\u001b[0m in \u001b[0;36mcompute_eigenvalues\u001b[0;34m(adj_matrix)\u001b[0m\n\u001b[1;32m     16\u001b[0m     \u001b[0mmax_eig\u001b[0m \u001b[0;34m=\u001b[0m \u001b[0mnp\u001b[0m\u001b[0;34m.\u001b[0m\u001b[0mmax\u001b[0m\u001b[0;34m(\u001b[0m\u001b[0mnp\u001b[0m\u001b[0;34m.\u001b[0m\u001b[0mlinalg\u001b[0m\u001b[0;34m.\u001b[0m\u001b[0meigvals\u001b[0m\u001b[0;34m(\u001b[0m\u001b[0madj_matrix\u001b[0m\u001b[0;34m)\u001b[0m\u001b[0;34m)\u001b[0m\u001b[0;34m\u001b[0m\u001b[0;34m\u001b[0m\u001b[0m\n\u001b[1;32m     17\u001b[0m     \u001b[0;31m# compute the minimum eigenvalue of the adjacency matrix\u001b[0m\u001b[0;34m\u001b[0m\u001b[0;34m\u001b[0m\u001b[0;34m\u001b[0m\u001b[0m\n\u001b[0;32m---> 18\u001b[0;31m     \u001b[0mmin_eig\u001b[0m \u001b[0;34m=\u001b[0m \u001b[0mnp\u001b[0m\u001b[0;34m.\u001b[0m\u001b[0mmin\u001b[0m\u001b[0;34m(\u001b[0m\u001b[0mnp\u001b[0m\u001b[0;34m.\u001b[0m\u001b[0mlinalg\u001b[0m\u001b[0;34m.\u001b[0m\u001b[0meigvals\u001b[0m\u001b[0;34m(\u001b[0m\u001b[0madj_matrix\u001b[0m\u001b[0;34m)\u001b[0m\u001b[0;34m)\u001b[0m\u001b[0;34m\u001b[0m\u001b[0;34m\u001b[0m\u001b[0m\n\u001b[0m\u001b[1;32m     19\u001b[0m     \u001b[0;31m# return the maximum and minimum eigenvalues\u001b[0m\u001b[0;34m\u001b[0m\u001b[0;34m\u001b[0m\u001b[0;34m\u001b[0m\u001b[0m\n\u001b[1;32m     20\u001b[0m     \u001b[0;32mreturn\u001b[0m \u001b[0mmax_eig\u001b[0m\u001b[0;34m,\u001b[0m \u001b[0mmin_eig\u001b[0m\u001b[0;34m\u001b[0m\u001b[0;34m\u001b[0m\u001b[0m\n",
            "\u001b[0;32m<__array_function__ internals>\u001b[0m in \u001b[0;36meigvals\u001b[0;34m(*args, **kwargs)\u001b[0m\n",
            "\u001b[0;32m~/Library/Python/3.9/lib/python/site-packages/numpy/linalg/linalg.py\u001b[0m in \u001b[0;36meigvals\u001b[0;34m(a)\u001b[0m\n\u001b[1;32m   1066\u001b[0m         _raise_linalgerror_eigenvalues_nonconvergence)\n\u001b[1;32m   1067\u001b[0m     \u001b[0msignature\u001b[0m \u001b[0;34m=\u001b[0m \u001b[0;34m'D->D'\u001b[0m \u001b[0;32mif\u001b[0m \u001b[0misComplexType\u001b[0m\u001b[0;34m(\u001b[0m\u001b[0mt\u001b[0m\u001b[0;34m)\u001b[0m \u001b[0;32melse\u001b[0m \u001b[0;34m'd->D'\u001b[0m\u001b[0;34m\u001b[0m\u001b[0;34m\u001b[0m\u001b[0m\n\u001b[0;32m-> 1068\u001b[0;31m     \u001b[0mw\u001b[0m \u001b[0;34m=\u001b[0m \u001b[0m_umath_linalg\u001b[0m\u001b[0;34m.\u001b[0m\u001b[0meigvals\u001b[0m\u001b[0;34m(\u001b[0m\u001b[0ma\u001b[0m\u001b[0;34m,\u001b[0m \u001b[0msignature\u001b[0m\u001b[0;34m=\u001b[0m\u001b[0msignature\u001b[0m\u001b[0;34m,\u001b[0m \u001b[0mextobj\u001b[0m\u001b[0;34m=\u001b[0m\u001b[0mextobj\u001b[0m\u001b[0;34m)\u001b[0m\u001b[0;34m\u001b[0m\u001b[0;34m\u001b[0m\u001b[0m\n\u001b[0m\u001b[1;32m   1069\u001b[0m \u001b[0;34m\u001b[0m\u001b[0m\n\u001b[1;32m   1070\u001b[0m     \u001b[0;32mif\u001b[0m \u001b[0;32mnot\u001b[0m \u001b[0misComplexType\u001b[0m\u001b[0;34m(\u001b[0m\u001b[0mt\u001b[0m\u001b[0;34m)\u001b[0m\u001b[0;34m:\u001b[0m\u001b[0;34m\u001b[0m\u001b[0;34m\u001b[0m\u001b[0m\n",
            "\u001b[0;31mKeyboardInterrupt\u001b[0m: "
          ]
        }
      ],
      "source": [
        "# # create a symmetric matrix with 2 as diagonal elements and minimum eigenvalue larger than 1\n",
        "# def create_symmetric_matrix(n):\n",
        "#     # create a random adjacency matrix\n",
        "#     adj_matrix = create_adj_matrix(n, 2)\n",
        "#     # create a symmetric matrix\n",
        "#     symmetric_matrix = adj_matrix + adj_matrix.T\n",
        "#     # set the diagonal elements to 2\n",
        "#     np.fill_diagonal(symmetric_matrix, 2)\n",
        "#     # compute the maximum and minimum eigenvalues of the matrix\n",
        "#     max_eig, min_eig = compute_eigenvalues(symmetric_matrix)\n",
        "#     # check if the minimum eigenvalue is larger than 1\n",
        "#     while min_eig < 1:\n",
        "#         # create a random adjacency matrix\n",
        "#         adj_matrix = create_adj_matrix(n, 2)\n",
        "#         # create a symmetric matrix\n",
        "#         symmetric_matrix = adj_matrix + adj_matrix.T\n",
        "#         # set the diagonal elements to 2\n",
        "#         np.fill_diagonal(symmetric_matrix, 2)\n",
        "#         # compute the maximum and minimum eigenvalues of the matrix\n",
        "#         max_eig, min_eig = compute_eigenvalues(symmetric_matrix)\n",
        "#     # return the symmetric matrix\n",
        "#     return symmetric_matrix\n",
        "\n",
        "# IG_11 = create_symmetric_matrix(10)"
      ]
    },
    {
      "cell_type": "code",
      "execution_count": null,
      "metadata": {
        "id": "m8CpZ5ZOO9bF"
      },
      "outputs": [],
      "source": []
    },
    {
      "attachments": {},
      "cell_type": "markdown",
      "metadata": {
        "id": "yPlfA3GhO9bF"
      },
      "source": [
        "# Generating the same thing but using SVD decomposition\n"
      ]
    },
    {
      "cell_type": "code",
      "execution_count": 2,
      "metadata": {
        "id": "X8gdVBfQO9bF"
      },
      "outputs": [],
      "source": [
        "# function that generates eigenvalues of a matrix with n nodes and eigenvalues between m and l\n",
        "def generate_eigenvalues(n, m, l):\n",
        "    # generate n random eigenvalues between m and l\n",
        "    eigenvalues = np.random.rand(n) * (l - m) + m\n",
        "    # return the eigenvalues\n",
        "    return eigenvalues\n",
        "\n",
        "# create a diagonal matrix with eigenvalues as it's diagonal entries\n",
        "def create_diagonal_matrix(eigenvalues):\n",
        "    # create a diagonal matrix with eigenvalues as it's diagonal entries\n",
        "    diagonal_matrix = np.diag(eigenvalues)\n",
        "    # return the diagonal matrix\n",
        "    return diagonal_matrix\n",
        "\n",
        "# create a random orthogonal matrix\n",
        "def generate_orth_matrix(n):\n",
        "    # generate a random matrix\n",
        "    random_matrix = np.random.rand(n, n)*20 - 10\n",
        "    # compute the QR decomposition of the random matrix\n",
        "    Q, R = np.linalg.qr(random_matrix)\n",
        "    # return the orthogonal matrix\n",
        "    return Q\n",
        "\n",
        "# a function to check determinant of all principal minors of a matrix\n",
        "def check_p(matrix):\n",
        "    # check if the determinant of the matrix is zero\n",
        "    if np.linalg.det(matrix) == 0:\n",
        "        # return False if the determinant of the matrix is zero\n",
        "        return False\n",
        "    # check if the determinant of the principal minors of the matrix is zero\n",
        "    for i in range(1, len(matrix)):\n",
        "        if np.linalg.det(matrix[:i, :i]) == 0:\n",
        "            # return False if the determinant of the principal minors of the matrix is zero\n",
        "            return False\n",
        "    # return True if the determinant of the matrix and the principal minors of the matrix is not zero\n",
        "    return True"
      ]
    },
    {
      "cell_type": "code",
      "execution_count": 8,
      "metadata": {
        "colab": {
          "base_uri": "https://localhost:8080/"
        },
        "id": "QM8ms41IO9bG",
        "outputId": "ed1caf0c-4a38-45eb-c568-d2a83a6c3d28"
      },
      "outputs": [
        {
          "name": "stdout",
          "output_type": "stream",
          "text": [
            "[2.55835711+0.j 1.53039539+0.j 1.9112475 +0.j]\n"
          ]
        }
      ],
      "source": [
        "n = 3\n",
        "eigval_test = generate_eigenvalues(n, -5, 0)\n",
        "\n",
        "D = create_diagonal_matrix(eigval_test)\n",
        "V = generate_orth_matrix(n)\n",
        "A = np.dot(np.dot(V, D), V.T) # V D V.T\n",
        "\n",
        "np.fill_diagonal(A, 2)\n",
        "print(eigvals(A))"
      ]
    },
    {
      "cell_type": "code",
      "execution_count": null,
      "metadata": {
        "colab": {
          "base_uri": "https://localhost:8080/"
        },
        "id": "RP2rp-6tO9bG",
        "outputId": "2dfc6960-fe91-4b4c-f987-2a05705fa775"
      },
      "outputs": [
        {
          "name": "stdout",
          "output_type": "stream",
          "text": [
            "for n = 10, condition holds 1884 times\n",
            "for n = 10, condition does not hold 5855 times\n",
            "for n = 10, we have 7739 desired matrices\n",
            "0.24344230520739113\n"
          ]
        }
      ],
      "source": [
        "# from numpy.linalg import eigvals\n",
        "# # TEST\n",
        "# n = 10\n",
        "# counter_desired = 0\n",
        "# counter_no_condition_p = 0\n",
        "# counter_condition_p = 0\n",
        "# for i in range(10000):\n",
        "#     eigval1 = generate_eigenvalues(n, -4, 0)\n",
        "#     eigval2 = generate_eigenvalues(n, -4, 0)\n",
        "\n",
        "#     D = create_diagonal_matrix(eigval1)\n",
        "#     V = generate_orth_matrix(n)\n",
        "#     A1 = np.dot(np.dot(V, D), V.T) # V D V.T\n",
        "\n",
        "#     D = create_diagonal_matrix(eigval2)\n",
        "#     V = generate_orth_matrix(n)\n",
        "#     A2 = np.dot(np.dot(V, D), V.T) # V D V.T\n",
        "\n",
        "#     # replace diagonal elemens of A with 2\n",
        "#     np.fill_diagonal(A1, 2)\n",
        "#     np.fill_diagonal(A2, 2)\n",
        "\n",
        "#     min_e_A1 = min(eigvals(A1))\n",
        "#     min_e_A2 = min(eigvals(A2))\n",
        "#     # if min(eigvals(A1)) < 1 and min(eigvals(A1)) > 0 and min(eigvals(A2)) > 0:\n",
        "#     # # 0 < min_lambda_1 < 1 , 0 < min_lambda_2\n",
        "\n",
        "#     # if min(eigvals(A1)) > 1 and min(eigvals(A2)) > 1:\n",
        "#     # # 1 < min_lambda_1 , 1 < min_lambda_2\n",
        "\n",
        "#     if min_e_A1 < 1 and min_e_A1 > 0 and min_e_A2 < 1 and min_e_A2 > 0:\n",
        "#       # 0 < min_lambda_1 < 1 && 0 < min_lambda_2 < 1\n",
        "#       counter_desired += 1\n",
        "#       if min(eigvals(A1+A2-2*np.eye(n))) > min_e_A1+min_e_A2-2 and min(eigvals(A1+A2-2*np.eye(n))) > 0:\n",
        "#           # print('condition holds!')\n",
        "#           counter_condition_p += 1\n",
        "#       else:\n",
        "#           # print('condition does not hold!')\n",
        "#           counter_no_condition_p += 1\n",
        "        \n",
        "# print('for n = %d, condition holds %d times' % (n, counter_condition_p))\n",
        "# print('for n = %d, condition does not hold %d times' % (n, counter_no_condition_p))\n",
        "# print('for n = %d, we have %d desired matrices' % (n, counter_desired))\n",
        "# print(counter_condition_p/counter_desired)\n",
        "#     # print('is our matrix a p-matrix? ' + str(check_p(A1+A2-2*np.eye(n))))"
      ]
    },
    {
      "attachments": {},
      "cell_type": "markdown",
      "metadata": {},
      "source": [
        "# Running new tests:\n",
        "### 1- If 0 < min(eig(1)), min(eig(2)) < 1, then how many times we will have 0 < min(eig(1+2))?\n",
        "### 2- if min(eig(1)) < 0 and 0 < min(eig(2)), then how many times we will have 0 < min(eig(1+2))?\n",
        "### 3- if min(eig(1)) < 0 and min(eig(2)) < 0, then how many times we will have 0 < min(eig(1+2))?"
      ]
    },
    {
      "cell_type": "code",
      "execution_count": 2,
      "metadata": {},
      "outputs": [
        {
          "name": "stdout",
          "output_type": "stream",
          "text": [
            "minimum abs eigenvalue is: 11.243290143805936\n",
            "maximum abs eigenvalue is: 12.182428873496598\n",
            "the difference of abs is: 0.9391387296906615\n",
            "does our spectral+cayley condition hold? True\n",
            "is our PD->P condition helpful? False\n"
          ]
        }
      ],
      "source": [
        "# generate a positive definite matrix with diagonal elements 2\n",
        "def generate_matrix(n):\n",
        "    # generate n random eigenvalues between\n",
        "    eigenvalues = np.random.rand(n)*-4\n",
        "    # create a diagonal matrix with eigenvalues as it's diagonal entries\n",
        "    diagonal_matrix = np.diag(eigenvalues)\n",
        "    # generate a random orthogonal matrix\n",
        "    random_orth_matrix = np.random.rand(n, n)*20 - 10\n",
        "    # compute the QR decomposition of the random orthogonal matrix\n",
        "    Q, R = np.linalg.qr(random_orth_matrix)\n",
        "    # compute the matrix A\n",
        "    A = np.dot(np.dot(Q, diagonal_matrix), Q.T)\n",
        "    A = 20*A\n",
        "    # set the diagonal elements of A to 2\n",
        "    np.fill_diagonal(A, 2)\n",
        "    # return the matrix A\n",
        "    return A\n",
        "\n",
        "# define a function that checks positicve definiteness of a matrix\n",
        "def is_pos_def(x):\n",
        "    # check if the matrix is positive definite\n",
        "    return np.all(np.linalg.eigvals(x) > 0)\n",
        "\n",
        "a = 10\n",
        "n = 3\n",
        "G_11 = np.random.randint(-a,a,(n,n))\n",
        "G_22 = np.random.randint(-a,a,(n,n))\n",
        "np.fill_diagonal(G_11, 0)\n",
        "np.fill_diagonal(G_22, 0)\n",
        "G = G_11 + G_22\n",
        "lambda_min_1 = min(eigvals(2*np.eye(n)+G_11+G_11.T))\n",
        "lambda_min_2 = min(eigvals(2*np.eye(n)+G_22+G_22.T))\n",
        "\n",
        "eigvalis_G = eigvals(G)\n",
        "abs_G = abs(eigvalis_G)\n",
        "min_G = min(abs_G)\n",
        "max_G = max(abs_G)\n",
        "print('minimum abs eigenvalue is: '+str(min_G))\n",
        "print('maximum abs eigenvalue is: '+str(max_G))\n",
        "print('the difference of abs is: '+str(abs(max_G)-abs(min_G))) # spectral radius condition\n",
        "print('does our spectral+cayley condition hold? '+str(abs(max_G)-abs(min_G)<2))\n",
        "print('is our PD->P condition helpful? '+str(lambda_min_1+lambda_min_2-2>0))"
      ]
    },
    {
      "cell_type": "code",
      "execution_count": null,
      "metadata": {},
      "outputs": [],
      "source": [
        "n_list = [1, 2, 3, 4, 5, 6, 7, 8, 9, 10, 11, 12, 13, 14, 15, 20, 25, 30, 35, 40]\n",
        "whole_min = []\n",
        "for n in n_list:\n",
        "    min_list = []\n",
        "    for i in range(100):\n",
        "        A = generate_pd_matrix(n)\n",
        "        eigvals_A = eigvals(A)\n",
        "        min_eig_A = min(eigvals_A)\n",
        "        min_list.append(np.mean(min_eig_A))\n",
        "\n",
        "    whole_min.append(np.mean(min_list))\n",
        "\n",
        "\n",
        "plt.figure(figsize=(15,5))\n",
        "plt.plot(n_list, whole_min, 'o-')\n",
        "plt.xlabel('n')\n",
        "plt.xticks(n_list)\n",
        "plt.show()"
      ]
    },
    {
      "cell_type": "code",
      "execution_count": null,
      "metadata": {},
      "outputs": [],
      "source": [
        "n_list = [1, 2, 3, 4, 5, 6, 7, 8, 9, 10, 11, 12, 13, 14, 15, 20, 25, 30, 35, 40]\n",
        "whole_average = []\n",
        "for n in n_list:\n",
        "    average_list = []\n",
        "    for i in range(100):\n",
        "        A = generate_pd_matrix(n)\n",
        "        eigvals_A = eigvals(A)\n",
        "        average_eigval = np.mean(np.abs(eigvals_A))\n",
        "        average_list.append(average_eigval)\n",
        "\n",
        "    whole_average.append(np.mean(average_list))\n",
        "\n",
        "\n",
        "plt.figure(figsize=(15,5))\n",
        "plt.plot(n_list, whole_average, 'o-')\n",
        "plt.xlabel('n')\n",
        "plt.xticks(n_list)\n",
        "plt.show()"
      ]
    },
    {
      "attachments": {},
      "cell_type": "markdown",
      "metadata": {},
      "source": [
        "## Test 1"
      ]
    },
    {
      "cell_type": "code",
      "execution_count": 6,
      "metadata": {},
      "outputs": [],
      "source": [
        "# a function that checks if the matrix is a positive definite matrix\n",
        "def is_pos_def(x):\n",
        "    # check if the matrix is positive definite\n",
        "    return np.all(np.linalg.eigvals(x) > 0)"
      ]
    },
    {
      "cell_type": "code",
      "execution_count": 7,
      "metadata": {},
      "outputs": [
        {
          "name": "stdout",
          "output_type": "stream",
          "text": [
            "for n = 3, we had 99998 acceptable type of matrices and 107 of them resulted in T being PD.\n",
            "1046 matrices were detected as P-matrices by spectral+cayley condition.\n",
            "109 matrices were actually P-matrices.\n",
            "2 matrices were detected as P-matrices by PD->P condition.\n",
            "\n"
          ]
        }
      ],
      "source": [
        "# getting test #1\n",
        "n_list = [3]\n",
        "percentage_list = []\n",
        "des = []\n",
        "pd = []\n",
        "network = []\n",
        "network_1 = []\n",
        "network_2 = []\n",
        "network_1_u = []\n",
        "network_2_u = []\n",
        "\n",
        "for n in n_list:\n",
        "    c_desired = 0\n",
        "    T_is_PD = 0\n",
        "    lambda_sum = 0\n",
        "    cayley = 0\n",
        "    p_matrix = 0\n",
        "    PD_P = 0\n",
        "    for i in range(100000):\n",
        "        T1 = generate_matrix(n) # this is our 2I+G11+G11.T\n",
        "        T2 = generate_matrix(n) # this is our 2I+G22+G22.T\n",
        "        T = T1 + T2 - 2*np.eye(n) # this is our 2I+G+G.T\n",
        "\n",
        "\n",
        "        min_T1 = min(eigvals(T1))\n",
        "        min_T2 = min(eigvals(T2))\n",
        "        min_T = min(eigvals(T))\n",
        "        if (min_T1 + min_T2 < 2): # desired condition (when PD->P is not helpful)\n",
        "            c_desired += 1\n",
        "            if 0 < min_T:\n",
        "                T_is_PD += 1\n",
        "                # lambda_sum += min_T\n",
        "                network_1.append(T1)\n",
        "                network_2.append(T2)\n",
        "                network.append(T)\n",
        "        if (min_T1 > 1 and min_T2 > 1):\n",
        "            network_1_u.append(T1)\n",
        "            network_2_u.append(T2)\n",
        "\n",
        "\n",
        "        if (min_T1 + min_T2 > 2): # when our PD->P condition is helpful\n",
        "            PD_P += 1\n",
        "\n",
        "        G = T/2 - np.eye(n) # this is our G (symmetric case)\n",
        "        eigvalis_G = eigvals(G)\n",
        "        abs_G = abs(eigvalis_G)\n",
        "        min_G = min(abs_G)\n",
        "        max_G = max(abs_G)\n",
        "        if (max_G-min_G < 2):\n",
        "            cayley += 1\n",
        "        if is_pos_def(np.eye(n)+G):\n",
        "            p_matrix += 1\n",
        "\n",
        "\n",
        "\n",
        "    des.append(c_desired)\n",
        "    pd.append(T_is_PD)\n",
        "    percentage_list.append(T_is_PD/c_desired*100)\n",
        "    print('for n = %d, we had %d acceptable type of matrices and %d of them resulted in T being PD.' % (n, c_desired, T_is_PD))\n",
        "    print('%d matrices were detected as P-matrices by spectral+cayley condition.' % (cayley))\n",
        "    print('%d matrices were actually P-matrices.' % (p_matrix))\n",
        "    print('%d matrices were detected as P-matrices by PD->P condition.\\n' % (PD_P))"
      ]
    },
    {
      "cell_type": "code",
      "execution_count": 4,
      "metadata": {},
      "outputs": [
        {
          "name": "stdout",
          "output_type": "stream",
          "text": [
            "[[ 2.         -1.78562595  2.35675184]\n",
            " [-1.78562595  2.         -2.35761073]\n",
            " [ 2.35675184 -2.35761073  2.        ]]\n",
            "\n",
            "\n",
            "[[ 2.          2.56146551 -1.62878389]\n",
            " [ 2.56146551  2.          2.45484864]\n",
            " [-1.62878389  2.45484864  2.        ]]\n",
            "(-0.558233866158984+0j)\n",
            "(-2.4541141744581085+0j)\n",
            "\n",
            "\n",
            "\n"
          ]
        },
        {
          "ename": "IndexError",
          "evalue": "list index out of range",
          "output_type": "error",
          "traceback": [
            "\u001b[0;31m---------------------------------------------------------------------------\u001b[0m",
            "\u001b[0;31mIndexError\u001b[0m                                Traceback (most recent call last)",
            "\u001b[0;32m/var/folders/hs/y116vr4j4yg5fcthw_l99c5r0000gn/T/ipykernel_26341/3899154238.py\u001b[0m in \u001b[0;36m<module>\u001b[0;34m\u001b[0m\n\u001b[1;32m      7\u001b[0m \u001b[0mprint\u001b[0m\u001b[0;34m(\u001b[0m\u001b[0;34m'\\n\\n'\u001b[0m\u001b[0;34m)\u001b[0m\u001b[0;34m\u001b[0m\u001b[0;34m\u001b[0m\u001b[0m\n\u001b[1;32m      8\u001b[0m \u001b[0;34m\u001b[0m\u001b[0m\n\u001b[0;32m----> 9\u001b[0;31m \u001b[0mprint\u001b[0m\u001b[0;34m(\u001b[0m\u001b[0mnetwork_1_u\u001b[0m\u001b[0;34m[\u001b[0m\u001b[0;36m0\u001b[0m\u001b[0;34m]\u001b[0m\u001b[0;34m)\u001b[0m\u001b[0;34m\u001b[0m\u001b[0;34m\u001b[0m\u001b[0m\n\u001b[0m\u001b[1;32m     10\u001b[0m \u001b[0mprint\u001b[0m\u001b[0;34m(\u001b[0m\u001b[0;34m'\\n'\u001b[0m\u001b[0;34m)\u001b[0m\u001b[0;34m\u001b[0m\u001b[0;34m\u001b[0m\u001b[0m\n\u001b[1;32m     11\u001b[0m \u001b[0mprint\u001b[0m\u001b[0;34m(\u001b[0m\u001b[0mnetwork_2_u\u001b[0m\u001b[0;34m[\u001b[0m\u001b[0;36m0\u001b[0m\u001b[0;34m]\u001b[0m\u001b[0;34m)\u001b[0m\u001b[0;34m\u001b[0m\u001b[0;34m\u001b[0m\u001b[0m\n",
            "\u001b[0;31mIndexError\u001b[0m: list index out of range"
          ]
        }
      ],
      "source": [
        "print(network_1[0])\n",
        "print('\\n')\n",
        "print(network_2[0])\n",
        "print(min(eigvals(network_1[0])))\n",
        "print(min(eigvals(network_2[0])))\n",
        "\n",
        "print('\\n\\n')\n",
        "\n",
        "print(network_1_u[0])\n",
        "print('\\n')\n",
        "print(network_2_u[0])\n",
        "print(min(eigvals(network_1_u[0])))\n",
        "print(min(eigvals(network_2_u[0])))"
      ]
    },
    {
      "cell_type": "code",
      "execution_count": 243,
      "metadata": {},
      "outputs": [
        {
          "name": "stdout",
          "output_type": "stream",
          "text": [
            "lower bound: (-0.9516009395851381+0j)\n",
            "our upper bound: (4.504624057349325+0j)\n",
            "Taos upper bound: (1.1304268538098938+0j)\n",
            "\n",
            "\n",
            "\n",
            "lower bound: (-1.4807730269566517+0j)\n",
            "our upper bound: (4.333239089991686+0j)\n",
            "Taos upper bound: (1.2393516749224882+0j)\n",
            "\n",
            "\n",
            "\n",
            "lower bound: (-0.5314030677754715+0j)\n",
            "our upper bound: (4.9597250643519+0j)\n",
            "Taos upper bound: (1.5115177370837625+0j)\n",
            "\n",
            "\n",
            "\n",
            "lower bound: (-0.897630782522201+0j)\n",
            "our upper bound: (6.447534194207922+0j)\n",
            "Taos upper bound: (1.1538704143383898+0j)\n",
            "\n",
            "\n",
            "\n",
            "lower bound: (-1.0450069538444207+0j)\n",
            "our upper bound: (5.811936273498525+0j)\n",
            "Taos upper bound: (1.0750657028841628+0j)\n",
            "\n",
            "\n",
            "\n",
            "lower bound: (-1.087973561829066+0j)\n",
            "our upper bound: (6.14387086460362+0j)\n",
            "Taos upper bound: (1.234726038999297+0j)\n",
            "\n",
            "\n",
            "\n",
            "lower bound: (-1.4670799740304221+0j)\n",
            "our upper bound: (5.360194587645331+0j)\n",
            "Taos upper bound: (1.47617892393033+0j)\n",
            "\n",
            "\n",
            "\n",
            "lower bound: (-1.015702358024758+0j)\n",
            "our upper bound: (4.814739997282719+0j)\n",
            "Taos upper bound: (1.1327870596242668+0j)\n",
            "\n",
            "\n",
            "\n",
            "lower bound: (-0.6863434889379914+0j)\n",
            "our upper bound: (4.59204796006701+0j)\n",
            "Taos upper bound: (1.6488985730582373+0j)\n",
            "\n",
            "\n",
            "\n",
            "lower bound: (-1.1571808441403593+0j)\n",
            "our upper bound: (5.405328941069781+0j)\n",
            "Taos upper bound: (1.462047907627945+0j)\n",
            "\n",
            "\n",
            "\n",
            "lower bound: (-0.8753740887393437+0j)\n",
            "our upper bound: (4.9590833407332475+0j)\n",
            "Taos upper bound: (1.1730320960423395+0j)\n",
            "\n",
            "\n",
            "\n",
            "lower bound: (-1.3696726834338477+0j)\n",
            "our upper bound: (4.716109469397842+0j)\n",
            "Taos upper bound: (1.5523261270272601+0j)\n",
            "\n",
            "\n",
            "\n",
            "lower bound: (-1.8343037334589485+0j)\n",
            "our upper bound: (6.082510940629636+0j)\n",
            "Taos upper bound: (1.200623949695963+0j)\n",
            "\n",
            "\n",
            "\n",
            "lower bound: (-0.4190106104599858+0j)\n",
            "our upper bound: (4.655409748026566+0j)\n",
            "Taos upper bound: (1.7715540607640197+0j)\n",
            "\n",
            "\n",
            "\n",
            "lower bound: (-1.4268203437963654+0j)\n",
            "our upper bound: (5.082750344627777+0j)\n",
            "Taos upper bound: (1.3654098368159322+0j)\n",
            "\n",
            "\n",
            "\n",
            "lower bound: (-0.21761863720445662+0j)\n",
            "our upper bound: (4.348421852679737+0j)\n",
            "Taos upper bound: (1.9225580755625264+0j)\n",
            "\n",
            "\n",
            "\n",
            "lower bound: (-0.8273427167838623+0j)\n",
            "our upper bound: (6.059094226584705+0j)\n",
            "Taos upper bound: (1.3068225947006429+0j)\n",
            "\n",
            "\n",
            "\n",
            "lower bound: (-0.7036525412715311+0j)\n",
            "our upper bound: (5.6139649834942835+0j)\n",
            "Taos upper bound: (1.4891734814045448+0j)\n",
            "\n",
            "\n",
            "\n",
            "lower bound: (-0.515481775896313+0j)\n",
            "our upper bound: (3.9749054156816044+0j)\n",
            "Taos upper bound: (1.2129657927419322+0j)\n",
            "\n",
            "\n",
            "\n",
            "lower bound: (-0.4452099428335554+0j)\n",
            "our upper bound: (4.8000691457952716+0j)\n",
            "Taos upper bound: (1.1206881167712748+0j)\n",
            "\n",
            "\n",
            "\n",
            "lower bound: (-1.5801127863295161+0j)\n",
            "our upper bound: (5.796136209567667+0j)\n",
            "Taos upper bound: (1.6274071601796907+0j)\n",
            "\n",
            "\n",
            "\n",
            "lower bound: (-0.3236877583642368+0j)\n",
            "our upper bound: (4.624705759210162+0j)\n",
            "Taos upper bound: (1.6546703655969486+0j)\n",
            "\n",
            "\n",
            "\n",
            "lower bound: (-1.916457852086436+0j)\n",
            "our upper bound: (4.456288066260706+0j)\n",
            "Taos upper bound: (1.1119162654988357+0j)\n",
            "\n",
            "\n",
            "\n",
            "lower bound: (-1.5051537223339653+0j)\n",
            "our upper bound: (6.744163667507394+0j)\n",
            "Taos upper bound: (1.176988138457733+0j)\n",
            "\n",
            "\n",
            "\n",
            "lower bound: (-1.6002159365952107+0j)\n",
            "our upper bound: (5.785942017159791+0j)\n",
            "Taos upper bound: (1.2120328004479006+0j)\n",
            "\n",
            "\n",
            "\n",
            "lower bound: (-0.8944740489058267+0j)\n",
            "our upper bound: (4.763725976133629+0j)\n",
            "Taos upper bound: (1.0825094198314535+0j)\n",
            "\n",
            "\n",
            "\n",
            "lower bound: (-0.7281077615665352+0j)\n",
            "our upper bound: (6.778581532170115+0j)\n",
            "Taos upper bound: (0.8938857400910707+0j)\n",
            "\n",
            "\n",
            "\n",
            "lower bound: (-0.5002020972080257+0j)\n",
            "our upper bound: (4.399787296736415+0j)\n",
            "Taos upper bound: (1.6865838893901435+0j)\n",
            "\n",
            "\n",
            "\n",
            "lower bound: (-1.2368983144921273+0j)\n",
            "our upper bound: (6.011742179074314+0j)\n",
            "Taos upper bound: (1.605497659826331+0j)\n",
            "\n",
            "\n",
            "\n",
            "lower bound: (-1.3323434429414125+0j)\n",
            "our upper bound: (5.402250418244934+0j)\n",
            "Taos upper bound: (1.5740099859500605+0j)\n",
            "\n",
            "\n",
            "\n",
            "lower bound: (-0.6052787656919105+0j)\n",
            "our upper bound: (5.705518713926013+0j)\n",
            "Taos upper bound: (0.7672292617644816+0j)\n",
            "\n",
            "\n",
            "\n",
            "lower bound: (-1.3504849041197224+0j)\n",
            "our upper bound: (6.8678713292798275+0j)\n",
            "Taos upper bound: (0.6715885277810165+0j)\n",
            "\n",
            "\n",
            "\n",
            "lower bound: (-0.7385818676486844+0j)\n",
            "our upper bound: (4.7719798671855775+0j)\n",
            "Taos upper bound: (1.64792769375366+0j)\n",
            "\n",
            "\n",
            "\n",
            "lower bound: (-0.8906273985828668+0j)\n",
            "our upper bound: (4.696254100289949+0j)\n",
            "Taos upper bound: (1.4341230511348426+0j)\n",
            "\n",
            "\n",
            "\n",
            "lower bound: (-0.9291922746481625+0j)\n",
            "our upper bound: (4.614702815744194+0j)\n",
            "Taos upper bound: (1.5125447804934424+0j)\n",
            "\n",
            "\n",
            "\n",
            "lower bound: (-0.050404681328587+0j)\n",
            "our upper bound: (4.364983376564625+0j)\n",
            "Taos upper bound: (1.8119912239960776+0j)\n",
            "\n",
            "\n",
            "\n",
            "lower bound: (-1.6093691239139765+0j)\n",
            "our upper bound: (4.9453867262418+0j)\n",
            "Taos upper bound: (1.4651245719967037+0j)\n",
            "\n",
            "\n",
            "\n",
            "lower bound: (-1.0909549533190777+0j)\n",
            "our upper bound: (4.286264530236265+0j)\n",
            "Taos upper bound: (1.1138166112653023+0j)\n",
            "\n",
            "\n",
            "\n",
            "lower bound: (-1.0268716154366757+0j)\n",
            "our upper bound: (5.04153275441844+0j)\n",
            "Taos upper bound: (1.4647821587352263+0j)\n",
            "\n",
            "\n",
            "\n",
            "lower bound: (-0.434708963193299+0j)\n",
            "our upper bound: (4.652208038280486+0j)\n",
            "Taos upper bound: (1.392162402567874+0j)\n",
            "\n",
            "\n",
            "\n",
            "lower bound: (-0.19320990285101303+0j)\n",
            "our upper bound: (4.092462321465142+0j)\n",
            "Taos upper bound: (1.5090817250729192+0j)\n",
            "\n",
            "\n",
            "\n",
            "lower bound: (-1.3774234653423016+0j)\n",
            "our upper bound: (4.935536423385528+0j)\n",
            "Taos upper bound: (1.118817092779449+0j)\n",
            "\n",
            "\n",
            "\n",
            "lower bound: (-0.3053356844350472+0j)\n",
            "our upper bound: (4.058916079075343+0j)\n",
            "Taos upper bound: (1.8379671079896776+0j)\n",
            "\n",
            "\n",
            "\n",
            "lower bound: (-1.2007637779928844+0j)\n",
            "our upper bound: (5.065278328335948+0j)\n",
            "Taos upper bound: (1.2952320975030203+0j)\n",
            "\n",
            "\n",
            "\n",
            "lower bound: (-1.197830833810161+0j)\n",
            "our upper bound: (4.973380136117184+0j)\n",
            "Taos upper bound: (1.2024323995537656+0j)\n",
            "\n",
            "\n",
            "\n",
            "lower bound: (-0.4632230963835986+0j)\n",
            "our upper bound: (5.445525913280624+0j)\n",
            "Taos upper bound: (1.2638639314773625+0j)\n",
            "\n",
            "\n",
            "\n",
            "lower bound: (-1.341473768636132+0j)\n",
            "our upper bound: (6.370833529660612+0j)\n",
            "Taos upper bound: (0.7676167556504416+0j)\n",
            "\n",
            "\n",
            "\n",
            "lower bound: (-0.9161218958310675+0j)\n",
            "our upper bound: (4.29517428476408+0j)\n",
            "Taos upper bound: (1.3081527149432222+0j)\n",
            "\n",
            "\n",
            "\n",
            "lower bound: (-0.8360207303724154+0j)\n",
            "our upper bound: (5.228606428153322+0j)\n",
            "Taos upper bound: (1.2234231242495879+0j)\n",
            "\n",
            "\n",
            "\n",
            "lower bound: (-0.3239309576800915+0j)\n",
            "our upper bound: (3.88640806950968+0j)\n",
            "Taos upper bound: (1.6152866689081589+0j)\n",
            "\n",
            "\n",
            "\n",
            "lower bound: (-1.4780692614402826+0j)\n",
            "our upper bound: (5.544223124324356+0j)\n",
            "Taos upper bound: (1.7166762317792532+0j)\n",
            "\n",
            "\n",
            "\n",
            "lower bound: (-1.0034113630010764+0j)\n",
            "our upper bound: (4.696223963848187+0j)\n",
            "Taos upper bound: (0.9192160619526808+0j)\n",
            "\n",
            "\n",
            "\n",
            "lower bound: (-0.5068486714589482+0j)\n",
            "our upper bound: (5.191832627556881+0j)\n",
            "Taos upper bound: (1.6459951830392616+0j)\n",
            "\n",
            "\n",
            "\n",
            "lower bound: (-0.3157892305709713+0j)\n",
            "our upper bound: (4.25454265818567+0j)\n",
            "Taos upper bound: (1.6488247158742864+0j)\n",
            "\n",
            "\n",
            "\n",
            "lower bound: (-0.8671669080535354+0j)\n",
            "our upper bound: (4.675891300508073+0j)\n",
            "Taos upper bound: (1.7736218025692807+0j)\n",
            "\n",
            "\n",
            "\n",
            "lower bound: (-0.723747305096937+0j)\n",
            "our upper bound: (4.286993231633348+0j)\n",
            "Taos upper bound: (1.7501356069896223+0j)\n",
            "\n",
            "\n",
            "\n",
            "lower bound: (-1.3498140432533363+0j)\n",
            "our upper bound: (5.236310146804826+0j)\n",
            "Taos upper bound: (1.796144019985185+0j)\n",
            "\n",
            "\n",
            "\n"
          ]
        }
      ],
      "source": [
        "# implementing Tao's bound:\n",
        "def taos_bound(eigvals_A, eigvals_B):\n",
        "    # sort the eigenvalues of A in descending order\n",
        "    sorted_eigvals_A = np.sort(eigvals_A)[::-1]\n",
        "    # sort the eigenvalues of B in ascending order\n",
        "    sorted_eigvals_B = np.sort(eigvals_B)\n",
        "    # sum sorted_eigvals_A and sorted_eigvals_B\n",
        "    sum_of_eigvals = sorted_eigvals_A + sorted_eigvals_B\n",
        "    # return the minimum sum of eigenvalues\n",
        "    return np.min(sum_of_eigvals)\n",
        "\n",
        "for i in range(len(network)):\n",
        "    a1 = min(eigvals(network_1[i]))\n",
        "    a2 = min(eigvals(network_2[i]))\n",
        "    print('lower bound: '+str(a1+a2-2))\n",
        "\n",
        "    b1 = max(eigvals(network_1[i]))\n",
        "    b2 = max(eigvals(network_2[i]))\n",
        "    print('our upper bound: '+str(b1+b2-2))\n",
        "\n",
        "    print('Taos upper bound: ' + str(taos_bound(eigvals(network_1[i]), eigvals(network_2[i]))-2))\n",
        "    print('\\n\\n')"
      ]
    },
    {
      "cell_type": "code",
      "execution_count": 12,
      "metadata": {},
      "outputs": [
        {
          "data": {
            "image/png": "[encoded data removed]",
            "text/plain": [
              "<Figure size 1500x500 with 1 Axes>"
            ]
          },
          "metadata": {},
          "output_type": "display_data"
        }
      ],
      "source": [
        "plt.figure(figsize=(15,5))\n",
        "plt.plot(n_list, percentage_list, 'o-')\n",
        "plt.xlabel('n')\n",
        "plt.xticks(n_list)\n",
        "plt.title('% vs n for test #1')\n",
        "plt.show()"
      ]
    },
    {
      "attachments": {},
      "cell_type": "markdown",
      "metadata": {},
      "source": [
        "## Test 2"
      ]
    },
    {
      "cell_type": "code",
      "execution_count": 18,
      "metadata": {},
      "outputs": [
        {
          "name": "stdout",
          "output_type": "stream",
          "text": [
            "for n = 5, we had 133327 acceptable type of matrices and 2397 of them resulted in T being PD.\n",
            "for n = 6, we had 76065 acceptable type of matrices and 440 of them resulted in T being PD.\n",
            "for n = 7, we had 40891 acceptable type of matrices and 57 of them resulted in T being PD.\n",
            "for n = 8, we had 21792 acceptable type of matrices and 7 of them resulted in T being PD.\n",
            "for n = 9, we had 11248 acceptable type of matrices and 2 of them resulted in T being PD.\n",
            "for n = 10, we had 5809 acceptable type of matrices and 0 of them resulted in T being PD.\n"
          ]
        }
      ],
      "source": [
        "# getting test 2\n",
        "n_list = [5, 6, 7, 8, 9, 10]\n",
        "percentage_list2 = []\n",
        "des2 = []\n",
        "pd2 = []\n",
        "\n",
        "for n in n_list:\n",
        "    c_desired = 0\n",
        "    T_is_PD = 0\n",
        "    for i in range(1000000):\n",
        "        T1 = generate_pd_matrix(n) # this is our 2I+G11+G11.T\n",
        "        T2 = generate_pd_matrix(n) # this is our 2I+G22+G22.T\n",
        "        T = T1 + T2 - 2*np.eye(n) # this is our 2I+G+G.T\n",
        "        min_T1 = min(eigvals(T1))\n",
        "        min_T2 = min(eigvals(T2))\n",
        "        min_T = min(eigvals(T))\n",
        "        if min_T1 < 0 and min_T2 > 0:\n",
        "            c_desired += 1\n",
        "            if 0 < min_T:\n",
        "                T_is_PD += 1\n",
        "    \n",
        "    des2.append(c_desired)\n",
        "    pd2.append(T_is_PD)\n",
        "    percentage_list2.append(T_is_PD/c_desired*100)\n",
        "    print('for n = %d, we had %d acceptable type of matrices and %d of them resulted in T being PD.' % (n, c_desired, T_is_PD))"
      ]
    },
    {
      "cell_type": "code",
      "execution_count": 19,
      "metadata": {},
      "outputs": [
        {
          "data": {
            "image/png": "[encoded data removed]",
            "text/plain": [
              "<Figure size 1500x500 with 1 Axes>"
            ]
          },
          "metadata": {},
          "output_type": "display_data"
        }
      ],
      "source": [
        "plt.figure(figsize=(15,5))\n",
        "plt.plot(n_list, percentage_list2, 'o-')\n",
        "plt.xlabel('n')\n",
        "plt.title('% vs n')\n",
        "plt.show()"
      ]
    },
    {
      "attachments": {},
      "cell_type": "markdown",
      "metadata": {},
      "source": [
        "## Test 3"
      ]
    },
    {
      "cell_type": "code",
      "execution_count": 20,
      "metadata": {},
      "outputs": [
        {
          "name": "stdout",
          "output_type": "stream",
          "text": [
            "for n = 5, we had 707877 acceptable type of matrices and 2761 of them resulted in T being PD.\n",
            "for n = 6, we had 840372 acceptable type of matrices and 461 of them resulted in T being PD.\n",
            "for n = 7, we had 916549 acceptable type of matrices and 59 of them resulted in T being PD.\n",
            "for n = 8, we had 955970 acceptable type of matrices and 9 of them resulted in T being PD.\n",
            "for n = 9, we had 977362 acceptable type of matrices and 1 of them resulted in T being PD.\n",
            "for n = 10, we had 988212 acceptable type of matrices and 0 of them resulted in T being PD.\n"
          ]
        }
      ],
      "source": [
        "# getting test 3\n",
        "n_list = [5, 6, 7, 8, 9, 10]\n",
        "percentage_list2 = []\n",
        "des2 = []\n",
        "pd2 = []\n",
        "\n",
        "for n in n_list:\n",
        "    c_desired = 0\n",
        "    T_is_PD = 0\n",
        "    for i in range(1000000):\n",
        "        T1 = generate_pd_matrix(n) # this is our 2I+G11+G11.T\n",
        "        T2 = generate_pd_matrix(n) # this is our 2I+G22+G22.T\n",
        "        T = T1 + T2 - 2*np.eye(n) # this is our 2I+G+G.T\n",
        "        min_T1 = min(eigvals(T1))\n",
        "        min_T2 = min(eigvals(T2))\n",
        "        min_T = min(eigvals(T))\n",
        "        if min_T1 < 0 and min_T2 < 0:\n",
        "            c_desired += 1\n",
        "            if 0 < min_T:\n",
        "                T_is_PD += 1\n",
        "    \n",
        "    des2.append(c_desired)\n",
        "    pd2.append(T_is_PD)\n",
        "    percentage_list2.append(T_is_PD/c_desired*100)\n",
        "    print('for n = %d, we had %d acceptable type of matrices and %d of them resulted in T being PD.' % (n, c_desired, T_is_PD))"
      ]
    },
    {
      "cell_type": "code",
      "execution_count": 21,
      "metadata": {},
      "outputs": [
        {
          "data": {
            "image/png": "[encoded data removed]",
            "text/plain": [
              "<Figure size 1500x500 with 1 Axes>"
            ]
          },
          "metadata": {},
          "output_type": "display_data"
        }
      ],
      "source": [
        "plt.figure(figsize=(15,5))\n",
        "plt.plot(n_list, percentage_list2, 'o-')\n",
        "plt.xlabel('n')\n",
        "plt.title('% vs n')\n",
        "plt.show()"
      ]
    },
    {
      "attachments": {},
      "cell_type": "markdown",
      "metadata": {},
      "source": [
        "# BLAH BLAH"
      ]
    }
  ],
  "metadata": {
    "colab": {
      "provenance": []
    },
    "kernelspec": {
      "display_name": "Python 3",
      "language": "python",
      "name": "python3"
    },
    "language_info": {
      "codemirror_mode": {
        "name": "ipython",
        "version": 3
      },
      "file_extension": ".py",
      "mimetype": "text/x-python",
      "name": "python",
      "nbconvert_exporter": "python",
      "pygments_lexer": "ipython3",
      "version": "3.9.13"
    },
    "orig_nbformat": 4,
    "vscode": {
      "interpreter": {
        "hash": "aee8b7b246df8f9039afb4144a1f6fd8d2ca17a180786b69acc140d282b71a49"
      }
    }
  },
  "nbformat": 4,
  "nbformat_minor": 0
}
