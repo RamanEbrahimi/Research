{
  "cells": [
    {
      "cell_type": "code",
      "execution_count": 3,
      "metadata": {
        "id": "s6dUFTp33NNV"
      },
      "outputs": [],
      "source": [
        "import numpy as np\n",
        "import pandas as pd\n",
        "import matplotlib.pyplot as plt\n",
        "import networkx as nx"
      ]
    },
    {
      "cell_type": "markdown",
      "metadata": {},
      "source": [
        "# Cannes2013 & NBAFINALS2015"
      ]
    },
    {
      "cell_type": "code",
      "execution_count": 75,
      "metadata": {},
      "outputs": [],
      "source": [
        "# read txt data file with headers and convert to dataframe\n",
        "# df = pd.read_csv('/Users/macbook/Downloads/Cannes2013_Multiplex_Social/Dataset/Cannes2013-activity.txt', sep=' ', header=None, names=['From', 'To', 'Time', 'Layer'])\n",
        "\n",
        "# read txt data file with headers and convert to dataframe\n",
        "df = pd.read_csv('/Users/macbook/Downloads/NBAFINALS2015_Multiplex_Social/Dataset/NBAFINALS2015-activity.txt', sep=' ', header=None, names=['From', 'To', 'Time', 'Layer'])"
      ]
    },
    {
      "cell_type": "code",
      "execution_count": 76,
      "metadata": {},
      "outputs": [
        {
          "data": {
            "text/html": [
              "<div>\n",
              "<style scoped>\n",
              "    .dataframe tbody tr th:only-of-type {\n",
              "        vertical-align: middle;\n",
              "    }\n",
              "\n",
              "    .dataframe tbody tr th {\n",
              "        vertical-align: top;\n",
              "    }\n",
              "\n",
              "    .dataframe thead th {\n",
              "        text-align: right;\n",
              "    }\n",
              "</style>\n",
              "<table border=\"1\" class=\"dataframe\">\n",
              "  <thead>\n",
              "    <tr style=\"text-align: right;\">\n",
              "      <th></th>\n",
              "      <th>From</th>\n",
              "      <th>To</th>\n",
              "      <th>Time</th>\n",
              "      <th>Layer</th>\n",
              "    </tr>\n",
              "  </thead>\n",
              "  <tbody>\n",
              "    <tr>\n",
              "      <th>0</th>\n",
              "      <td>1</td>\n",
              "      <td>2</td>\n",
              "      <td>1433865027</td>\n",
              "      <td>RT</td>\n",
              "    </tr>\n",
              "    <tr>\n",
              "      <th>1</th>\n",
              "      <td>3</td>\n",
              "      <td>4</td>\n",
              "      <td>1433865030</td>\n",
              "      <td>RT</td>\n",
              "    </tr>\n",
              "    <tr>\n",
              "      <th>2</th>\n",
              "      <td>5</td>\n",
              "      <td>6</td>\n",
              "      <td>1433865030</td>\n",
              "      <td>RT</td>\n",
              "    </tr>\n",
              "    <tr>\n",
              "      <th>3</th>\n",
              "      <td>7</td>\n",
              "      <td>8</td>\n",
              "      <td>1433865031</td>\n",
              "      <td>MT</td>\n",
              "    </tr>\n",
              "    <tr>\n",
              "      <th>4</th>\n",
              "      <td>9</td>\n",
              "      <td>10</td>\n",
              "      <td>1433865031</td>\n",
              "      <td>MT</td>\n",
              "    </tr>\n",
              "  </tbody>\n",
              "</table>\n",
              "</div>"
            ],
            "text/plain": [
              "   From  To        Time Layer\n",
              "0     1   2  1433865027    RT\n",
              "1     3   4  1433865030    RT\n",
              "2     5   6  1433865030    RT\n",
              "3     7   8  1433865031    MT\n",
              "4     9  10  1433865031    MT"
            ]
          },
          "execution_count": 76,
          "metadata": {},
          "output_type": "execute_result"
        }
      ],
      "source": [
        "df.head()"
      ]
    },
    {
      "cell_type": "code",
      "execution_count": 77,
      "metadata": {},
      "outputs": [
        {
          "data": {
            "text/html": [
              "<div>\n",
              "<style scoped>\n",
              "    .dataframe tbody tr th:only-of-type {\n",
              "        vertical-align: middle;\n",
              "    }\n",
              "\n",
              "    .dataframe tbody tr th {\n",
              "        vertical-align: top;\n",
              "    }\n",
              "\n",
              "    .dataframe thead th {\n",
              "        text-align: right;\n",
              "    }\n",
              "</style>\n",
              "<table border=\"1\" class=\"dataframe\">\n",
              "  <thead>\n",
              "    <tr style=\"text-align: right;\">\n",
              "      <th></th>\n",
              "      <th>From</th>\n",
              "      <th>To</th>\n",
              "      <th>Layer</th>\n",
              "    </tr>\n",
              "  </thead>\n",
              "  <tbody>\n",
              "    <tr>\n",
              "      <th>0</th>\n",
              "      <td>1</td>\n",
              "      <td>2</td>\n",
              "      <td>RT</td>\n",
              "    </tr>\n",
              "    <tr>\n",
              "      <th>1</th>\n",
              "      <td>3</td>\n",
              "      <td>4</td>\n",
              "      <td>RT</td>\n",
              "    </tr>\n",
              "    <tr>\n",
              "      <th>2</th>\n",
              "      <td>5</td>\n",
              "      <td>6</td>\n",
              "      <td>RT</td>\n",
              "    </tr>\n",
              "    <tr>\n",
              "      <th>3</th>\n",
              "      <td>7</td>\n",
              "      <td>8</td>\n",
              "      <td>MT</td>\n",
              "    </tr>\n",
              "    <tr>\n",
              "      <th>4</th>\n",
              "      <td>9</td>\n",
              "      <td>10</td>\n",
              "      <td>MT</td>\n",
              "    </tr>\n",
              "  </tbody>\n",
              "</table>\n",
              "</div>"
            ],
            "text/plain": [
              "   From  To Layer\n",
              "0     1   2    RT\n",
              "1     3   4    RT\n",
              "2     5   6    RT\n",
              "3     7   8    MT\n",
              "4     9  10    MT"
            ]
          },
          "execution_count": 77,
          "metadata": {},
          "output_type": "execute_result"
        }
      ],
      "source": [
        "# delete 'Time' column\n",
        "del df['Time']\n",
        "df.head()"
      ]
    },
    {
      "cell_type": "code",
      "execution_count": 78,
      "metadata": {},
      "outputs": [
        {
          "name": "stdout",
          "output_type": "stream",
          "text": [
            "['RT' 'MT' 'RE']\n"
          ]
        }
      ],
      "source": [
        "# get unique values of 'Layer' column\n",
        "layers = df.Layer.unique()\n",
        "print(layers)"
      ]
    },
    {
      "cell_type": "code",
      "execution_count": 79,
      "metadata": {},
      "outputs": [],
      "source": [
        "# extract each layer into a separate dataframe (FOR CANNES2013)\n",
        "# df_MT = df[df.Layer == layers[0]]\n",
        "# df_RE = df[df.Layer == layers[1]]\n",
        "# df_RT = df[df.Layer == layers[2]]\n",
        "\n",
        "# extract each layer into a separate dataframe (FOR NBAFINALS2015)\n",
        "df_RT = df[df.Layer == layers[0]]\n",
        "df_MT = df[df.Layer == layers[1]]\n",
        "df_RE = df[df.Layer == layers[2]]"
      ]
    },
    {
      "cell_type": "code",
      "execution_count": 80,
      "metadata": {},
      "outputs": [],
      "source": [
        "# create an adjacency matrix for each layer\n",
        "adj_MT = nx.from_pandas_edgelist(df_MT, 'From', 'To', create_using=nx.Graph())\n",
        "adj_RE = nx.from_pandas_edgelist(df_RE, 'From', 'To', create_using=nx.Graph())\n",
        "adj_RT = nx.from_pandas_edgelist(df_RT, 'From', 'To', create_using=nx.Graph())"
      ]
    },
    {
      "cell_type": "code",
      "execution_count": 81,
      "metadata": {},
      "outputs": [
        {
          "name": "stdout",
          "output_type": "stream",
          "text": [
            "MT:  321515\n",
            "RE:  47801\n",
            "RT:  690288\n"
          ]
        }
      ],
      "source": [
        "# get the number of nodes in each layer\n",
        "print('MT: ', adj_MT.number_of_nodes())\n",
        "print('RE: ', adj_RE.number_of_nodes())\n",
        "print('RT: ', adj_RT.number_of_nodes())"
      ]
    },
    {
      "cell_type": "code",
      "execution_count": 82,
      "metadata": {},
      "outputs": [
        {
          "name": "stdout",
          "output_type": "stream",
          "text": [
            "RE:  22802\n",
            "RT:  22802\n"
          ]
        }
      ],
      "source": [
        "# keep the nodes present in both RT and RE layers and delelte other nodes\n",
        "nodes_to_keep = list(set(adj_RT.nodes()).intersection(set(adj_RE.nodes())))\n",
        "adj_RE.remove_nodes_from(list(set(adj_RE.nodes()) - set(nodes_to_keep)))\n",
        "adj_RT.remove_nodes_from(list(set(adj_RT.nodes()) - set(nodes_to_keep)))\n",
        "\n",
        "# get the number of nodes in each layer\n",
        "print('RE: ', adj_RE.number_of_nodes())\n",
        "print('RT: ', adj_RT.number_of_nodes())"
      ]
    },
    {
      "cell_type": "code",
      "execution_count": 83,
      "metadata": {},
      "outputs": [
        {
          "name": "stdout",
          "output_type": "stream",
          "text": [
            "RE:  5000\n",
            "RT:  5000\n"
          ]
        }
      ],
      "source": [
        "# randomly select 1000 nodes that exist in both layers\n",
        "nodes_to_keep = np.random.choice(list(set(adj_RT.nodes()).intersection(set(adj_RE.nodes()))), 5000, replace=False)\n",
        "adj_RE.remove_nodes_from(list(set(adj_RE.nodes()) - set(nodes_to_keep)))\n",
        "adj_RT.remove_nodes_from(list(set(adj_RT.nodes()) - set(nodes_to_keep)))\n",
        "\n",
        "# get the number of nodes in each layer\n",
        "print('RE: ', adj_RE.number_of_nodes())\n",
        "print('RT: ', adj_RT.number_of_nodes())"
      ]
    },
    {
      "cell_type": "code",
      "execution_count": 84,
      "metadata": {},
      "outputs": [
        {
          "name": "stdout",
          "output_type": "stream",
          "text": [
            "RE:  (11.21443045624522+0j) (-11.173861212317682+0j)\n",
            "RT:  (20.226044026581388+0j) (-19.377797189814434+0j)\n"
          ]
        }
      ],
      "source": [
        "# convert the adjacency matrices to numpy arrays\n",
        "adj_RE = nx.to_numpy_array(adj_RE)\n",
        "adj_RT = nx.to_numpy_array(adj_RT)\n",
        "\n",
        "# get maximum and minimum eigenvalues of the adjacency matrices\n",
        "print('RE: ', np.linalg.eigvals(adj_RE).max(), np.linalg.eigvals(adj_RE).min())\n",
        "print('RT: ', np.linalg.eigvals(adj_RT).max(), np.linalg.eigvals(adj_RT).min())"
      ]
    },
    {
      "cell_type": "code",
      "execution_count": 53,
      "metadata": {},
      "outputs": [],
      "source": [
        "from numpy import linalg as LA\n",
        "\n",
        "kappa_list = np.linspace(0, 1, 10)\n",
        "min_G = []\n",
        "max_G = []\n",
        "for kappa in kappa_list:\n",
        "    G = kappa*adj_RE + (1-kappa)*adj_RT\n",
        "    # get eigenvalues of G using La.eigvals\n",
        "    eigenvalues, eigenvectors = LA.eig(G)\n",
        "    min_G.append(min(eigenvalues))\n",
        "    # print(kappa)"
      ]
    },
    {
      "cell_type": "code",
      "execution_count": 54,
      "metadata": {},
      "outputs": [
        {
          "name": "stderr",
          "output_type": "stream",
          "text": [
            "/Users/macbook/opt/anaconda3/lib/python3.9/site-packages/matplotlib/cbook/__init__.py:1298: ComplexWarning: Casting complex values to real discards the imaginary part\n",
            "  return np.asarray(x, float)\n"
          ]
        },
        {
          "data": {
            "image/png": "[encoded data removed]",
            "text/plain": [
              "<Figure size 1000x1000 with 1 Axes>"
            ]
          },
          "metadata": {},
          "output_type": "display_data"
        }
      ],
      "source": [
        "plt.figure(figsize=(10, 10))\n",
        "plt.title('Minimum Eigenvalue of G')\n",
        "plt.plot(kappa_list, min_G, label='Minimum Eigenvalue')\n",
        "plt.rcParams.update({'font.size': 15})\n",
        "plt.xlabel('Kappa')\n",
        "plt.ylabel('Eigenvalue')\n",
        "plt.legend()\n",
        "# plt.show()\n",
        "plt.savefig('tweets.png')"
      ]
    }
  ],
  "metadata": {
    "colab": {
      "provenance": []
    },
    "kernelspec": {
      "display_name": "Python 3",
      "name": "python3"
    },
    "language_info": {
      "codemirror_mode": {
        "name": "ipython",
        "version": 3
      },
      "file_extension": ".py",
      "mimetype": "text/x-python",
      "name": "python",
      "nbconvert_exporter": "python",
      "pygments_lexer": "ipython3",
      "version": "3.9.13"
    }
  },
  "nbformat": 4,
  "nbformat_minor": 0
}
