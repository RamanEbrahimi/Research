{
  "cells": [
    {
      "cell_type": "code",
      "execution_count": 1,
      "metadata": {
        "id": "dnCLC6t5O9a8"
      },
      "outputs": [],
      "source": [
        "import numpy as np\n",
        "import pandas as pd\n",
        "import networkx as nx\n",
        "import matplotlib.pyplot as plt\n",
        "%matplotlib inline\n",
        "from scipy.linalg import eigvals\n",
        "import random\n",
        "from itertools import combinations"
      ]
    },
    {
      "cell_type": "code",
      "execution_count": 31,
      "metadata": {},
      "outputs": [],
      "source": [
        "def random_matrix(n):\n",
        "    \"\"\"\n",
        "    Generate a random n by n matrix with entries from -1 to 1 and diagonals as 0.\n",
        "    \"\"\"\n",
        "    # Generate a random n by n matrix with entries from -1 to 1\n",
        "    mat = np.random.uniform(-1, 1, size=(n, n))\n",
        "    A = (mat + mat.T)/2\n",
        "    # Set the diagonal entries to 0\n",
        "    np.fill_diagonal(A, 0)\n",
        "    return A\n",
        "\n",
        "def is_pos_def(A):\n",
        "    \"\"\"\n",
        "    Check if a matrix is positive definite.\n",
        "    \"\"\"\n",
        "    return np.all(np.linalg.eigvals(A) > 0)\n",
        "\n",
        "def min_eig(A):\n",
        "    \"\"\"\n",
        "    Compute the minimum eigenvalue of a matrix.\n",
        "    \"\"\"\n",
        "    min_eig = np.min(eigvals(A))\n",
        "    return min_eig.real\n",
        "\n",
        "def generate_matrices(n, kappa):\n",
        "    \"\"\"\n",
        "    Generate matrices.\n",
        "    \"\"\"\n",
        "    G12 = random_matrix(n)\n",
        "    G21 = G12.T\n",
        "    weak_G12 = 0.5 * G12\n",
        "    weak_G21 = weak_G12.T\n",
        "    very_weak_G12 = 0.1 * weak_G12\n",
        "    very_weak_G21 = very_weak_G12.T\n",
        "\n",
        "    return G12, G21, weak_G12, weak_G21, very_weak_G12, very_weak_G21\n",
        "\n",
        "def generate_G(G1, G2, G12, G21):\n",
        "    \"\"\"\n",
        "    Generate the block matrix G.\n",
        "    \"\"\"\n",
        "    G = np.block([[G1, G12], [G21, G2]])\n",
        "    return G\n"
      ]
    },
    {
      "cell_type": "code",
      "execution_count": 29,
      "metadata": {},
      "outputs": [
        {
          "ename": "ValueError",
          "evalue": "not enough values to unpack (expected 8, got 6)",
          "output_type": "error",
          "traceback": [
            "\u001b[0;31m---------------------------------------------------------------------------\u001b[0m",
            "\u001b[0;31mValueError\u001b[0m                                Traceback (most recent call last)",
            "\u001b[0;32m/var/folders/hs/y116vr4j4yg5fcthw_l99c5r0000gn/T/ipykernel_7515/3193881563.py\u001b[0m in \u001b[0;36m<module>\u001b[0;34m\u001b[0m\n\u001b[1;32m     40\u001b[0m     \u001b[0;32mif\u001b[0m \u001b[0mlen\u001b[0m\u001b[0;34m(\u001b[0m\u001b[0meig_G\u001b[0m\u001b[0;34m)\u001b[0m \u001b[0;34m==\u001b[0m \u001b[0;36m5000\u001b[0m\u001b[0;34m:\u001b[0m\u001b[0;34m\u001b[0m\u001b[0;34m\u001b[0m\u001b[0m\n\u001b[1;32m     41\u001b[0m         \u001b[0;32mbreak\u001b[0m\u001b[0;34m\u001b[0m\u001b[0;34m\u001b[0m\u001b[0m\n\u001b[0;32m---> 42\u001b[0;31m     \u001b[0mG1\u001b[0m\u001b[0;34m,\u001b[0m \u001b[0mG2\u001b[0m\u001b[0;34m,\u001b[0m \u001b[0mG12\u001b[0m\u001b[0;34m,\u001b[0m \u001b[0mG21\u001b[0m\u001b[0;34m,\u001b[0m \u001b[0mweak_G12\u001b[0m\u001b[0;34m,\u001b[0m \u001b[0mweak_G21\u001b[0m\u001b[0;34m,\u001b[0m \u001b[0mvery_weak_G12\u001b[0m\u001b[0;34m,\u001b[0m \u001b[0mvery_weak_G21\u001b[0m \u001b[0;34m=\u001b[0m \u001b[0mgenerate_matrices\u001b[0m\u001b[0;34m(\u001b[0m\u001b[0mn\u001b[0m\u001b[0;34m,\u001b[0m \u001b[0mkappa\u001b[0m\u001b[0;34m)\u001b[0m\u001b[0;34m\u001b[0m\u001b[0;34m\u001b[0m\u001b[0m\n\u001b[0m\u001b[1;32m     43\u001b[0m     \u001b[0mG\u001b[0m \u001b[0;34m=\u001b[0m \u001b[0mgenerate_G\u001b[0m\u001b[0;34m(\u001b[0m\u001b[0mG1\u001b[0m\u001b[0;34m,\u001b[0m \u001b[0mG2\u001b[0m\u001b[0;34m,\u001b[0m \u001b[0mG12\u001b[0m\u001b[0;34m,\u001b[0m \u001b[0mG21\u001b[0m\u001b[0;34m)\u001b[0m\u001b[0;34m\u001b[0m\u001b[0;34m\u001b[0m\u001b[0m\n\u001b[1;32m     44\u001b[0m     \u001b[0mG_weak\u001b[0m \u001b[0;34m=\u001b[0m \u001b[0mgenerate_G\u001b[0m\u001b[0;34m(\u001b[0m\u001b[0mG1\u001b[0m\u001b[0;34m,\u001b[0m \u001b[0mG2\u001b[0m\u001b[0;34m,\u001b[0m \u001b[0mweak_G12\u001b[0m\u001b[0;34m,\u001b[0m \u001b[0mweak_G21\u001b[0m\u001b[0;34m)\u001b[0m\u001b[0;34m\u001b[0m\u001b[0;34m\u001b[0m\u001b[0m\n",
            "\u001b[0;31mValueError\u001b[0m: not enough values to unpack (expected 8, got 6)"
          ]
        }
      ],
      "source": [
        "n = 5\n",
        "kappa = 0.5\n",
        "iterations = 100000\n",
        "\n",
        "\n",
        "eig_G1 = []\n",
        "eig_G2 = []\n",
        "eig_G = []\n",
        "eig_G_weak = []\n",
        "eig_G_very_weak = []\n",
        "eig_oneway_G = []\n",
        "\n",
        "pos_G1 = []\n",
        "pos_G2 = []\n",
        "pos_G = []\n",
        "pos_G_weak = []\n",
        "pos_G_very_weak = []\n",
        "pos_oneway_G = []\n",
        "\n",
        "for i in range(iterations):\n",
        "    if len(eig_G) == 5000:\n",
        "        break\n",
        "    G1, G2, G12, G21, weak_G12, weak_G21, very_weak_G12, very_weak_G21 = generate_matrices(n, kappa)\n",
        "    G = generate_G(G1, G2, G12, G21)\n",
        "    G_weak = generate_G(G1, G2, weak_G12, weak_G21)\n",
        "    G_very_weak = generate_G(G1, G2, very_weak_G12, very_weak_G21)\n",
        "    oneway_G = np.block([[G1, G12], [(np.zeros((n, n))), G2]])\n",
        "\n",
        "    min_G1 = min_eig(np.identity(n) + G1)\n",
        "    if min_G1 < 0:\n",
        "        continue\n",
        "    min_G2 = min_eig(np.identity(n) + G2)\n",
        "    min_G = min_eig(np.identity(2*n) + G)\n",
        "    min_G_weak = min_eig(np.identity(2*n) + G_weak)\n",
        "    min_G_very_weak = min_eig(np.identity(2*n) + G_very_weak)\n",
        "\n",
        "    eig_G1.append(min_G1)\n",
        "    eig_G2.append(min_G2)\n",
        "    eig_G.append(min_G)\n",
        "    eig_G_weak.append(min_G_weak)\n",
        "    eig_G_very_weak.append(min_G_very_weak)\n",
        "    eig_oneway_G.append(min_eig(np.identity(2*n) + oneway_G))\n",
        "\n",
        "    pos_G1.append(is_pos_def(np.identity(n) + G1))\n",
        "    pos_G2.append(is_pos_def(np.identity(n) + G2))\n",
        "    pos_G.append(is_pos_def(np.identity(2*n) + G))\n",
        "    pos_G_weak.append(is_pos_def(np.identity(2*n) + G_weak))\n",
        "    pos_G_very_weak.append(is_pos_def(np.identity(2*n) + G_very_weak))\n",
        "    pos_oneway_G.append(is_pos_def(np.identity(2*n) + oneway_G))\n",
        "    \n",
        "\n",
        "# Plotting the heatmap\n",
        "data_1 = np.array([eig_G1, eig_G2, eig_oneway_G, eig_G_very_weak, eig_G_weak, eig_G])\n",
        "data_2 = np.array([pos_G1, pos_G2, pos_oneway_G, pos_G_very_weak, pos_G_weak, pos_G])\n",
        "\n",
        "# sort by the third row in eig_G and use the indices to also sort pos_G\n",
        "sorted_data = data_1[:, np.argsort(data_1[0])]\n",
        "sorted_data_2 = data_2[:, np.argsort(data_1[0])]"
      ]
    },
    {
      "cell_type": "code",
      "execution_count": 30,
      "metadata": {},
      "outputs": [
        {
          "data": {
            "image/png": "[encoded data removed]",
            "text/plain": [
              "<Figure size 640x480 with 1 Axes>"
            ]
          },
          "metadata": {},
          "output_type": "display_data"
        },
        {
          "name": "stdout",
          "output_type": "stream",
          "text": [
            "Total number of matrices:  0\n"
          ]
        }
      ],
      "source": [
        "plt.imshow(sorted_data_2, cmap='viridis', interpolation='nearest', aspect='auto')\n",
        "\n",
        "# Naming the y-ticks\n",
        "plt.yticks(np.arange(6), [\"Layer 1\", \"Layer 2\", \"One-way\\n Interlayer\", \"Very Weak\\n Interlayer\", \"Weak\\n Interlayer\", \"Normal\\n Interlayer\"])\n",
        "\n",
        "# plt.colorbar()\n",
        "# plt.title('Determinants of Submatrices')\n",
        "plt.xlabel('Instances')\n",
        "# plt.ylabel('Matrices')\n",
        "plt.savefig('test-prop9-binary.png', dpi=300, bbox_inches='tight')\n",
        "plt.show()\n",
        "print(\"Total number of matrices: \", len(eig_G))"
      ]
    },
    {
      "cell_type": "code",
      "execution_count": 35,
      "metadata": {},
      "outputs": [],
      "source": [
        "def generate_and_sort_matrices(n, kappa, num_matrices):\n",
        "    layer_1 = []\n",
        "    layer_2 = []\n",
        "    for _ in range(num_matrices):\n",
        "        G1 = random_matrix(n)\n",
        "        G2 = random_matrix(n)\n",
        "        layer_1.append(G1)\n",
        "        layer_2.append(G2)\n",
        "\n",
        "    sorted_layer_1 = sorted(layer_1, key=lambda x: min_eig(np.identity(n) + x[0]))\n",
        "    sorted_layer_2 = sorted(layer_2, key=lambda x: min_eig(np.identity(n) + x[0]))\n",
        "\n",
        "    return sorted_layer_1, sorted_layer_2\n",
        "\n",
        "n = 5\n",
        "kappa = 0.5\n",
        "num_matrices = 100\n",
        "\n",
        "sorted_layer_1, sorted_layer_2 = generate_and_sort_matrices(n, kappa, num_matrices)"
      ]
    },
    {
      "cell_type": "code",
      "execution_count": 40,
      "metadata": {},
      "outputs": [],
      "source": [
        "# Initialize lists to store data\n",
        "eig_G1 = []\n",
        "eig_G2 = []\n",
        "eig_G = []\n",
        "eig_G_weak = []\n",
        "eig_G_very_weak = []\n",
        "eig_oneway_G = []\n",
        "\n",
        "pos_G1 = []\n",
        "pos_G2 = []\n",
        "pos_G = []\n",
        "pos_G_weak = []\n",
        "pos_G_very_weak = []\n",
        "pos_oneway_G = []\n",
        "\n",
        "for layer1_instance in sorted_layer_1:\n",
        "    for layer2_instance in sorted_layer_2:\n",
        "        G1 = layer1_instance\n",
        "        G2 = layer2_instance\n",
        "        G12, G21, weak_G12, weak_G21, very_weak_G12, very_weak_G21 = generate_matrices(n, kappa)\n",
        "        G = generate_G(G1, G2, G12, G21)\n",
        "        G_weak = generate_G(G1, G2, weak_G12, weak_G21)\n",
        "        G_very_weak = generate_G(G1, G2, very_weak_G12, very_weak_G21)\n",
        "        oneway_G = np.block([[G1, G12], [(np.zeros((n, n))), G2]])\n",
        "\n",
        "        min_G1 = min_eig(np.identity(n) + G1)\n",
        "        if min_G1 < 0:\n",
        "            continue\n",
        "\n",
        "        pos_G1.append(is_pos_def(np.identity(n) + G1))\n",
        "        pos_G2.append(is_pos_def(np.identity(n) + G2))\n",
        "        pos_G.append(is_pos_def(np.identity(2 * n) + G))\n",
        "        pos_G_weak.append(is_pos_def(np.identity(2 * n) + G_weak))\n",
        "        pos_G_very_weak.append(is_pos_def(np.identity(2 * n) + G_very_weak))\n",
        "        pos_oneway_G.append(is_pos_def(np.identity(2 * n) + oneway_G))\n",
        "\n",
        "# Plotting the heatmap\n",
        "data_2 = np.array([pos_G1, pos_G2, pos_oneway_G, pos_G_very_weak, pos_G_weak, pos_G])"
      ]
    },
    {
      "cell_type": "code",
      "execution_count": 42,
      "metadata": {},
      "outputs": [
        {
          "data": {
            "image/png": "[encoded data removed]",
            "text/plain": [
              "<Figure size 640x480 with 1 Axes>"
            ]
          },
          "metadata": {},
          "output_type": "display_data"
        },
        {
          "name": "stdout",
          "output_type": "stream",
          "text": [
            "Total number of matrices:  3400\n"
          ]
        }
      ],
      "source": [
        "plt.imshow(data_2, cmap='viridis', interpolation='nearest', aspect='auto')\n",
        "\n",
        "# Naming the y-ticks\n",
        "plt.yticks(np.arange(6), [\"Layer 1\", \"Layer 2\", \"One-way\\n Interlayer\", \"Very Weak\\n Interlayer\", \"Weak\\n Interlayer\", \"Normal\\n Interlayer\"])\n",
        "\n",
        "# plt.colorbar()\n",
        "# plt.title('Determinants of Submatrices')\n",
        "plt.xlabel('Instances')\n",
        "# plt.ylabel('Matrices')\n",
        "plt.savefig('test-prop9-binary.png', dpi=300, bbox_inches='tight')\n",
        "plt.show()\n",
        "print(\"Total number of matrices: \", len(pos_G1))"
      ]
    }
  ],
  "metadata": {
    "colab": {
      "provenance": []
    },
    "kernelspec": {
      "display_name": "Python 3",
      "language": "python",
      "name": "python3"
    },
    "language_info": {
      "codemirror_mode": {
        "name": "ipython",
        "version": 3
      },
      "file_extension": ".py",
      "mimetype": "text/x-python",
      "name": "python",
      "nbconvert_exporter": "python",
      "pygments_lexer": "ipython3",
      "version": "3.9.13"
    },
    "orig_nbformat": 4,
    "vscode": {
      "interpreter": {
        "hash": "aee8b7b246df8f9039afb4144a1f6fd8d2ca17a180786b69acc140d282b71a49"
      }
    }
  },
  "nbformat": 4,
  "nbformat_minor": 0
}
