{
  "cells": [
    {
      "cell_type": "code",
      "execution_count": 2,
      "metadata": {
        "id": "dnCLC6t5O9a8"
      },
      "outputs": [],
      "source": [
        "import numpy as np\n",
        "import pandas as pd\n",
        "import networkx as nx\n",
        "import matplotlib.pyplot as plt\n",
        "%matplotlib inline\n",
        "from scipy.linalg import eigvals\n",
        "import random\n",
        "from itertools import combinations"
      ]
    },
    {
      "cell_type": "code",
      "execution_count": 3,
      "metadata": {},
      "outputs": [],
      "source": [
        "def random_matrix(n):\n",
        "    \"\"\"\n",
        "    Generate a random n by n matrix with entries from -1 to 1 and diagonals as 0.\n",
        "    \"\"\"\n",
        "    # Generate a random n by n matrix with entries from -1 to 1\n",
        "    mat = np.random.uniform(-1, 1, size=(n, n))\n",
        "    A = (mat + mat.T)/2\n",
        "    # Set the diagonal entries to 0\n",
        "    np.fill_diagonal(A, 0)\n",
        "    return A\n",
        "\n",
        "def is_pos_def(A):\n",
        "    \"\"\"\n",
        "    Check if a matrix is positive definite.\n",
        "    \"\"\"\n",
        "    return np.all(np.linalg.eigvals(A) > 0)\n",
        "\n",
        "def min_eig(A):\n",
        "    \"\"\"\n",
        "    Compute the minimum eigenvalue of a matrix.\n",
        "    \"\"\"\n",
        "    min_eig = np.min(eigvals(A))\n",
        "    return min_eig.real\n",
        "\n",
        "def generate_matrices(n, kappa):\n",
        "    \"\"\"\n",
        "    Generate matrices.\n",
        "    \"\"\"\n",
        "    G12 = random_matrix(n)\n",
        "    G21 = G12.T\n",
        "    weak_G12 = 0.5 * G12\n",
        "    weak_G21 = weak_G12.T\n",
        "    very_weak_G12 = 0.1 * weak_G12\n",
        "    very_weak_G21 = very_weak_G12.T\n",
        "\n",
        "    return G12, G21, weak_G12, weak_G21, very_weak_G12, very_weak_G21\n",
        "\n",
        "def generate_G(G1, G2, G12, G21):\n",
        "    \"\"\"\n",
        "    Generate the block matrix G.\n",
        "    \"\"\"\n",
        "    G = np.block([[G1, G12], [G21, G2]])\n",
        "    return G\n"
      ]
    },
    {
      "cell_type": "code",
      "execution_count": 4,
      "metadata": {},
      "outputs": [],
      "source": [
        "n = 5\n",
        "kappa = 0.5\n",
        "iterations = 100000\n",
        "\n",
        "\n",
        "eig_G1 = []\n",
        "eig_G2 = []\n",
        "eig_G = []\n",
        "eig_G_weak = []\n",
        "eig_G_very_weak = []\n",
        "eig_oneway_G = []\n",
        "\n",
        "pos_G1 = []\n",
        "pos_G2 = []\n",
        "pos_G = []\n",
        "pos_G_weak = []\n",
        "pos_G_very_weak = []\n",
        "pos_oneway_G = []\n",
        "\n",
        "for i in range(iterations):\n",
        "    if len(eig_G) == 5000:\n",
        "        break\n",
        "    G1 = random_matrix(n)\n",
        "    G2 = random_matrix(n)\n",
        "    G12, G21, weak_G12, weak_G21, very_weak_G12, very_weak_G21 = generate_matrices(n, kappa)\n",
        "    G = generate_G(G1, G2, G12, G21)\n",
        "    G_weak = generate_G(G1, G2, weak_G12, weak_G21)\n",
        "    G_very_weak = generate_G(G1, G2, very_weak_G12, very_weak_G21)\n",
        "    oneway_G = np.block([[G1, G12], [(np.zeros((n, n))), G2]])\n",
        "\n",
        "    min_G1 = min_eig(np.identity(n) + G1)\n",
        "    if min_G1 < 0:\n",
        "        continue\n",
        "    min_G2 = min_eig(np.identity(n) + G2)\n",
        "    min_G = min_eig(np.identity(2*n) + G)\n",
        "    min_G_weak = min_eig(np.identity(2*n) + G_weak)\n",
        "    min_G_very_weak = min_eig(np.identity(2*n) + G_very_weak)\n",
        "\n",
        "    eig_G1.append(min_G1)\n",
        "    eig_G2.append(min_G2)\n",
        "    eig_G.append(min_G)\n",
        "    eig_G_weak.append(min_G_weak)\n",
        "    eig_G_very_weak.append(min_G_very_weak)\n",
        "    eig_oneway_G.append(min_eig(np.identity(2*n) + oneway_G))\n",
        "\n",
        "    pos_G1.append(is_pos_def(np.identity(n) + G1))\n",
        "    pos_G2.append(is_pos_def(np.identity(n) + G2))\n",
        "    pos_G.append(is_pos_def(np.identity(2*n) + G))\n",
        "    pos_G_weak.append(is_pos_def(np.identity(2*n) + G_weak))\n",
        "    pos_G_very_weak.append(is_pos_def(np.identity(2*n) + G_very_weak))\n",
        "    pos_oneway_G.append(is_pos_def(np.identity(2*n) + oneway_G))\n",
        "    \n",
        "\n",
        "# Plotting the heatmap\n",
        "data_1 = np.array([eig_G1, eig_G2, eig_oneway_G, eig_G_very_weak, eig_G_weak, eig_G])\n",
        "data_2 = np.array([pos_G1, pos_G2, pos_oneway_G, pos_G_very_weak, pos_G_weak, pos_G])\n",
        "\n",
        "# sort by the third row in eig_G and use the indices to also sort pos_G\n",
        "sorted_data = data_1[:, np.argsort(data_1[0])]\n",
        "sorted_data_2 = data_2[:, np.argsort(data_1[0])]"
      ]
    },
    {
      "cell_type": "code",
      "execution_count": 5,
      "metadata": {},
      "outputs": [
        {
          "data": {
            "image/png": "[encoded data removed]",
            "text/plain": [
              "<Figure size 640x480 with 1 Axes>"
            ]
          },
          "metadata": {},
          "output_type": "display_data"
        },
        {
          "name": "stdout",
          "output_type": "stream",
          "text": [
            "Total number of matrices:  5000\n"
          ]
        }
      ],
      "source": [
        "plt.imshow(sorted_data_2, cmap='viridis', interpolation='nearest', aspect='auto')\n",
        "\n",
        "# Naming the y-ticks\n",
        "plt.yticks(np.arange(6), [\"Layer 1\", \"Layer 2\", \"One-way\\n Interlayer\", \"Very Weak\\n Interlayer\", \"Weak\\n Interlayer\", \"Normal\\n Interlayer\"])\n",
        "\n",
        "# plt.colorbar()\n",
        "# plt.title('Determinants of Submatrices')\n",
        "plt.xlabel('Instances')\n",
        "# plt.ylabel('Matrices')\n",
        "plt.savefig('test-prop9-binary.png', dpi=300, bbox_inches='tight')\n",
        "plt.show()\n",
        "print(\"Total number of matrices: \", len(eig_G))"
      ]
    },
    {
      "cell_type": "code",
      "execution_count": 6,
      "metadata": {},
      "outputs": [
        {
          "name": "stdout",
          "output_type": "stream",
          "text": [
            "(50, 5, 5)\n",
            "[0.9999999999999999, 0.3408936993492438, 0.9999999999999999, 0.6825407942529079, 0.6227498159308823, 0.9999999999999971, 0.9999999999999992, 0.8201137494546351, -0.20243827276913023, 0.6594212627250953, 0.9999999999999998, 1.0, 0.9999999999999992, 0.06367130833304419, 0.9999999999999996, 0.7036771102482289, 0.40845741905935784, 0.9999999999999999, 0.41465845791239264, 0.217194565979392, 0.9999999999999998, 0.9999999999999982, 0.9999999999999991, 0.7194405296153408, 0.18611523273072217, -0.1081898709540389, 0.35699259503428893, 0.999999999999999, 0.9999999999999999, 0.21255512418155953, 0.47789995778230693, 1.0, 0.8986100077943282, 0.9999999999999999, 0.9999999999999997, 0.9999999999999998, 0.8561349180631028, 0.9999999999999992, 0.9999999999999981, 0.9999999999999998, 0.9999999999999999, 0.7194097797624632, 0.3968117449087592, 0.9999999999999994, 0.9999999999999998, 0.5797272841132132, -0.6245090146238957, 0.9999999999999999, 0.9999999999999998, 0.8019913948440965]\n"
          ]
        }
      ],
      "source": [
        "def generate_and_sort_matrices(n, num_matrices):\n",
        "    layer = []\n",
        "    for _ in range(num_matrices):\n",
        "        G = random_matrix(n)\n",
        "        layer.append(G)\n",
        "\n",
        "    # sort by the minimum eigenvalue\n",
        "    sorted_layer = sorted(layer, key=lambda x: min_eig(np.identity(n) + x))\n",
        "\n",
        "    return sorted_layer\n",
        "\n",
        "n = 5\n",
        "kappa = 0.5\n",
        "\n",
        "sorted_layer_1 = generate_and_sort_matrices(n, 50)\n",
        "print(np.shape(sorted_layer_1))\n",
        "# print minimum eigenvalues of the first matrix in each list\n",
        "print([min_eig(np.identity(n) + x[0]) for x in sorted_layer_1])\n",
        "sorted_layer_2 = generate_and_sort_matrices(n, 1000)"
      ]
    },
    {
      "cell_type": "code",
      "execution_count": 7,
      "metadata": {},
      "outputs": [
        {
          "name": "stdout",
          "output_type": "stream",
          "text": [
            "15000\n"
          ]
        }
      ],
      "source": [
        "# Initialize lists to store data\n",
        "eig_G1 = []\n",
        "eig_G2 = []\n",
        "eig_G = []\n",
        "eig_G_weak = []\n",
        "eig_G_very_weak = []\n",
        "eig_oneway_G = []\n",
        "\n",
        "pos_G1 = []\n",
        "pos_G2 = []\n",
        "pos_G = []\n",
        "pos_G_weak = []\n",
        "pos_G_very_weak = []\n",
        "pos_oneway_G = []\n",
        "\n",
        "for layer1_instance in sorted_layer_1:\n",
        "    for layer2_instance in sorted_layer_2:\n",
        "        G1 = layer1_instance\n",
        "        G2 = layer2_instance\n",
        "        G12, G21, weak_G12, weak_G21, very_weak_G12, very_weak_G21 = generate_matrices(n, kappa)\n",
        "        G = generate_G(G1, G2, G12, G21)\n",
        "        G_weak = generate_G(G1, G2, weak_G12, weak_G21)\n",
        "        G_very_weak = generate_G(G1, G2, very_weak_G12, very_weak_G21)\n",
        "        oneway_G = np.block([[G1, G12], [(np.zeros((n, n))), G2]])\n",
        "\n",
        "        min_G1 = min_eig(np.identity(n) + G1)\n",
        "        if min_G1 < 0:\n",
        "            continue\n",
        "        # print(min_G1)\n",
        "        min_G2 = min_eig(np.identity(n) + G2)\n",
        "        min_G = min_eig(np.identity(2*n) + G)\n",
        "        min_G_weak = min_eig(np.identity(2*n) + G_weak)\n",
        "        min_G_very_weak = min_eig(np.identity(2*n) + G_very_weak)\n",
        "\n",
        "        eig_G1.append(min_G1)\n",
        "        eig_G2.append(min_G2)\n",
        "        eig_G.append(min_G)\n",
        "        eig_G_weak.append(min_G_weak)\n",
        "        eig_G_very_weak.append(min_G_very_weak)\n",
        "        eig_oneway_G.append(min_eig(np.identity(2*n) + oneway_G))\n",
        "\n",
        "        pos_G1.append(is_pos_def(np.identity(n) + G1))\n",
        "        pos_G2.append(is_pos_def(np.identity(n) + G2))\n",
        "        pos_G.append(is_pos_def(np.identity(2*n) + G))\n",
        "        pos_G_weak.append(is_pos_def(np.identity(2*n) + G_weak))\n",
        "        pos_G_very_weak.append(is_pos_def(np.identity(2*n) + G_very_weak))\n",
        "        pos_oneway_G.append(is_pos_def(np.identity(2*n) + oneway_G))\n",
        "    \n",
        "\n",
        "# Plotting the heatmap\n",
        "data_1 = np.array([eig_G1, eig_G2, eig_oneway_G, eig_G_very_weak, eig_G_weak, eig_G])\n",
        "data_2 = np.array([pos_G1, pos_G2, pos_oneway_G, pos_G_very_weak, pos_G_weak, pos_G])\n",
        "\n",
        "print(len(pos_G1))"
      ]
    },
    {
      "cell_type": "code",
      "execution_count": 8,
      "metadata": {},
      "outputs": [
        {
          "ename": "IndexError",
          "evalue": "index 15000 is out of bounds for axis 0 with size 15000",
          "output_type": "error",
          "traceback": [
            "\u001b[0;31m---------------------------------------------------------------------------\u001b[0m",
            "\u001b[0;31mIndexError\u001b[0m                                Traceback (most recent call last)",
            "\u001b[0;32m/var/folders/hs/y116vr4j4yg5fcthw_l99c5r0000gn/T/ipykernel_4587/4082861216.py\u001b[0m in \u001b[0;36m<module>\u001b[0;34m\u001b[0m\n\u001b[1;32m      3\u001b[0m \u001b[0;34m\u001b[0m\u001b[0m\n\u001b[1;32m      4\u001b[0m \u001b[0;31m# Use np.delete to remove the specified columns\u001b[0m\u001b[0;34m\u001b[0m\u001b[0;34m\u001b[0m\u001b[0m\n\u001b[0;32m----> 5\u001b[0;31m \u001b[0mdata_2_modified\u001b[0m \u001b[0;34m=\u001b[0m \u001b[0mnp\u001b[0m\u001b[0;34m.\u001b[0m\u001b[0mdelete\u001b[0m\u001b[0;34m(\u001b[0m\u001b[0mdata_2\u001b[0m\u001b[0;34m,\u001b[0m \u001b[0mcolumns_to_delete\u001b[0m\u001b[0;34m,\u001b[0m \u001b[0maxis\u001b[0m\u001b[0;34m=\u001b[0m\u001b[0;36m1\u001b[0m\u001b[0;34m)\u001b[0m\u001b[0;34m\u001b[0m\u001b[0;34m\u001b[0m\u001b[0m\n\u001b[0m",
            "\u001b[0;32m<__array_function__ internals>\u001b[0m in \u001b[0;36mdelete\u001b[0;34m(*args, **kwargs)\u001b[0m\n",
            "\u001b[0;32m~/opt/anaconda3/lib/python3.9/site-packages/numpy/lib/function_base.py\u001b[0m in \u001b[0;36mdelete\u001b[0;34m(arr, obj, axis)\u001b[0m\n\u001b[1;32m   4550\u001b[0m         \u001b[0;32melse\u001b[0m\u001b[0;34m:\u001b[0m\u001b[0;34m\u001b[0m\u001b[0;34m\u001b[0m\u001b[0m\n\u001b[1;32m   4551\u001b[0m             \u001b[0mkeep\u001b[0m \u001b[0;34m=\u001b[0m \u001b[0mones\u001b[0m\u001b[0;34m(\u001b[0m\u001b[0mN\u001b[0m\u001b[0;34m,\u001b[0m \u001b[0mdtype\u001b[0m\u001b[0;34m=\u001b[0m\u001b[0mbool\u001b[0m\u001b[0;34m)\u001b[0m\u001b[0;34m\u001b[0m\u001b[0;34m\u001b[0m\u001b[0m\n\u001b[0;32m-> 4552\u001b[0;31m             \u001b[0mkeep\u001b[0m\u001b[0;34m[\u001b[0m\u001b[0mobj\u001b[0m\u001b[0;34m,\u001b[0m\u001b[0;34m]\u001b[0m \u001b[0;34m=\u001b[0m \u001b[0;32mFalse\u001b[0m\u001b[0;34m\u001b[0m\u001b[0;34m\u001b[0m\u001b[0m\n\u001b[0m\u001b[1;32m   4553\u001b[0m \u001b[0;34m\u001b[0m\u001b[0m\n\u001b[1;32m   4554\u001b[0m         \u001b[0mslobj\u001b[0m\u001b[0;34m[\u001b[0m\u001b[0maxis\u001b[0m\u001b[0;34m]\u001b[0m \u001b[0;34m=\u001b[0m \u001b[0mkeep\u001b[0m\u001b[0;34m\u001b[0m\u001b[0;34m\u001b[0m\u001b[0m\n",
            "\u001b[0;31mIndexError\u001b[0m: index 15000 is out of bounds for axis 0 with size 15000"
          ]
        }
      ],
      "source": [
        "# Combine the ranges of columns to delete\n",
        "columns_to_delete = list(range(2000, 10000)) + list(range(11000, 12000)) + list(range(15000, 20000))\n",
        "\n",
        "# Use np.delete to remove the specified columns\n",
        "data_2_modified = np.delete(data_2, columns_to_delete, axis=1)"
      ]
    },
    {
      "cell_type": "code",
      "execution_count": 9,
      "metadata": {},
      "outputs": [
        {
          "ename": "IndexError",
          "evalue": "index 15000 is out of bounds for axis 0 with size 15000",
          "output_type": "error",
          "traceback": [
            "\u001b[0;31m---------------------------------------------------------------------------\u001b[0m",
            "\u001b[0;31mIndexError\u001b[0m                                Traceback (most recent call last)",
            "\u001b[0;32m/var/folders/hs/y116vr4j4yg5fcthw_l99c5r0000gn/T/ipykernel_4587/3394210888.py\u001b[0m in \u001b[0;36m<module>\u001b[0;34m\u001b[0m\n\u001b[1;32m      3\u001b[0m \u001b[0;34m\u001b[0m\u001b[0m\n\u001b[1;32m      4\u001b[0m \u001b[0;31m# Use np.delete to remove the specified columns\u001b[0m\u001b[0;34m\u001b[0m\u001b[0;34m\u001b[0m\u001b[0m\n\u001b[0;32m----> 5\u001b[0;31m \u001b[0mdata_1_modified\u001b[0m \u001b[0;34m=\u001b[0m \u001b[0mnp\u001b[0m\u001b[0;34m.\u001b[0m\u001b[0mdelete\u001b[0m\u001b[0;34m(\u001b[0m\u001b[0mdata_1\u001b[0m\u001b[0;34m,\u001b[0m \u001b[0mcolumns_to_delete\u001b[0m\u001b[0;34m,\u001b[0m \u001b[0maxis\u001b[0m\u001b[0;34m=\u001b[0m\u001b[0;36m1\u001b[0m\u001b[0;34m)\u001b[0m\u001b[0;34m\u001b[0m\u001b[0;34m\u001b[0m\u001b[0m\n\u001b[0m",
            "\u001b[0;32m<__array_function__ internals>\u001b[0m in \u001b[0;36mdelete\u001b[0;34m(*args, **kwargs)\u001b[0m\n",
            "\u001b[0;32m~/opt/anaconda3/lib/python3.9/site-packages/numpy/lib/function_base.py\u001b[0m in \u001b[0;36mdelete\u001b[0;34m(arr, obj, axis)\u001b[0m\n\u001b[1;32m   4550\u001b[0m         \u001b[0;32melse\u001b[0m\u001b[0;34m:\u001b[0m\u001b[0;34m\u001b[0m\u001b[0;34m\u001b[0m\u001b[0m\n\u001b[1;32m   4551\u001b[0m             \u001b[0mkeep\u001b[0m \u001b[0;34m=\u001b[0m \u001b[0mones\u001b[0m\u001b[0;34m(\u001b[0m\u001b[0mN\u001b[0m\u001b[0;34m,\u001b[0m \u001b[0mdtype\u001b[0m\u001b[0;34m=\u001b[0m\u001b[0mbool\u001b[0m\u001b[0;34m)\u001b[0m\u001b[0;34m\u001b[0m\u001b[0;34m\u001b[0m\u001b[0m\n\u001b[0;32m-> 4552\u001b[0;31m             \u001b[0mkeep\u001b[0m\u001b[0;34m[\u001b[0m\u001b[0mobj\u001b[0m\u001b[0;34m,\u001b[0m\u001b[0;34m]\u001b[0m \u001b[0;34m=\u001b[0m \u001b[0;32mFalse\u001b[0m\u001b[0;34m\u001b[0m\u001b[0;34m\u001b[0m\u001b[0m\n\u001b[0m\u001b[1;32m   4553\u001b[0m \u001b[0;34m\u001b[0m\u001b[0m\n\u001b[1;32m   4554\u001b[0m         \u001b[0mslobj\u001b[0m\u001b[0;34m[\u001b[0m\u001b[0maxis\u001b[0m\u001b[0;34m]\u001b[0m \u001b[0;34m=\u001b[0m \u001b[0mkeep\u001b[0m\u001b[0;34m\u001b[0m\u001b[0;34m\u001b[0m\u001b[0m\n",
            "\u001b[0;31mIndexError\u001b[0m: index 15000 is out of bounds for axis 0 with size 15000"
          ]
        }
      ],
      "source": [
        "# Combine the ranges of columns to delete\n",
        "columns_to_delete = list(range(2000, 10000)) + list(range(11000, 12000)) + list(range(15000, 20000))\n",
        "\n",
        "# Use np.delete to remove the specified columns\n",
        "data_1_modified = np.delete(data_1, columns_to_delete, axis=1)"
      ]
    },
    {
      "cell_type": "code",
      "execution_count": 1,
      "metadata": {},
      "outputs": [],
      "source": [
        "# plt.imshow(data_2, cmap='Blues', interpolation='nearest', aspect='auto')\n",
        "\n",
        "# # Naming the y-ticks\n",
        "# plt.yticks(np.arange(6), [\"Layer 1\", \"Layer 2\", \"One-way\\n Interlayer\", \"Very Weak\\n Interlayer\", \"Weak\\n Interlayer\", \"Normal\\n Interlayer\"])\n",
        "\n",
        "# # plt.colorbar()\n",
        "# # plt.title('Determinants of Submatrices')\n",
        "# plt.xlabel('Sorted by Minimum Eigenvalue (left to right)')\n",
        "# # do not show the xticks\n",
        "# # plt.ylabel('Matrices')\n",
        "# # plt.savefig('test-prop9-binary.png', dpi=300, bbox_inches='tight')\n",
        "# plt.show()\n",
        "# print(\"Total number of matrices: \", len(pos_G1))"
      ]
    },
    {
      "cell_type": "code",
      "execution_count": 70,
      "metadata": {},
      "outputs": [
        {
          "data": {
            "image/png": "[encoded data removed]",
            "text/plain": [
              "<Figure size 640x480 with 1 Axes>"
            ]
          },
          "metadata": {},
          "output_type": "display_data"
        },
        {
          "name": "stdout",
          "output_type": "stream",
          "text": [
            "Total number of matrices:  20000\n"
          ]
        }
      ],
      "source": [
        "plt.imshow(data_2_modified, cmap='tab20b', interpolation='nearest', aspect='auto')\n",
        "\n",
        "# Naming the y-ticks\n",
        "plt.yticks(np.arange(6), [\"Layer 1\", \"Layer 2\", \"One-way\\n Interlayer\", \"Very Weak\\n Interlayer\", \"Weak\\n Interlayer\", \"Normal\\n Interlayer\"])\n",
        "\n",
        "# plt.colorbar()\n",
        "# plt.title('Determinants of Submatrices')\n",
        "plt.xlabel('Sorted by Minimum Eigenvalue (left to right)')\n",
        "# do not show the xticks\n",
        "plt.xticks([500, 1500, 2500, 3500, 4500, 5500], [r'$G_{\\beta_1}$', r'$G_{\\beta_2}$', r'$G_{\\beta_3}$', r'$G_{\\beta_4}$', r'$G_{\\beta_5}$', r'$G_{\\beta_6}$'])\n",
        "plt.axvline(x=1000, color='black', linewidth=1)\n",
        "plt.axvline(x=2000, color='black', linewidth=1)\n",
        "plt.axvline(x=3000, color='black', linewidth=1)\n",
        "plt.axvline(x=4000, color='black', linewidth=1)\n",
        "plt.axvline(x=5000, color='black', linewidth=1)\n",
        "plt.axhline(y=0.5, color='black', linewidth=1)\n",
        "plt.axhline(y=1.5, color='black', linewidth=1)\n",
        "plt.axhline(y=2.5, color='black', linewidth=1)\n",
        "plt.axhline(y=3.5, color='black', linewidth=1)\n",
        "plt.axhline(y=4.5, color='black', linewidth=1)\n",
        "# plt.ylabel('Matrices')\n",
        "plt.savefig('test-prop9-binary.png', dpi=600, bbox_inches='tight')\n",
        "plt.show()\n",
        "print(\"Total number of matrices: \", len(pos_G1))"
      ]
    }
  ],
  "metadata": {
    "colab": {
      "provenance": []
    },
    "kernelspec": {
      "display_name": "Python 3",
      "language": "python",
      "name": "python3"
    },
    "language_info": {
      "codemirror_mode": {
        "name": "ipython",
        "version": 3
      },
      "file_extension": ".py",
      "mimetype": "text/x-python",
      "name": "python",
      "nbconvert_exporter": "python",
      "pygments_lexer": "ipython3",
      "version": "3.9.13"
    },
    "orig_nbformat": 4,
    "vscode": {
      "interpreter": {
        "hash": "aee8b7b246df8f9039afb4144a1f6fd8d2ca17a180786b69acc140d282b71a49"
      }
    }
  },
  "nbformat": 4,
  "nbformat_minor": 0
}
