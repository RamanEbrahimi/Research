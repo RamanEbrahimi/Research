{
  "cells": [
    {
      "cell_type": "code",
      "execution_count": 2,
      "metadata": {
        "id": "dnCLC6t5O9a8"
      },
      "outputs": [],
      "source": [
        "import numpy as np\n",
        "import pandas as pd\n",
        "import networkx as nx\n",
        "import matplotlib.pyplot as plt\n",
        "%matplotlib inline\n",
        "from scipy.linalg import eigvals\n",
        "import random\n",
        "from itertools import combinations"
      ]
    },
    {
      "cell_type": "code",
      "execution_count": 3,
      "metadata": {},
      "outputs": [],
      "source": [
        "def random_matrix(n):\n",
        "    \"\"\"\n",
        "    Generate a random n by n matrix with entries from -1 to 1 and diagonals as 0.\n",
        "    \"\"\"\n",
        "    # Generate a random n by n matrix with entries from -1 to 1\n",
        "    mat = np.random.uniform(-1, 1, size=(n, n))\n",
        "    A = (mat + mat.T)/2\n",
        "    # Set the diagonal entries to 0\n",
        "    np.fill_diagonal(A, 0)\n",
        "    return A\n",
        "\n",
        "def is_pos_def(A):\n",
        "    \"\"\"\n",
        "    Check if a matrix is positive definite.\n",
        "    \"\"\"\n",
        "    return np.all(np.linalg.eigvals(A) > 0)\n",
        "\n",
        "def min_eig(A):\n",
        "    \"\"\"\n",
        "    Compute the minimum eigenvalue of a matrix.\n",
        "    \"\"\"\n",
        "    min_eig = np.min(eigvals(A))\n",
        "    return min_eig.real"
      ]
    },
    {
      "cell_type": "code",
      "execution_count": 8,
      "metadata": {},
      "outputs": [],
      "source": [
        "n = 5\n",
        "kappa = 0.5\n",
        "iterations = 1000\n",
        "\n",
        "def generate_matrices(n, kappa):\n",
        "    \"\"\"\n",
        "    Generate G1, G2, and G12 matrices.\n",
        "    \"\"\"\n",
        "    G1 = random_matrix(n)\n",
        "    G2 = random_matrix(n)\n",
        "    G12 = random_matrix(n)\n",
        "    G21 = G12.T\n",
        "    weak_G12 = 0.5 * G12\n",
        "    weak_G21 = weak_G12.T\n",
        "\n",
        "    weak_G12_2 = 0.5 * weak_G12\n",
        "    weak_G21_2 = weak_G12_2.T\n",
        "\n",
        "    weak_G12_3 = 0.5 * weak_G12_2\n",
        "    weak_G21_3 = weak_G12_3.T\n",
        "\n",
        "    weak_G12_4 = 0.5 * weak_G12_3\n",
        "    weak_G21_4 = weak_G12_4.T\n",
        "    \n",
        "    very_weak_G12 = 0.1 * weak_G12\n",
        "    very_weak_G21 = very_weak_G12.T\n",
        "\n",
        "    return G1, G2, G12, G21, weak_G12, weak_G21, very_weak_G12, very_weak_G21, weak_G12_2, weak_G21_2, weak_G12_3, weak_G21_3, weak_G12_4, weak_G21_4\n",
        "\n",
        "def generate_G(G1, G2, G12, G21):\n",
        "    \"\"\"\n",
        "    Generate the block matrix G.\n",
        "    \"\"\"\n",
        "    G = np.block([[G1, G12], [G21, G2]])\n",
        "    return G\n",
        "\n",
        "eig_G1 = []\n",
        "eig_G2 = []\n",
        "eig_G = []\n",
        "eig_G_weak = []\n",
        "eig_G_weak_2 = []\n",
        "eig_G_weak_3 = []\n",
        "eig_G_weak_4 = []\n",
        "eig_G_very_weak = []\n",
        "eig_oneway_G = []\n",
        "\n",
        "pos_G1 = []\n",
        "pos_G2 = []\n",
        "pos_G = []\n",
        "pos_G_weak = []\n",
        "pos_G_weak_2 = []\n",
        "pos_G_weak_3 = []\n",
        "pos_G_weak_4 = []\n",
        "pos_G_very_weak = []\n",
        "pos_oneway_G = []\n",
        "\n",
        "for i in range(iterations):\n",
        "    G1, G2, G12, G21, weak_G12, weak_G21, very_weak_G12, very_weak_G21, weak_G12_2, weak_G21_2, weak_G12_3, weak_G21_3, weak_G12_4, weak_G21_4 = generate_matrices(n, kappa)\n",
        "    G = generate_G(G1, G2, G12, G21)\n",
        "    G_weak = generate_G(G1, G2, weak_G12, weak_G21)\n",
        "    G_weak_2 = generate_G(G1, G2, weak_G12_2, weak_G21_2)\n",
        "    G_weak_3 = generate_G(G1, G2, weak_G12_3, weak_G21_3)\n",
        "    G_weak_4 = generate_G(G1, G2, weak_G12_4, weak_G21_4)\n",
        "    G_very_weak = generate_G(G1, G2, very_weak_G12, very_weak_G21)\n",
        "    oneway_G = np.block([[G1, G12], [(np.zeros((n, n))), G2]])\n",
        "\n",
        "    min_G1 = min_eig(np.identity(n) + G1)\n",
        "    min_G2 = min_eig(np.identity(n) + G2)\n",
        "    min_G = min_eig(np.identity(2*n) + G)\n",
        "    min_G_weak = min_eig(np.identity(2*n) + G_weak)\n",
        "    min_G_weak_2 = min_eig(np.identity(2*n) + G_weak_2)\n",
        "    min_G_weak_3 = min_eig(np.identity(2*n) + G_weak_3)\n",
        "    min_G_weak_4 = min_eig(np.identity(2*n) + G_weak_4)\n",
        "    min_G_very_weak = min_eig(np.identity(2*n) + G_very_weak)\n",
        "\n",
        "    eig_G1.append(min_G1)\n",
        "    eig_G2.append(min_G2)\n",
        "    eig_G.append(min_G)\n",
        "    eig_G_weak.append(min_G_weak)\n",
        "    eig_G_weak_2.append(min_G_weak_2)\n",
        "    eig_G_weak_3.append(min_G_weak_3)\n",
        "    eig_G_weak_4.append(min_G_weak_4)\n",
        "    eig_G_very_weak.append(min_G_very_weak)\n",
        "    eig_oneway_G.append(min_eig(np.identity(2*n) + oneway_G))\n",
        "\n",
        "    pos_G1.append(is_pos_def(np.identity(n) + G1))\n",
        "    pos_G2.append(is_pos_def(np.identity(n) + G2))\n",
        "    pos_G.append(is_pos_def(np.identity(2*n) + G))\n",
        "    pos_G_weak_2.append(is_pos_def(np.identity(2*n) + G_weak_2))\n",
        "    pos_G_weak_3.append(is_pos_def(np.identity(2*n) + G_weak_3))\n",
        "    pos_G_weak_4.append(is_pos_def(np.identity(2*n) + G_weak_4))\n",
        "    pos_G_weak.append(is_pos_def(np.identity(2*n) + G_weak))\n",
        "    pos_G_very_weak.append(is_pos_def(np.identity(2*n) + G_very_weak))\n",
        "    pos_oneway_G.append(is_pos_def(np.identity(2*n) + oneway_G))\n",
        "    \n",
        "\n",
        "# Plotting the heatmap\n",
        "data_1 = np.array([eig_G1, eig_G2, eig_oneway_G, eig_G_very_weak, eig_G_weak_4, eig_G_weak_3, eig_G_weak_2, eig_G_weak, eig_G])\n",
        "data_2 = np.array([pos_G1, pos_G2, pos_oneway_G, pos_G_very_weak, pos_G_weak_4, pos_G_weak_3, pos_G_weak_2, pos_G_weak, pos_G])\n",
        "\n",
        "# sort by the third row in eig_G and use the indices to also sort pos_G\n",
        "sorted_data = data_1[:, np.argsort(data_1[8])]\n",
        "sorted_data_2 = data_2[:, np.argsort(data_1[8])]\n",
        "\n"
      ]
    },
    {
      "cell_type": "code",
      "execution_count": 9,
      "metadata": {},
      "outputs": [
        {
          "data": {
            "image/png": "[encoded data removed]",
            "text/plain": [
              "<Figure size 640x480 with 1 Axes>"
            ]
          },
          "metadata": {},
          "output_type": "display_data"
        }
      ],
      "source": [
        "plt.imshow(sorted_data_2, cmap='viridis', interpolation='nearest', aspect='auto')\n",
        "\n",
        "# Naming the y-ticks\n",
        "plt.yticks(np.arange(9), [\"Layer 1\", \"Layer 2\", \"One-way\\n Interlayer\", \"Very Weak\\n Interlayer\", \"Weak_4\\nIterlayer\", \"Weak_3\\nIterlayer\", \"Weak_2\\nIterlayer\", \"Weak\\n Interlayer\", \"Normal\\n Interlayer\"])\n",
        "\n",
        "# plt.colorbar()\n",
        "# plt.title('Determinants of Submatrices')\n",
        "plt.xlabel('Iterations')\n",
        "# plt.ylabel('Matrices')\n",
        "plt.savefig('test-prop9-binary.png', dpi=300, bbox_inches='tight')\n",
        "plt.show()"
      ]
    }
  ],
  "metadata": {
    "colab": {
      "provenance": []
    },
    "kernelspec": {
      "display_name": "Python 3",
      "language": "python",
      "name": "python3"
    },
    "language_info": {
      "codemirror_mode": {
        "name": "ipython",
        "version": 3
      },
      "file_extension": ".py",
      "mimetype": "text/x-python",
      "name": "python",
      "nbconvert_exporter": "python",
      "pygments_lexer": "ipython3",
      "version": "3.9.13"
    },
    "orig_nbformat": 4,
    "vscode": {
      "interpreter": {
        "hash": "aee8b7b246df8f9039afb4144a1f6fd8d2ca17a180786b69acc140d282b71a49"
      }
    }
  },
  "nbformat": 4,
  "nbformat_minor": 0
}
