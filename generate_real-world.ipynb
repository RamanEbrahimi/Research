{
 "cells": [
  {
   "cell_type": "code",
   "execution_count": 2,
   "metadata": {},
   "outputs": [],
   "source": [
    "import numpy as np\n",
    "import pandas as pd\n",
    "import networkx as nx\n",
    "import matplotlib.pyplot as plt\n",
    "%matplotlib inline\n",
    "from scipy.linalg import eigvals"
   ]
  },
  {
   "cell_type": "code",
   "execution_count": null,
   "metadata": {},
   "outputs": [],
   "source": [
    "# define a function that computes all the principal minors of a matrix\n",
    "def principal_minors(matrix):\n",
    "    n = matrix.shape[0]\n",
    "    minors = []\n",
    "    for k in range(1, n+1):\n",
    "        for i in range(n-k+1):\n",
    "            j = i + k - 1\n",
    "            submatrix = matrix[i:j+1, i:j+1]\n",
    "            minor = np.linalg.det(submatrix)\n",
    "            minors.append(minor)\n",
    "    return minors\n",
    "\n",
    "\n",
    "# define a function that check is all the principal minors are positive\n",
    "def is_p(A):\n",
    "    return all(np.array(principal_minors(A)) > 0)\n",
    "\n"
   ]
  }
 ],
 "metadata": {
  "kernelspec": {
   "display_name": "Python 3",
   "language": "python",
   "name": "python3"
  },
  "language_info": {
   "codemirror_mode": {
    "name": "ipython",
    "version": 3
   },
   "file_extension": ".py",
   "mimetype": "text/x-python",
   "name": "python",
   "nbconvert_exporter": "python",
   "pygments_lexer": "ipython3",
   "version": "3.9.4"
  },
  "orig_nbformat": 4,
  "vscode": {
   "interpreter": {
    "hash": "aee8b7b246df8f9039afb4144a1f6fd8d2ca17a180786b69acc140d282b71a49"
   }
  }
 },
 "nbformat": 4,
 "nbformat_minor": 2
}
