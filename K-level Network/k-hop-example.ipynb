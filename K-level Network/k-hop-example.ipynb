{
  "cells": [
    {
      "cell_type": "code",
      "execution_count": 1,
      "metadata": {
        "id": "dnCLC6t5O9a8"
      },
      "outputs": [],
      "source": [
        "import numpy as np\n",
        "from scipy.optimize import minimize\n",
        "import networkx as nx\n",
        "import matplotlib.pyplot as plt\n",
        "%matplotlib inline\n",
        "import random"
      ]
    },
    {
      "cell_type": "code",
      "execution_count": 2,
      "metadata": {},
      "outputs": [],
      "source": [
        "def sum_of_powers(G, n):\n",
        "    \"\"\"\n",
        "    Compute the sum of powers of a matrix G up to the n-th power: G + G^2 + ... + G^n.\n",
        "    \n",
        "    Parameters:\n",
        "    - G: numpy array, the matrix G.\n",
        "    - n: int, the highest power to include in the sum.\n",
        "    \n",
        "    Returns:\n",
        "    - sum_powers: numpy array, the sum of powers of G from 1 to n.\n",
        "    \"\"\"\n",
        "    sum_powers = np.zeros_like(G)  # Initialize the sum as a zero matrix of the same shape as G\n",
        "    current_power = np.copy(G)  # The current power of G, starting with G itself\n",
        "    \n",
        "    for i in range(1, n + 1):\n",
        "        sum_powers += current_power  # Add the current power to the sum\n",
        "        current_power = np.dot(current_power, G)  # Compute the next power of G\n",
        "        \n",
        "    return sum_powers"
      ]
    },
    {
      "cell_type": "markdown",
      "metadata": {},
      "source": [
        "# Agent Utilitiy"
      ]
    },
    {
      "cell_type": "code",
      "execution_count": 63,
      "metadata": {},
      "outputs": [
        {
          "name": "stdout",
          "output_type": "stream",
          "text": [
            "[2.09917836 0.11454432 1.28196824]\n",
            "The calculated utility for agent 0 is: -0.6663574325575934\n",
            "The calculated utility for agent 1 is: 0.1544308850575199\n",
            "The calculated utility for agent 2 is: 2.441914788043676\n"
          ]
        }
      ],
      "source": [
        "def agent_utility(q, x, G, i):\n",
        "    \"\"\"\n",
        "    Calculate the quadratic utility for agent i.\n",
        "    \n",
        "    Parameters:\n",
        "    - q (numpy array): The linear coefficients for each agent.\n",
        "    - x (numpy array): The choices or quantities selected by each agent.\n",
        "    - g (numpy matrix or 2D array): The interaction coefficients between agents.\n",
        "    - i (int): The index of the agent for whom to calculate the utility.\n",
        "    \n",
        "    Returns:\n",
        "    - float: The calculated utility for agent i.\n",
        "    \"\"\"\n",
        "    # Linear term for agent i\n",
        "    linear_term = q[i] * x[i]\n",
        "    \n",
        "    # Quadratic term for agent i\n",
        "    quadratic_term = -0.5 * x[i]**2\n",
        "    \n",
        "    # Interaction term for agent i with all other agents j\n",
        "    interaction_term = -np.sum([G[i, j] * x[i] * x[j] for j in range(len(x))])\n",
        "    \n",
        "    # Total utility for agent i\n",
        "    utility_i = linear_term + quadratic_term + interaction_term\n",
        "    \n",
        "    return utility_i\n",
        "\n",
        "\n",
        "# Example usage\n",
        "q = np.array([1, 2, 3])  # Linear coefficients for agents\n",
        "# x = np.array([0.5, 1.5, 2.5])  # Choices of agents\n",
        "x = np.array([random.uniform(0, 3) for i in range(3)])\n",
        "print(x)\n",
        "g = np.array([[0, 0.1, 0.2],  # Interaction coefficients between agents\n",
        "              [0.1, 0, 0.3],\n",
        "              [0.2, 0.3, 0]])\n",
        "# i = 0  # Agent index for whom we're calculating the utility\n",
        "\n",
        "for i in range(3):\n",
        "    utility_i = agent_utility(q, x, g, i)\n",
        "    print(f\"The calculated utility for agent {i} is: {utility_i}\")"
      ]
    },
    {
      "cell_type": "markdown",
      "metadata": {},
      "source": [
        "# Socially Optimal Solution"
      ]
    },
    {
      "cell_type": "code",
      "execution_count": 213,
      "metadata": {},
      "outputs": [
        {
          "name": "stdout",
          "output_type": "stream",
          "text": [
            "Socially optimal solution: [0.00000000e+000 0.00000000e+000 0.00000000e+000 0.00000000e+000\n",
            " 0.00000000e+000 1.98283189e+149 1.82565403e+145 1.94758445e+149\n",
            " 0.00000000e+000 7.47058075e+149]\n",
            "Maximum total utility: nan\n"
          ]
        },
        {
          "name": "stderr",
          "output_type": "stream",
          "text": [
            "/var/folders/hs/y116vr4j4yg5fcthw_l99c5r0000gn/T/ipykernel_24647/1821943446.py:18: RuntimeWarning: overflow encountered in double_scalars\n",
            "  quadratic_term = -0.5 * x[i]**2\n",
            "/var/folders/hs/y116vr4j4yg5fcthw_l99c5r0000gn/T/ipykernel_24647/1821943446.py:21: RuntimeWarning: overflow encountered in double_scalars\n",
            "  interaction_term = -np.sum([G[i, j] * x[i] * x[j] for j in range(len(x))])\n",
            "/var/folders/hs/y116vr4j4yg5fcthw_l99c5r0000gn/T/ipykernel_24647/1821943446.py:24: RuntimeWarning: invalid value encountered in double_scalars\n",
            "  utility_i = linear_term + quadratic_term + interaction_term\n",
            "/var/folders/hs/y116vr4j4yg5fcthw_l99c5r0000gn/T/ipykernel_24647/4042438181.py:5: RuntimeWarning: invalid value encountered in double_scalars\n",
            "  return sum(agent_utility(q, x, g, i) for i in range(len(q)))\n",
            "/Users/macbook/opt/anaconda3/lib/python3.9/site-packages/numpy/core/fromnumeric.py:86: RuntimeWarning: overflow encountered in reduce\n",
            "  return ufunc.reduce(obj, axis, dtype, out, **passkwargs)\n",
            "/Users/macbook/opt/anaconda3/lib/python3.9/site-packages/numpy/core/fromnumeric.py:86: RuntimeWarning: invalid value encountered in reduce\n",
            "  return ufunc.reduce(obj, axis, dtype, out, **passkwargs)\n"
          ]
        }
      ],
      "source": [
        "def total_utility(x, q, g):\n",
        "    \"\"\"\n",
        "    Calculate the total utility for all agents by summing individual utilities.\n",
        "    \"\"\"\n",
        "    return sum(agent_utility(q, x, g, i) for i in range(len(q)))\n",
        "\n",
        "\n",
        "def optimize_each_agent(q, g, x, i, bounds_i):\n",
        "    \"\"\"\n",
        "    Optimize the choice for agent i, given current choices of other agents.\n",
        "    \"\"\"\n",
        "    def objective(x_i):\n",
        "        x_new = np.copy(x)\n",
        "        x_new[i] = x_i\n",
        "        return -total_utility(x_new, q, g)\n",
        "\n",
        "    result = minimize(objective, x[i], bounds=[bounds_i])\n",
        "    if result.x < 0:\n",
        "        return 0\n",
        "    else:\n",
        "        return result.x\n",
        "\n",
        "\n",
        "def find_social_optimum(q, g, bounds):\n",
        "    \"\"\"\n",
        "    Find the socially optimal solution that maximizes the total utility.\n",
        "    \"\"\"\n",
        "    num_agents = len(q)\n",
        "    x0 = np.ones(num_agents)  # Initial guess for the optimization\n",
        "    \n",
        "    # Minimize the negative of the total utility to find the maximum total utility\n",
        "    objective = lambda x: -total_utility(x, q, g)\n",
        "    opt_result = minimize(objective, x0, bounds=bounds)\n",
        "\n",
        "    return opt_result\n",
        "\n",
        "n = 10\n",
        "q = np.random.rand(n)  # Random linear coefficients for agents\n",
        "g = (np.random.rand(n, n)-0.5)*2  # Random interaction coefficients between agents\n",
        "bounds = [(0, None)] * n  # Assume non-negative choices\n",
        "\n",
        "opt_result = find_social_optimum(q, g, bounds)\n",
        "print(f\"Socially optimal solution: {opt_result.x}\")\n",
        "print(f\"Maximum total utility: {-opt_result.fun}\")\n",
        "# totla utility for x\n",
        "# x = np.array([random.uniform(0, 3) for i in range(n)])\n",
        "# print(f\"Total utility for x = {x}: {total_utility(x, q, g)}\")\n"
      ]
    },
    {
      "cell_type": "code",
      "execution_count": 205,
      "metadata": {},
      "outputs": [
        {
          "name": "stdout",
          "output_type": "stream",
          "text": [
            "[ 1.75124164  0.26117435  2.1185699  -0.60565846  0.60565234  0.3522856\n",
            "  0.80030786 -1.78921455 -0.68138484  0.64638868]\n"
          ]
        }
      ],
      "source": [
        "a = np.dot(np.linalg.inv(np.eye(n)-2*g), q)\n",
        "print(a)"
      ]
    },
    {
      "cell_type": "markdown",
      "metadata": {},
      "source": [
        "# Individual Maximization"
      ]
    },
    {
      "cell_type": "code",
      "execution_count": 171,
      "metadata": {},
      "outputs": [
        {
          "name": "stdout",
          "output_type": "stream",
          "text": [
            "Convergence achieved after 7 iterations.\n",
            "Optimized choices for each agent after 1 hop(s): [0.36548402 1.19096002 2.56582793]\n",
            "Total utility at the end: 4.081527100159692\n",
            "Convergence achieved after 6 iterations.\n",
            "Optimized choices for each agent after 2 hop(s): [0.3260189  1.07951729 2.04973683]\n",
            "Total utility at the end: 3.393532579209766\n",
            "Convergence achieved after 6 iterations.\n",
            "Optimized choices for each agent after 3 hop(s): [0.27780663 1.00660003 1.99943782]\n",
            "Total utility at the end: 3.2182075582201652\n",
            "Convergence achieved after 5 iterations.\n",
            "Optimized choices for each agent after 4 hop(s): [0.26527747 0.9845704  1.93694833]\n",
            "Total utility at the end: 3.148524212128456\n"
          ]
        }
      ],
      "source": [
        "def optimize_agent_i(q, g, x, i, bounds_i):\n",
        "    \"\"\"\n",
        "    Optimize the choice for agent i, given current choices of other agents.\n",
        "    \"\"\"\n",
        "    def objective_i(x_i):\n",
        "        x_new = np.copy(x)\n",
        "        x_new[i] = x_i\n",
        "        return -agent_utility(q, x_new, g, i)\n",
        "\n",
        "    result = minimize(objective_i, x[i], bounds=[bounds_i])\n",
        "    if result.x < 0:\n",
        "        return 0\n",
        "    else:\n",
        "        return result.x\n",
        "\n",
        "\n",
        "def maximize_individual_utilities_iteratively(q, g, initial_x, bounds, tol=1e-2, max_iter=100):\n",
        "    \"\"\"\n",
        "    Iteratively maximize each agent's utility until convergence.\n",
        "    \"\"\"\n",
        "    x = np.copy(initial_x)\n",
        "    for iteration in range(max_iter):\n",
        "        x_new = np.copy(x)\n",
        "        for i in range(len(q)):\n",
        "            x_new[i] = optimize_agent_i(q, g, x, i, bounds[i])\n",
        "\n",
        "        # Check for convergence\n",
        "        if np.linalg.norm(x_new - x) < tol:\n",
        "            print(f\"Convergence achieved after {iteration + 1} iterations.\")\n",
        "            break\n",
        "        x = x_new\n",
        "    # else:\n",
        "        # print(\"Max iterations reached without convergence.\")\n",
        "\n",
        "    return x\n",
        "\n",
        "# Example usage\n",
        "q = np.array([1, 2, 3])  # Linear coefficients for agents\n",
        "g = np.array([[0, 0.1, 0.2],  # Interaction coefficients between agents\n",
        "              [0.1, 0, 0.3],\n",
        "              [0.2, 0.3, 0]])\n",
        "initial_x = np.array([0.5, 1, 1.5])  # Initial guesses for choices\n",
        "bounds = [(0, None), (0, None), (0, None)]  # Assume non-negative choices\n",
        "\n",
        "for i in range(1, 5):\n",
        "    optimized_x = maximize_individual_utilities_iteratively(q, sum_of_powers(g, i), initial_x, bounds)\n",
        "    print(f\"Optimized choices for each agent after {i} hop(s): {optimized_x}\")\n",
        "    print(f\"Total utility at the end: {total_utility(optimized_x, q, sum_of_powers(g, i))}\")"
      ]
    },
    {
      "cell_type": "markdown",
      "metadata": {},
      "source": [
        "# Function for creating different types of networks"
      ]
    },
    {
      "cell_type": "code",
      "execution_count": 200,
      "metadata": {},
      "outputs": [],
      "source": [
        "n = 10\n",
        "bounds = [(0, None)] * n\n",
        "\n",
        "# # function to create PD matrix\n",
        "# def create_PD_matrix(n):\n",
        "#     A = (np.random.rand(n, n)-0.5)*2 \n",
        "#     B = np.dot(A, A.T)\n",
        "#     np.fill_diagonal(B, 0)\n",
        "#     return B\n",
        "\n",
        "# G2 = create_PD_matrix(n)\n",
        "\n",
        "q = np.random.randint(1, 10, n)\n",
        "G2 = np.random.rand(n, n)"
      ]
    },
    {
      "cell_type": "code",
      "execution_count": 201,
      "metadata": {},
      "outputs": [],
      "source": [
        "# # plot G2 with edge weights\n",
        "# G = nx.from_numpy_matrix(G2)\n",
        "# pos = nx.spring_layout(G)\n",
        "# edge_labels = {(i, j): f\"{G2[i, j]:.2f}\" for i, j in G.edges()}\n",
        "# nx.draw(G, pos, with_labels=True, node_color='lightblue', node_size=500, font_weight='bold', font_size=10)\n",
        "# nx.draw_networkx_edge_labels(G, pos, edge_labels=edge_labels)\n",
        "# plt.show()\n"
      ]
    },
    {
      "cell_type": "code",
      "execution_count": 202,
      "metadata": {},
      "outputs": [
        {
          "name": "stdout",
          "output_type": "stream",
          "text": [
            "Convergence achieved after 2 iterations.\n",
            "Convergence achieved after 2 iterations.\n",
            "Convergence achieved after 2 iterations.\n",
            "Convergence achieved after 2 iterations.\n",
            "Convergence achieved after 2 iterations.\n",
            "Convergence achieved after 2 iterations.\n",
            "Convergence achieved after 2 iterations.\n",
            "Convergence achieved after 2 iterations.\n",
            "Convergence achieved after 2 iterations.\n",
            "Convergence achieved after 2 iterations.\n",
            "Convergence achieved after 2 iterations.\n",
            "Convergence achieved after 2 iterations.\n",
            "Convergence achieved after 2 iterations.\n",
            "Convergence achieved after 2 iterations.\n",
            "Convergence achieved after 2 iterations.\n"
          ]
        },
        {
          "data": {
            "image/png": "[encoded data removed]",
            "text/plain": [
              "<Figure size 640x480 with 1 Axes>"
            ]
          },
          "metadata": {},
          "output_type": "display_data"
        }
      ],
      "source": [
        "G = G2\n",
        "\n",
        "soc_opt_result = find_social_optimum(q, G, bounds)\n",
        "\n",
        "max_hops = 20\n",
        "\n",
        "# x_init = soc_opt_result.x\n",
        "x_init = np.ones(n)\n",
        "\n",
        "x_nash_list1 = []\n",
        "for hops in range(1, max_hops + 1):\n",
        "    x_nash = maximize_individual_utilities_iteratively(q, sum_of_powers(G, hops), x_init, bounds)\n",
        "    x_nash_list1.append(x_nash)\n",
        "    # print total utility\n",
        "    # print(f\"Total utility at hop {hops}: {total_utility(x_nash, q, sum_of_powers(G, hops))}\")\n",
        "\n",
        "plt.figure()\n",
        "for i in range(n):\n",
        "    plt.plot(range(1, max_hops + 1), [x_nash[i] for x_nash in x_nash_list1], label=f'Player {i}')\n",
        "    # plt.plot(range(1, max_hops + 1), [x_opt[i]] * max_hops, label=f'Player {i} (optimal)', linestyle='--')\n",
        "plt.xlabel(\"Number of Hops\")\n",
        "plt.ylabel(\"Effort\")\n",
        "plt.title(f\"Efforts of Players - Cycle Graph with {n} nodes\")\n",
        "plt.legend()\n",
        "plt.show()"
      ]
    },
    {
      "cell_type": "code",
      "execution_count": 203,
      "metadata": {},
      "outputs": [
        {
          "name": "stdout",
          "output_type": "stream",
          "text": [
            "Socially optimal actions: [0.         0.         0.         3.10121946 0.         3.14912585\n",
            " 0.         0.         0.95597116 0.        ]\n",
            "Socially optimal utility: 30.3758713334867\n",
            "Nash actions at max hops: [0. 0. 0. 0. 0. 0. 0. 0. 0. 0.]\n",
            "Nash utility at one hop: -341.0945819034286\n",
            "Nash utility at max hops: 0.0\n"
          ]
        }
      ],
      "source": [
        "\n",
        "print(\"Socially optimal actions:\", soc_opt_result.x)\n",
        "print(\"Socially optimal utility:\", -soc_opt_result.fun)\n",
        "print(\"Nash actions at max hops:\", x_nash_list1[-1])\n",
        "print(\"Nash utility at one hop:\", total_utility(x_nash_list1[0], q, sum_of_powers(G, 1)))\n",
        "print(\"Nash utility at max hops:\", total_utility(x_nash_list1[-1], q, sum_of_powers(G, max_hops)))\n",
        "# print each player's utility at max hops\n",
        "# for i in range(n):\n",
        "#     print(f\"Player {i}'s utility at max hops:\", agent_utility(q, x_nash_list1[-1], sum_of_powers(G, max_hops), i))"
      ]
    },
    {
      "cell_type": "code",
      "execution_count": 179,
      "metadata": {},
      "outputs": [
        {
          "data": {
            "image/png": "[encoded data removed]",
            "text/plain": [
              "<Figure size 640x480 with 1 Axes>"
            ]
          },
          "metadata": {},
          "output_type": "display_data"
        }
      ],
      "source": [
        "# plot the total utility as a function of the number of hops\n",
        "plt.figure()\n",
        "plt.plot(range(1, max_hops + 1), [total_utility(x_nash, q, sum_of_powers(G, i)) for i, x_nash in enumerate(x_nash_list1, 1)])\n",
        "# plot socially optimal utility\n",
        "plt.axhline(-soc_opt_result.fun, color='r', linestyle='--', label='Socially Optimal')\n",
        "plt.xlim(1, max_hops)\n",
        "plt.ylim(0, 1-soc_opt_result.fun)\n",
        "plt.xlabel(\"Number of Hops\")\n",
        "plt.ylabel(\"Total Utility\")\n",
        "plt.title(f\"Total Utility - Cycle Graph with {n} nodes\")\n",
        "plt.show()"
      ]
    },
    {
      "cell_type": "code",
      "execution_count": 185,
      "metadata": {},
      "outputs": [
        {
          "name": "stdout",
          "output_type": "stream",
          "text": [
            "Socially optimal solution: [2.72966828e+152 0.00000000e+000 0.00000000e+000 0.00000000e+000\n",
            " 0.00000000e+000 4.43948808e+153 1.82426588e+152 0.00000000e+000\n",
            " 0.00000000e+000 0.00000000e+000]\n",
            "Maximum total utility: 0.0\n"
          ]
        },
        {
          "name": "stderr",
          "output_type": "stream",
          "text": [
            "/var/folders/hs/y116vr4j4yg5fcthw_l99c5r0000gn/T/ipykernel_24647/1821943446.py:21: RuntimeWarning: overflow encountered in double_scalars\n",
            "  interaction_term = -np.sum([G[i, j] * x[i] * x[j] for j in range(len(x))])\n",
            "/var/folders/hs/y116vr4j4yg5fcthw_l99c5r0000gn/T/ipykernel_24647/1821943446.py:18: RuntimeWarning: overflow encountered in double_scalars\n",
            "  quadratic_term = -0.5 * x[i]**2\n",
            "/var/folders/hs/y116vr4j4yg5fcthw_l99c5r0000gn/T/ipykernel_24647/1821943446.py:24: RuntimeWarning: invalid value encountered in double_scalars\n",
            "  utility_i = linear_term + quadratic_term + interaction_term\n",
            "/Users/macbook/opt/anaconda3/lib/python3.9/site-packages/numpy/core/fromnumeric.py:86: RuntimeWarning: overflow encountered in reduce\n",
            "  return ufunc.reduce(obj, axis, dtype, out, **passkwargs)\n",
            "/Users/macbook/opt/anaconda3/lib/python3.9/site-packages/scipy/optimize/_numdiff.py:576: RuntimeWarning: invalid value encountered in subtract\n",
            "  df = fun(x) - f0\n"
          ]
        }
      ],
      "source": [
        "opt_result = find_social_optimum(q, G, bounds)\n",
        "print(f\"Socially optimal solution: {opt_result.x}\")\n",
        "print(f\"Maximum total utility: {-opt_result.fun}\")"
      ]
    },
    {
      "cell_type": "code",
      "execution_count": 186,
      "metadata": {},
      "outputs": [
        {
          "name": "stdout",
          "output_type": "stream",
          "text": [
            "[[ 0.         -1.18313237 -0.52721296  0.14606783  1.26015791 -1.99266062\n",
            "  -0.25935646  1.63487466 -1.0142894   0.00871036]\n",
            " [-1.18313237  0.         -0.28106337 -0.14973619  0.07736745 -0.05887046\n",
            "   0.68563989 -1.40247267 -0.24135147 -0.23473803]\n",
            " [-0.52721296 -0.28106337  0.         -1.18861916 -2.44704112 -0.99692595\n",
            "   0.86726722  1.48131238  0.74072635  0.28849837]\n",
            " [ 0.14606783 -0.14973619 -1.18861916  0.          1.75097237 -0.07443226\n",
            "   0.8757915  -0.7693608   0.25941367  1.31769451]\n",
            " [ 1.26015791  0.07736745 -2.44704112  1.75097237  0.         -0.60655804\n",
            "  -0.2282032   0.01606091 -0.28280689  0.29581159]\n",
            " [-1.99266062 -0.05887046 -0.99692595 -0.07443226 -0.60655804  0.\n",
            "  -3.37476637 -1.02597534  0.82643489 -0.54559838]\n",
            " [-0.25935646  0.68563989  0.86726722  0.8757915  -0.2282032  -3.37476637\n",
            "   0.         -0.76369136 -0.74637695  1.94529777]\n",
            " [ 1.63487466 -1.40247267  1.48131238 -0.7693608   0.01606091 -1.02597534\n",
            "  -0.76369136  0.          0.4862684  -0.66779786]\n",
            " [-1.0142894  -0.24135147  0.74072635  0.25941367 -0.28280689  0.82643489\n",
            "  -0.74637695  0.4862684   0.         -0.72834798]\n",
            " [ 0.00871036 -0.23473803  0.28849837  1.31769451  0.29581159 -0.54559838\n",
            "   1.94529777 -0.66779786 -0.72834798  0.        ]]\n",
            "[9 2 9 6 2 2 9 7 4 1]\n"
          ]
        }
      ],
      "source": [
        "# print(G)\n",
        "# print(q)"
      ]
    }
  ],
  "metadata": {
    "colab": {
      "provenance": []
    },
    "kernelspec": {
      "display_name": "Python 3",
      "language": "python",
      "name": "python3"
    },
    "language_info": {
      "codemirror_mode": {
        "name": "ipython",
        "version": 3
      },
      "file_extension": ".py",
      "mimetype": "text/x-python",
      "name": "python",
      "nbconvert_exporter": "python",
      "pygments_lexer": "ipython3",
      "version": "3.9.13"
    },
    "orig_nbformat": 4,
    "vscode": {
      "interpreter": {
        "hash": "aee8b7b246df8f9039afb4144a1f6fd8d2ca17a180786b69acc140d282b71a49"
      }
    }
  },
  "nbformat": 4,
  "nbformat_minor": 0
}
