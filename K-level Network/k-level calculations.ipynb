{
  "cells": [
    {
      "cell_type": "code",
      "execution_count": 2,
      "metadata": {
        "id": "dnCLC6t5O9a8"
      },
      "outputs": [],
      "source": [
        "import numpy as np\n",
        "import pandas as pd\n",
        "import networkx as nx\n",
        "import matplotlib.pyplot as plt\n",
        "%matplotlib inline\n",
        "from scipy.linalg import eigvals\n",
        "import random"
      ]
    },
    {
      "cell_type": "code",
      "execution_count": 14,
      "metadata": {},
      "outputs": [],
      "source": [
        "def matrix_power(matrix, power):\n",
        "    \"\"\"\n",
        "    Calculates the power of a matrix.\n",
        "\n",
        "    Parameters:\n",
        "    matrix (numpy.ndarray): The matrix to calculate the power of.\n",
        "    power (int): The power to raise the matrix to.\n",
        "\n",
        "    Returns:\n",
        "    numpy.ndarray: The resulting matrix.\n",
        "    \"\"\"\n",
        "    return np.linalg.matrix_power(matrix, power)\n",
        "\n",
        "def matrix_vector_multiplication(matrix, vector):\n",
        "    \"\"\"\n",
        "    Calculates the multiplication of a matrix and a vector.\n",
        "\n",
        "    Parameters:\n",
        "    matrix (numpy.ndarray): The matrix to multiply.\n",
        "    vector (numpy.ndarray): The vector to multiply.\n",
        "\n",
        "    Returns:\n",
        "    numpy.ndarray: The resulting vector.\n",
        "    \"\"\"\n",
        "    return np.dot(matrix, vector)\n",
        "\n",
        "def assign_random_values():\n",
        "    # between -1, 1\n",
        "    a = random.uniform(-1, 1)\n",
        "    b = random.uniform(-1, 1)\n",
        "    c = random.uniform(-1, 1)\n",
        "    d = random.uniform(-1, 1)\n",
        "    e = random.uniform(-1, 1)\n",
        "    f = random.uniform(-1, 1)\n",
        "    g = random.uniform(-1, 1)\n",
        "    h = random.uniform(-1, 1)\n",
        "    i = random.uniform(-1, 1)\n",
        "    j = random.uniform(-1, 1)\n",
        "    k = random.uniform(-1, 1)\n",
        "    l = random.uniform(-1, 1)\n",
        "    return a, b, c, d, e, f, g, h, i, j, k, l\n",
        "\n",
        "def print_multiplication_until_n(G, q, n):\n",
        "    \"\"\"\n",
        "    Prints the multiplication of matrix and vector for k = 1 to n.\n",
        "\n",
        "    Parameters:\n",
        "    G (numpy.ndarray): The matrix to multiply.\n",
        "    q (numpy.ndarray): The vector to multiply.\n",
        "    n (int): The number of times to multiply the matrix and vector.\n",
        "\n",
        "    Returns:\n",
        "    None\n",
        "    \"\"\"\n",
        "    result = np.eye(4)\n",
        "    for i in range(1, n+1):\n",
        "        result += (-1)**i * matrix_power(G, i)\n",
        "        output_k = matrix_vector_multiplication(result, q)\n",
        "        output_k = np.maximum(output_k, 0)\n",
        "        print(\"Multiplication of matrix and vector for k = {}: {}\".format(i, output_k))"
      ]
    },
    {
      "cell_type": "code",
      "execution_count": 27,
      "metadata": {},
      "outputs": [
        {
          "name": "stdout",
          "output_type": "stream",
          "text": [
            "Matrix G: \n",
            "[[ 0.          0.57018887  0.02938609  0.16039534]\n",
            " [ 0.55104383  0.          0.51476827 -0.50460062]\n",
            " [-0.84240268  0.02038466  0.         -0.0499997 ]\n",
            " [-0.12680347 -0.41446123  0.93103257  0.        ]]\n",
            "Vector q: [1 1 1 1]\n",
            "\n",
            "\n",
            "\n"
          ]
        }
      ],
      "source": [
        "# our matrix\n",
        "a, b, c, d, e, f, g, h, i, j, k, l = assign_random_values()\n",
        "# a = 0\n",
        "# b = 0.5\n",
        "# c = 0.5\n",
        "\n",
        "G = np.array([[0, a, b, c],[d, 0, e, f],[g, h, 0, i],[j, k, l, 0]])\n",
        "# our vector\n",
        "# choose a random vector\n",
        "# q = np.random.rand(4)\n",
        "q = np.array([1, 1, 1, 1])\n",
        "\n",
        "print(\"Matrix G: \\n\" + str(G))\n",
        "print(\"Vector q: \" + str(q))\n",
        "print(\"\\n\\n\")"
      ]
    },
    {
      "cell_type": "code",
      "execution_count": 28,
      "metadata": {},
      "outputs": [
        {
          "name": "stdout",
          "output_type": "stream",
          "text": [
            "Infinity norm of G: 1.570412720429803\n",
            "Norm-2 of G: 1.7152841371848722\n",
            "Norm-1 of G: 1.52024998085195\n",
            "Eigenvalues of G: [(-1.0315386562111777+0j), (0.16807511241867706-0.5999024069921508j), (0.16807511241867706+0.5999024069921508j), (0.6953884313738229+0j)]\n"
          ]
        }
      ],
      "source": [
        "print(\"Infinity norm of G: \" + str(np.linalg.norm(G, ord=np.inf)))\n",
        "print(\"Norm-2 of G: \" + str(np.linalg.norm(G)))\n",
        "print(\"Norm-1 of G: \" + str(np.linalg.norm(G, ord=1)))\n",
        "# print sorted eigenvalues of G\n",
        "print(\"Eigenvalues of G: \" + str(sorted(eigvals(G))))"
      ]
    },
    {
      "cell_type": "code",
      "execution_count": 29,
      "metadata": {},
      "outputs": [
        {
          "name": "stdout",
          "output_type": "stream",
          "text": [
            "Multiplication of matrix and vector for k = 1: [0.2400297  0.43878852 1.87201772 0.61023213]\n",
            "Multiplication of matrix and vector for k = 2: [0.59691801 0.2120013  1.22376853 0.        ]\n",
            "Multiplication of matrix and vector for k = 3: [0.92826515 0.         1.47199332 0.02418923]\n",
            "Multiplication of matrix and vector for k = 4: [1.08208729 0.         1.78780234 0.        ]\n",
            "Multiplication of matrix and vector for k = 5: [1.14963586 0.         1.89945826 0.        ]\n",
            "Multiplication of matrix and vector for k = 6: [1.44014467 0.         1.95086179 0.        ]\n",
            "Multiplication of matrix and vector for k = 7: [1.61942562 0.         2.18669785 0.        ]\n",
            "Multiplication of matrix and vector for k = 8: [1.81581153 0.         2.33884479 0.        ]\n",
            "Multiplication of matrix and vector for k = 9: [2.02184588 0.         2.49331606 0.        ]\n",
            "Multiplication of matrix and vector for k = 10: [2.2561872  0.         2.66254086 0.        ]\n",
            "Multiplication of matrix and vector for k = 11: [2.47018359 0.         2.85304351 0.        ]\n",
            "Multiplication of matrix and vector for k = 12: [2.70504451 0.         3.02763336 0.        ]\n",
            "Multiplication of matrix and vector for k = 13: [2.94411429 0.         3.21776146 0.        ]\n",
            "Multiplication of matrix and vector for k = 14: [3.192731   0.         3.41286757 0.        ]\n",
            "Multiplication of matrix and vector for k = 15: [3.44529768 0.         3.61485537 0.        ]\n",
            "Multiplication of matrix and vector for k = 16: [3.70945888 0.         3.82038799 0.        ]\n",
            "Multiplication of matrix and vector for k = 17: [3.98008613 0.         4.03513949 0.        ]\n",
            "Multiplication of matrix and vector for k = 18: [4.2599661  0.         4.25540163 0.        ]\n",
            "Multiplication of matrix and vector for k = 19: [4.5481135  0.         4.48297343 0.        ]\n",
            "Multiplication of matrix and vector for k = 20: [4.84598317 0.         4.71739461 0.        ]\n",
            "Multiplication of matrix and vector for k = 21: [5.15274711 0.         4.95966242 0.        ]\n",
            "Multiplication of matrix and vector for k = 22: [5.46945834 0.         5.20920943 0.        ]\n",
            "Multiplication of matrix and vector for k = 23: [5.79601704 0.         5.46680643 0.        ]\n",
            "Multiplication of matrix and vector for k = 24: [6.1329862  0.         5.73244494 0.        ]\n",
            "Multiplication of matrix and vector for k = 25: [6.48048245 0.         6.00653259 0.        ]\n",
            "Multiplication of matrix and vector for k = 26: [6.83901082 0.         6.28919407 0.        ]\n",
            "Multiplication of matrix and vector for k = 27: [7.2088043  0.         6.58082109 0.        ]\n",
            "Multiplication of matrix and vector for k = 28: [7.5902863  0.         6.88161789 0.        ]\n",
            "Multiplication of matrix and vector for k = 29: [7.98377997 0.         7.19191749 0.        ]\n",
            "Multiplication of matrix and vector for k = 30: [8.38969973 0.         7.51199049 0.        ]\n",
            "Multiplication of matrix and vector for k = 31: [8.80841067 0.         7.8421691  0.        ]\n",
            "Multiplication of matrix and vector for k = 32: [9.24033401 0.         8.18275358 0.        ]\n",
            "Multiplication of matrix and vector for k = 33: [9.68587515 0.         8.53408411 0.        ]\n",
            "Multiplication of matrix and vector for k = 34: [10.1454714   0.          8.89649224  0.        ]\n",
            "Multiplication of matrix and vector for k = 35: [10.6195602   0.          9.27033247  0.        ]\n",
            "Multiplication of matrix and vector for k = 36: [11.10860284  0.          9.65596141  0.        ]\n",
            "Multiplication of matrix and vector for k = 37: [11.61306811  0.         10.05375372  0.        ]\n",
            "Multiplication of matrix and vector for k = 38: [12.13344429  0.         10.46409113  0.        ]\n",
            "Multiplication of matrix and vector for k = 39: [12.67023189  0.         10.88737054  0.        ]\n",
            "Multiplication of matrix and vector for k = 40: [13.22394945  0.         11.32399923  0.        ]\n"
          ]
        }
      ],
      "source": [
        "print_multiplication_until_n(G, q, 40)"
      ]
    },
    {
      "cell_type": "code",
      "execution_count": 33,
      "metadata": {},
      "outputs": [
        {
          "data": {
            "text/plain": [
              "array([10.01861859, -6.27372001,  7.11630243, -3.41684976])"
            ]
          },
          "execution_count": 33,
          "metadata": {},
          "output_type": "execute_result"
        }
      ],
      "source": [
        "# I+G inverse\n",
        "C = np.linalg.inv(np.eye(4) + G)\n",
        "np.matmul(q, C)"
      ]
    },
    {
      "cell_type": "code",
      "execution_count": null,
      "metadata": {},
      "outputs": [],
      "source": [
        "\"\"\"\n",
        "f(x) = c_0 + c_1 * x + c_2 * x^2 + ...\n",
        "\n",
        "If the series converges for |x|<r, \n",
        "then the corresponding matrix series converges for matrices A such that ||A||<r \n",
        "for some matrix norm that satisfies ||AB||<||A|| ||B||\n",
        "\"\"\""
      ]
    }
  ],
  "metadata": {
    "colab": {
      "provenance": []
    },
    "kernelspec": {
      "display_name": "Python 3",
      "language": "python",
      "name": "python3"
    },
    "language_info": {
      "codemirror_mode": {
        "name": "ipython",
        "version": 3
      },
      "file_extension": ".py",
      "mimetype": "text/x-python",
      "name": "python",
      "nbconvert_exporter": "python",
      "pygments_lexer": "ipython3",
      "version": "3.9.13"
    },
    "orig_nbformat": 4,
    "vscode": {
      "interpreter": {
        "hash": "aee8b7b246df8f9039afb4144a1f6fd8d2ca17a180786b69acc140d282b71a49"
      }
    }
  },
  "nbformat": 4,
  "nbformat_minor": 0
}
