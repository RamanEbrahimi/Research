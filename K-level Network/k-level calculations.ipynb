{
  "cells": [
    {
      "cell_type": "code",
      "execution_count": 3,
      "metadata": {
        "id": "dnCLC6t5O9a8"
      },
      "outputs": [],
      "source": [
        "import numpy as np\n",
        "import pandas as pd\n",
        "import networkx as nx\n",
        "import matplotlib.pyplot as plt\n",
        "%matplotlib inline\n",
        "from scipy.linalg import eigvals\n",
        "import random"
      ]
    },
    {
      "cell_type": "code",
      "execution_count": 110,
      "metadata": {},
      "outputs": [],
      "source": [
        "def create_weighted_cycle_graph_adj_matrix(n, weight_range=(-10, 10)):\n",
        "    \"\"\"\n",
        "    Create a weighted directed cyclic graph with n nodes.\n",
        "    \n",
        "    Parameters:\n",
        "    - n: The number of nodes in the graph.\n",
        "    - weight_range: A tuple (min_weight, max_weight) specifying the range of weights.\n",
        "    \n",
        "    Returns:\n",
        "    - A numpy array representing the weighted adjacency matrix of the graph.\n",
        "    \"\"\"\n",
        "    # Initialize an n x n adjacency matrix with zeros\n",
        "    adjacency_matrix = np.zeros((n, n), dtype=float)\n",
        "    \n",
        "    # Random weight for each edge\n",
        "    for i in range(n):\n",
        "        weight = np.random.randint(weight_range[0], weight_range[1] + 1)\n",
        "        adjacency_matrix[i][(i + 1) % n] = weight\n",
        "    \n",
        "    return adjacency_matrix/10\n",
        "\n",
        "def matrix_power(matrix, power):\n",
        "    \"\"\"\n",
        "    Calculates the power of a matrix.\n",
        "\n",
        "    Parameters:\n",
        "    matrix (numpy.ndarray): The matrix to calculate the power of.\n",
        "    power (int): The power to raise the matrix to.\n",
        "\n",
        "    Returns:\n",
        "    numpy.ndarray: The resulting matrix.\n",
        "    \"\"\"\n",
        "    return np.linalg.matrix_power(matrix, power)\n",
        "\n",
        "def matrix_vector_multiplication(matrix, vector):\n",
        "    \"\"\"\n",
        "    Calculates the multiplication of a matrix and a vector.\n",
        "\n",
        "    Parameters:\n",
        "    matrix (numpy.ndarray): The matrix to multiply.\n",
        "    vector (numpy.ndarray): The vector to multiply.\n",
        "\n",
        "    Returns:\n",
        "    numpy.ndarray: The resulting vector.\n",
        "    \"\"\"\n",
        "    return np.dot(matrix, vector)\n",
        "\n",
        "\n",
        "def print_multiplication_until_n(G, q, n):\n",
        "    \"\"\"\n",
        "    Prints the multiplication of matrix and vector for k = 1 to n.\n",
        "\n",
        "    Parameters:\n",
        "    G (numpy.ndarray): The matrix to multiply.\n",
        "    q (numpy.ndarray): The vector to multiply.\n",
        "    n (int): The number of times to multiply the matrix and vector.\n",
        "\n",
        "    Returns:\n",
        "    None\n",
        "    \"\"\"\n",
        "    result = np.eye(len(q))\n",
        "    for i in range(1, n+1):\n",
        "        result += (-1)**i * matrix_power(G, i)\n",
        "        output_k = matrix_vector_multiplication(np.linalg.inv(result), q)\n",
        "        output_k = np.maximum(output_k, 0)\n",
        "        print(\"k = {}: {}\".format(i, output_k))"
      ]
    },
    {
      "cell_type": "code",
      "execution_count": 88,
      "metadata": {},
      "outputs": [],
      "source": [
        "# print(\"Infinity norm of G: \" + str(np.linalg.norm(G, ord=np.inf)))\n",
        "# print(\"Norm-2 of G: \" + str(np.linalg.norm(G)))\n",
        "# print(\"Norm-1 of G: \" + str(np.linalg.norm(G, ord=1)))\n",
        "# # print sorted eigenvalues of G\n",
        "# print(\"Eigenvalues of G: \" + str(sorted(eigvals(G))))"
      ]
    },
    {
      "cell_type": "code",
      "execution_count": 100,
      "metadata": {},
      "outputs": [
        {
          "name": "stderr",
          "output_type": "stream",
          "text": [
            "/var/folders/hs/y116vr4j4yg5fcthw_l99c5r0000gn/T/ipykernel_3356/432110732.py:3: FutureWarning: adjacency_matrix will return a scipy.sparse array instead of a matrix in Networkx 3.0.\n",
            "  result = nx.adjacency_matrix(G, weight='weight')\n"
          ]
        }
      ],
      "source": [
        "n = 6\n",
        "G = create_weighted_cycle_graph_adj_matrix(n)\n",
        "result = nx.adjacency_matrix(G, weight='weight')\n",
        "result = result.todense()\n",
        "q = np.ones(n)"
      ]
    },
    {
      "cell_type": "code",
      "execution_count": 101,
      "metadata": {},
      "outputs": [
        {
          "name": "stdout",
          "output_type": "stream",
          "text": [
            "k = 1: [ 3.02001949  4.61925291 11.8852366  26.03341739 24.49169583  7.03084462]\n",
            "k = 2: [1.19260039 1.13813644 1.1599389  1.02590638 0.96250365 1.20600122]\n",
            "k = 3: [ 2.07975732  2.85645434  6.50535844 13.52574449 12.71242903  4.09829733]\n",
            "k = 4: [1.21120492 1.15521515 1.19376434 1.08979951 1.01397855 1.23661653]\n",
            "k = 5: [1.78638981 2.28563669 4.72596722 9.36536152 8.79456265 3.13914623]\n",
            "k = 6: [1.21638263 1.16435064 1.22039839 1.15463364 1.07155735 1.25266705]\n",
            "k = 7: [1.64231736 2.00285465 3.84123032 7.29538284 6.84538177 2.66341454]\n",
            "k = 8: [1.22068577 1.17297098 1.24652708 1.2177993  1.12908015 1.267268  ]\n",
            "k = 9: [1.55662616 1.83441365 3.31400872 6.06185229 5.68386092 2.38003658]\n",
            "k = 10: [1.22486169 1.18135414 1.27220149 1.27921075 1.18564231 1.28138298]\n",
            "k = 11: [1.49999983 1.72307992 2.96551948 5.24650722 4.91611654 2.19273719]\n",
            "k = 12: [1.22893259 1.1894861  1.29725349 1.33876734 1.2408335  1.29506482]\n",
            "k = 13: [1.45996643 1.64436723 2.71913756 4.67005978 4.37332309 2.06031762]\n",
            "k = 14: [1.23288094 1.19734513 1.3215532  1.39632276 1.29436714 1.30828632]\n",
            "k = 15: [1.43029781 1.58603326 2.53654391 4.24285479 3.97105911 1.96218159]\n",
            "k = 16: [1.23669077 1.20491048 1.34500057 1.4517271  1.34602302 1.32101361]\n",
            "k = 17: [1.40753415 1.54127567 2.39644626 3.91507552 3.66241619 1.8868853 ]\n",
            "k = 18: [1.24034947 1.21216388 1.36751782 1.50484694 1.39562976 1.33321611]\n",
            "k = 19: [1.38959912 1.50601209 2.28606618 3.65682495 3.41924277 1.82756089]\n",
            "k = 20: [1.24384743 1.21909057 1.38904584 1.5555741  1.44305719 1.34486898]\n",
            "k = 21: [1.37517105 1.47764382 2.19726946 3.44907182 3.22361865 1.77983658]\n",
            "k = 22: [1.24717778 1.22567968 1.40954225 1.603829   1.48821191 1.35595392]\n",
            "k = 23: [1.36336846 1.45443774 2.12463111 3.27912363 3.06359235 1.74079668]\n",
            "k = 24: [1.25033607 1.23192433 1.42897981 1.64956125 1.53103393 1.36645937]\n",
            "k = 25: [1.35358082 1.43519341 2.06439361 3.13818905 2.93088579 1.70842169]\n",
            "k = 26: [1.25332013 1.23782148 1.447345   1.69274867 1.57149347 1.37638023]\n",
            "k = 27: [1.34537177 1.4190529  2.01387149 3.01998506 2.81958277 1.68126828]\n",
            "k = 28: [1.25612975 1.24337169 1.46463662 1.73339525 1.60958787 1.38571742]\n",
            "k = 29: [1.33842113 1.40538665 1.97109419 2.91990121 2.725342   1.65827738]\n",
            "k = 30: [1.25876648 1.24857871 1.48086425 1.77152852 1.64533824 1.39447726]\n",
            "k = 31: [1.3324886  1.39372219 1.93458276 2.8344773  2.64490529 1.6386541 ]\n",
            "k = 32: [1.2612334  1.25344912 1.4960468  1.80719663 1.67878623 1.40267082]\n",
            "k = 33: [1.32739028 1.38369795 1.90320544 2.76106539 2.57577931 1.62179017]\n",
            "k = 34: [1.26353486 1.25799187 1.51021099 1.84046518 1.70999072 1.41031315]\n",
            "k = 35: [1.32298304 1.37503249 1.87608133 2.69760452 2.5160234  1.60721217]\n",
            "k = 36: [1.26567624 1.26221788 1.52338995 1.87141411 1.73902472 1.41742263]\n",
            "k = 37: [1.3191538  1.36750351 1.85251453 2.64246649 2.46410443 1.59454605]\n",
            "k = 38: [1.26766373 1.26613963 1.53562189 1.90013476 1.76597236 1.42402023]\n",
            "k = 39: [1.31581206 1.36093303 1.83194798 2.59434799 2.41879517 1.58349244]\n",
            "k = 40: [1.26950418 1.26977074 1.5469488  1.92672701 1.79092617 1.43012891]\n"
          ]
        }
      ],
      "source": [
        "print_multiplication_until_n(result, q, 40)"
      ]
    },
    {
      "cell_type": "code",
      "execution_count": 134,
      "metadata": {},
      "outputs": [
        {
          "name": "stdout",
          "output_type": "stream",
          "text": [
            "Iteration 998: x = [1.36571429 0.08571429 1.        ], x_new = [0.         0.71428571 0.        ]\n",
            "Iteration 999: x = [0.         0.71428571 0.        ], x_new = [1.28571429 0.28571429 1.        ]\n",
            "Iteration 1000: x = [1.28571429 0.28571429 1.        ], x_new = [0.         0.51428571 0.        ]\n",
            "Max iterations reached without convergence.\n",
            "Nash Equilibrium for degree 1: [0.         0.51428571 0.        ]\n"
          ]
        }
      ],
      "source": [
        "def compute_series_matrix(G, max_degree=3):\n",
        "    \"\"\"Computes the series G + G^2 + G^3 + ... up to G^max_degree.\"\"\"\n",
        "    N = G.shape[0]\n",
        "    series_matrix = np.eye(N)  # Start with I\n",
        "    G_power = np.eye(N)  # Initialize with I for the first term G^0\n",
        "    for n in range(1, max_degree + 1):\n",
        "        G_power = np.dot(G_power, G)  # Compute G^n\n",
        "        series_matrix += G_power  # Add or subtract the term based on n\n",
        "    return series_matrix\n",
        "\n",
        "def find_nash_equilibrium(G, tolerance=0.01, max_iterations=1000):\n",
        "    N = G.shape[0]  # Number of agents\n",
        "    x = np.ones(N)  # Initialize efforts with random values\n",
        "    \n",
        "    for iteration in range(max_iterations):\n",
        "        x_new = np.ones(N) - np.dot(G, x)  # Compute new x \n",
        "        x_new = np.maximum(0, x_new)  # Apply the max{0, x} condition\n",
        "\n",
        "        # print x and x_new for the last three iterations\n",
        "        if iteration >= max_iterations - 3:\n",
        "            print(f\"Iteration {iteration + 1}: x = {x}, x_new = {x_new}\")\n",
        "                    \n",
        "        # Check for convergence\n",
        "        if np.linalg.norm(x - x_new) < tolerance:\n",
        "            print(f\"Equilibrium found after {iteration + 1} iterations.\")\n",
        "            return x_new\n",
        "        \n",
        "        x = x_new  # Update x for the next iteration\n",
        "    \n",
        "    print(\"Max iterations reached without convergence.\")\n",
        "    return x\n",
        "# Example usage\n",
        "N = 3  # Adjust based on your specific game model\n",
        "adj_matrix = np.array([[0, -0.4, 0], [0, 0, 0.2], [0.6, 0, 0]])  # Example G matrix\n",
        "\n",
        "# Try different degrees of the series\n",
        "for max_degree in range(1, 2):  # Adjust the range as needed\n",
        "    result = compute_series_matrix(adj_matrix, max_degree)\n",
        "    x_star = find_nash_equilibrium(result)\n",
        "    print(f\"Nash Equilibrium for degree {max_degree}:\", x_star)"
      ]
    },
    {
      "cell_type": "code",
      "execution_count": null,
      "metadata": {},
      "outputs": [],
      "source": [
        "# Nash Equilibrium for degree 1: [0.         0.51428571 0.        ]"
      ]
    }
  ],
  "metadata": {
    "colab": {
      "provenance": []
    },
    "kernelspec": {
      "display_name": "Python 3",
      "language": "python",
      "name": "python3"
    },
    "language_info": {
      "codemirror_mode": {
        "name": "ipython",
        "version": 3
      },
      "file_extension": ".py",
      "mimetype": "text/x-python",
      "name": "python",
      "nbconvert_exporter": "python",
      "pygments_lexer": "ipython3",
      "version": "3.9.13"
    },
    "orig_nbformat": 4,
    "vscode": {
      "interpreter": {
        "hash": "aee8b7b246df8f9039afb4144a1f6fd8d2ca17a180786b69acc140d282b71a49"
      }
    }
  },
  "nbformat": 4,
  "nbformat_minor": 0
}
