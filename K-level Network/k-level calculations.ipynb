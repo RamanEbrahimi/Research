{
  "cells": [
    {
      "cell_type": "code",
      "execution_count": 1,
      "metadata": {
        "id": "dnCLC6t5O9a8"
      },
      "outputs": [],
      "source": [
        "import numpy as np\n",
        "import pandas as pd\n",
        "import networkx as nx\n",
        "import matplotlib.pyplot as plt\n",
        "%matplotlib inline\n",
        "from scipy.linalg import eigvals\n",
        "import random"
      ]
    },
    {
      "cell_type": "code",
      "execution_count": 2,
      "metadata": {},
      "outputs": [],
      "source": [
        "def matrix_power(matrix, power):\n",
        "    \"\"\"\n",
        "    Calculates the power of a matrix.\n",
        "\n",
        "    Parameters:\n",
        "    matrix (numpy.ndarray): The matrix to calculate the power of.\n",
        "    power (int): The power to raise the matrix to.\n",
        "\n",
        "    Returns:\n",
        "    numpy.ndarray: The resulting matrix.\n",
        "    \"\"\"\n",
        "    return np.linalg.matrix_power(matrix, power)\n",
        "\n",
        "def matrix_vector_multiplication(matrix, vector):\n",
        "    \"\"\"\n",
        "    Calculates the multiplication of a matrix and a vector.\n",
        "\n",
        "    Parameters:\n",
        "    matrix (numpy.ndarray): The matrix to multiply.\n",
        "    vector (numpy.ndarray): The vector to multiply.\n",
        "\n",
        "    Returns:\n",
        "    numpy.ndarray: The resulting vector.\n",
        "    \"\"\"\n",
        "    return np.dot(matrix, vector)\n",
        "\n",
        "def assign_random_values():\n",
        "    # between -1, 1\n",
        "    a = random.uniform(-1, 1)\n",
        "    b = random.uniform(-1, 1)\n",
        "    c = random.uniform(-1, 1)\n",
        "    d = random.uniform(-1, 1)\n",
        "    e = random.uniform(-1, 1)\n",
        "    f = random.uniform(-1, 1)\n",
        "    g = random.uniform(-1, 1)\n",
        "    h = random.uniform(-1, 1)\n",
        "    i = random.uniform(-1, 1)\n",
        "    j = random.uniform(-1, 1)\n",
        "    k = random.uniform(-1, 1)\n",
        "    l = random.uniform(-1, 1)\n",
        "    return a, b, c, d, e, f, g, h, i, j, k, l\n",
        "\n",
        "def print_multiplication_until_n(G, q, n):\n",
        "    \"\"\"\n",
        "    Prints the multiplication of matrix and vector for k = 1 to n.\n",
        "\n",
        "    Parameters:\n",
        "    G (numpy.ndarray): The matrix to multiply.\n",
        "    q (numpy.ndarray): The vector to multiply.\n",
        "    n (int): The number of times to multiply the matrix and vector.\n",
        "\n",
        "    Returns:\n",
        "    None\n",
        "    \"\"\"\n",
        "    result = np.eye(4)\n",
        "    for i in range(1, n+1):\n",
        "        result += (-1)**i * matrix_power(G, i)\n",
        "        print(\"Multiplication of matrix and vector for k = {}: {}\".format(i, matrix_vector_multiplication(result, q)))"
      ]
    },
    {
      "cell_type": "code",
      "execution_count": 12,
      "metadata": {},
      "outputs": [
        {
          "name": "stdout",
          "output_type": "stream",
          "text": [
            "Matrix G: [[ 0.          0.          0.5         0.5       ]\n",
            " [-0.91672444  0.          0.96444582 -0.3982591 ]\n",
            " [-0.11649623 -0.00566535  0.         -0.85884177]\n",
            " [-0.64056765  0.93146666  0.51265045  0.        ]]\n",
            "Vector q: [1 1 1 1]\n",
            "\n",
            "\n",
            "\n"
          ]
        }
      ],
      "source": [
        "# our matrix\n",
        "a, b, c, d, e, f, g, h, i, j, k, l = assign_random_values()\n",
        "a = 0\n",
        "b = 0.5\n",
        "c = 0.5\n",
        "\n",
        "G = np.array([[0, a, b, c],[d, 0, e, f],[g, h, 0, i],[j, k, l, 0]])\n",
        "# our vector\n",
        "# choose a random vector\n",
        "# q = np.random.rand(4)\n",
        "q = np.array([1, 1, 1, 1])\n",
        "\n",
        "print(\"Matrix G: \" + str(G))\n",
        "print(\"Vector q: \" + str(q))\n",
        "print(\"\\n\\n\")"
      ]
    },
    {
      "cell_type": "code",
      "execution_count": 13,
      "metadata": {},
      "outputs": [
        {
          "name": "stdout",
          "output_type": "stream",
          "text": [
            "[[ 4.14597091e+52 -1.98581504e+53 -1.31424408e+53 -2.61722387e+53]\n",
            " [ 6.17417785e+53 -3.10584537e+53 -4.58948767e+53  5.27856555e+53]\n",
            " [ 2.41284331e+53  8.70692531e+52 -6.13603021e+52  5.54815747e+53]\n",
            " [ 4.88727390e+53 -5.73151475e+53 -5.48566390e+53 -1.29436713e+53]]\n",
            "\n",
            "\n",
            "[[ 3.65005860e+53 -2.43041111e+53 -3.04963346e+53  2.12689517e+53]\n",
            " [ 5.84047746e+49  4.94280886e+53  2.79772836e+53  8.26566384e+53]\n",
            " [-4.28067287e+53  5.17139996e+53  4.89042285e+53  1.38664834e+53]\n",
            " [ 6.72240852e+53 -1.17458161e+53 -3.74765636e+53  9.43758216e+53]]\n"
          ]
        }
      ],
      "source": [
        "# see if matrix powers converge\n",
        "print(matrix_power(G, 500))\n",
        "print(\"\\n\")\n",
        "print(matrix_power(G, 501))"
      ]
    },
    {
      "cell_type": "code",
      "execution_count": 14,
      "metadata": {},
      "outputs": [
        {
          "name": "stdout",
          "output_type": "stream",
          "text": [
            "Multiplication of matrix and vector for k = 1: [0.         1.35053773 1.98100335 0.19645054]\n",
            "Multiplication of matrix and vector for k = 2: [-0.08872695 -0.83233218  1.1763712  -1.27354312]\n",
            "Multiplication of matrix and vector for k = 3: [ 1.04858596 -0.72308458 -0.10882384  1.11538683]\n",
            "Multiplication of matrix and vector for k = 4: [0.49671851 2.51043204 2.07600059 2.40100801]\n",
            "Multiplication of matrix and vector for k = 5: [-1.2385043   0.4093872   3.13417429 -2.08446457]\n",
            "Multiplication of matrix and vector for k = 6: [ 0.47514514 -3.98826543 -0.932187   -1.78141218]\n",
            "Multiplication of matrix and vector for k = 7: [ 2.35679959  1.6251574  -0.49719351  5.49718495]\n",
            "Multiplication of matrix and vector for k = 8: [-1.49999572  5.82935592  6.00497743  1.25079612]\n",
            "Multiplication of matrix and vector for k = 9: [-2.62788677 -5.66841716  1.93251746 -8.46915378]\n",
            "Multiplication of matrix and vector for k = 10: [ 4.26831816 -6.64577397 -6.61191553  3.60589638]\n",
            "Multiplication of matrix and vector for k = 11: [ 2.50300958 12.7257869   4.55648676 13.31406486]\n",
            "Multiplication of matrix and vector for k = 12: [ -7.93527581   4.20253294  12.79836232 -11.58618421]\n",
            "Multiplication of matrix and vector for k = 13: [  0.39391094 -23.23209158  -9.85131987 -14.55868649]\n",
            "Multiplication of matrix and vector for k = 14: [ 13.20500318   5.06404266 -11.58933696  27.94252883]\n",
            "Multiplication of matrix and vector for k = 15: [-7.17659593 35.41100309 26.56523368 10.68298977]\n",
            "Multiplication of matrix and vector for k = 16: [-17.62411173 -26.9450915    9.53956732 -50.19994284]\n",
            "Multiplication of matrix and vector for k = 17: [ 21.33018776 -44.34943381 -44.31960392   9.91855498]\n",
            "Multiplication of matrix and vector for k = 18: [18.20052447 67.24791584 11.75210063 78.69391195]\n",
            "Multiplication of matrix and vector for k = 19: [-44.22300629  37.69116786  71.08689449 -56.00524381]\n",
            "Multiplication of matrix and vector for k = 20: [  -6.54082534 -130.40436673  -52.03792265  -98.87862173]\n",
            "Multiplication of matrix and vector for k = 21: [ 76.45827219   5.81231149 -85.421859   144.9547428 ]\n",
            "Multiplication of matrix and vector for k = 22: [-28.7664419  211.2054668  134.43321756  88.35427579]\n",
            "Multiplication of matrix and vector for k = 23: [-110.39374667 -119.83656037   74.72771427 -283.0749515 ]\n",
            "Multiplication of matrix and vector for k = 24: [ 105.17361862 -285.00865249 -255.65596488    3.59990104]\n",
            "Multiplication of matrix and vector for k = 25: [127.02803192 345.415246    14.72940095 464.90901965]\n",
            "Multiplication of matrix and vector for k = 26: [-238.8192103   288.39824005  417.03847266 -246.92377046]\n",
            "Multiplication of matrix and vector for k = 27: [ -84.0573511  -718.48205606 -237.25610874 -634.40816518]\n",
            "Multiplication of matrix and vector for k = 28: [ 436.83213696  -99.89559131 -557.71905201  738.02710949]\n",
            "Multiplication of matrix and vector for k = 29: [ -89.15402874 1233.27051554  685.17186453  659.78487053]\n",
            "Multiplication of matrix and vector for k = 30: [ -671.47836753  -478.77548725   564.25161199 -1556.11321476]\n",
            "Multiplication of matrix and vector for k = 31: [  496.93080138 -1778.48698604 -1416.3921625   -272.42776002]\n",
            "Multiplication of matrix and vector for k = 32: [ 845.40996126 1714.08527298 -185.15753129 2702.03320101]\n",
            "Multiplication of matrix and vector for k = 33: [-1257.43783486  2030.69169081  2429.81695553  -959.14991454]\n",
            "Multiplication of matrix and vector for k = 34: [ -734.33352049 -3877.14097651  -957.74019593 -3941.642353  ]\n",
            "Multiplication of matrix and vector for k = 35: [ 2450.69127447 -1318.2878954  -3491.75956394  3633.02318689]\n",
            "Multiplication of matrix and vector for k = 36: [ -69.63181147 7062.10603774 3399.21980353 4588.82687867]\n",
            "Multiplication of matrix and vector for k = 37: [-3993.0233411  -1513.65444234  3973.97368913 -8364.33174534]\n",
            "Multiplication of matrix and vector for k = 38: [  2196.17902811 -10823.3556224   -7656.38505705  -3184.1423331 ]\n",
            "Multiplication of matrix and vector for k = 39: [ 5421.26369507  8130.34587423 -2539.14599496 15414.44535425]\n",
            "Multiplication of matrix and vector for k = 40: [-6436.64967965 13558.6167938  13917.18763475 -2797.76560779]\n"
          ]
        }
      ],
      "source": [
        "print_multiplication_until_n(G, q, 40)"
      ]
    },
    {
      "cell_type": "code",
      "execution_count": null,
      "metadata": {},
      "outputs": [],
      "source": [
        "\"\"\"\n",
        "f(x) = c_0 + c_1 * x + c_2 * x^2 + ...\n",
        "\n",
        "If the series converges for |x|<r, \n",
        "then the corresponding matrix series converges for matrices A such that ||A||<r \n",
        "for some matrix norm that satisfies ||AB||<||A|| ||B||\n",
        "\"\"\""
      ]
    }
  ],
  "metadata": {
    "colab": {
      "provenance": []
    },
    "kernelspec": {
      "display_name": "Python 3",
      "language": "python",
      "name": "python3"
    },
    "language_info": {
      "codemirror_mode": {
        "name": "ipython",
        "version": 3
      },
      "file_extension": ".py",
      "mimetype": "text/x-python",
      "name": "python",
      "nbconvert_exporter": "python",
      "pygments_lexer": "ipython3",
      "version": "3.9.13"
    },
    "orig_nbformat": 4,
    "vscode": {
      "interpreter": {
        "hash": "aee8b7b246df8f9039afb4144a1f6fd8d2ca17a180786b69acc140d282b71a49"
      }
    }
  },
  "nbformat": 4,
  "nbformat_minor": 0
}
