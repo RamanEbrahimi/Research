{
  "cells": [
    {
      "cell_type": "code",
      "execution_count": 8,
      "metadata": {
        "id": "dnCLC6t5O9a8"
      },
      "outputs": [],
      "source": [
        "import numpy as np\n",
        "import pandas as pd\n",
        "import networkx as nx\n",
        "import matplotlib.pyplot as plt\n",
        "%matplotlib inline\n",
        "from scipy.linalg import eigvals\n",
        "import random"
      ]
    },
    {
      "cell_type": "code",
      "execution_count": 12,
      "metadata": {},
      "outputs": [],
      "source": [
        "def matrix_power(matrix, power):\n",
        "    \"\"\"\n",
        "    Calculates the power of a matrix.\n",
        "\n",
        "    Parameters:\n",
        "    matrix (numpy.ndarray): The matrix to calculate the power of.\n",
        "    power (int): The power to raise the matrix to.\n",
        "\n",
        "    Returns:\n",
        "    numpy.ndarray: The resulting matrix.\n",
        "    \"\"\"\n",
        "    return np.linalg.matrix_power(matrix, power)\n",
        "\n",
        "def matrix_vector_multiplication(matrix, vector):\n",
        "    \"\"\"\n",
        "    Calculates the multiplication of a matrix and a vector.\n",
        "\n",
        "    Parameters:\n",
        "    matrix (numpy.ndarray): The matrix to multiply.\n",
        "    vector (numpy.ndarray): The vector to multiply.\n",
        "\n",
        "    Returns:\n",
        "    numpy.ndarray: The resulting vector.\n",
        "    \"\"\"\n",
        "    return np.dot(matrix, vector)\n",
        "\n",
        "def assign_random_values():\n",
        "    # between -1, 1\n",
        "    a = random.uniform(-1, 1)\n",
        "    b = random.uniform(-1, 1)\n",
        "    c = random.uniform(-1, 1)\n",
        "    d = random.uniform(-1, 1)\n",
        "    e = random.uniform(-1, 1)\n",
        "    f = random.uniform(-1, 1)\n",
        "    g = random.uniform(-1, 1)\n",
        "    h = random.uniform(-1, 1)\n",
        "    i = random.uniform(-1, 1)\n",
        "    j = random.uniform(-1, 1)\n",
        "    k = random.uniform(-1, 1)\n",
        "    l = random.uniform(-1, 1)\n",
        "    return a, b, c, d, e, f, g, h, i, j, k, l\n",
        "\n",
        "def print_multiplication_until_n(G, q, n):\n",
        "    \"\"\"\n",
        "    Prints the multiplication of matrix and vector for k = 1 to n.\n",
        "\n",
        "    Parameters:\n",
        "    G (numpy.ndarray): The matrix to multiply.\n",
        "    q (numpy.ndarray): The vector to multiply.\n",
        "    n (int): The number of times to multiply the matrix and vector.\n",
        "\n",
        "    Returns:\n",
        "    None\n",
        "    \"\"\"\n",
        "    result = np.eye(4)\n",
        "    for i in range(1, n+1):\n",
        "        result += (-1)**i * matrix_power(G, i)\n",
        "        print(\"Multiplication of matrix and vector for k = {}: {}\".format(i, matrix_vector_multiplication(result, q)))"
      ]
    },
    {
      "cell_type": "code",
      "execution_count": 27,
      "metadata": {},
      "outputs": [
        {
          "name": "stdout",
          "output_type": "stream",
          "text": [
            "Matrix G: [[ 0.          0.78161634  0.97278245 -0.13016772]\n",
            " [-0.24813262  0.         -0.03358014  0.85513195]\n",
            " [ 0.91109465  0.19119147  0.         -0.33927386]\n",
            " [ 0.77283855  0.45197686 -0.27531001  0.        ]]\n",
            "Vector q: [1 1 1 1]\n",
            "\n",
            "\n",
            "\n"
          ]
        }
      ],
      "source": [
        "# our matrix\n",
        "a, b, c, d, e, f, g, h, i, j, k, l = assign_random_values()\n",
        "\n",
        "G = np.array([[0, a, b, c],[d, 0, e, f],[g, h, 0, i],[j, k, l, 0]])\n",
        "# our vector\n",
        "# choose a random vector\n",
        "# q = np.random.rand(4)\n",
        "q = np.array([1, 1, 1, 1])\n",
        "\n",
        "print(\"Matrix G: \" + str(G))\n",
        "print(\"Vector q: \" + str(q))\n",
        "print(\"\\n\\n\")"
      ]
    },
    {
      "cell_type": "code",
      "execution_count": 28,
      "metadata": {},
      "outputs": [
        {
          "name": "stdout",
          "output_type": "stream",
          "text": [
            "[[1.74214790e-10 2.33486764e-10 1.28729876e-10 1.39156824e-10]\n",
            " [7.24519234e-11 9.71017738e-11 5.35357942e-11 5.78721219e-11]\n",
            " [1.31667694e-10 1.76464144e-10 9.72912000e-11 1.05171657e-10]\n",
            " [1.36888413e-10 1.83461075e-10 1.01148867e-10 1.09341789e-10]]\n",
            "\n",
            "\n",
            "[[1.66895177e-10 2.23676846e-10 1.23321306e-10 1.33310167e-10]\n",
            " [6.94078646e-11 9.30220546e-11 5.12864944e-11 5.54406317e-11]\n",
            " [1.26135692e-10 1.69050024e-10 9.32035220e-11 1.00752883e-10]\n",
            " [1.31137063e-10 1.75752980e-10 9.68991093e-11 1.04747807e-10]]\n"
          ]
        }
      ],
      "source": [
        "# see if matrix powers converge\n",
        "print(matrix_power(G, 500))\n",
        "print(\"\\n\")\n",
        "print(matrix_power(G, 501))"
      ]
    },
    {
      "cell_type": "code",
      "execution_count": 30,
      "metadata": {},
      "outputs": [
        {
          "name": "stdout",
          "output_type": "stream",
          "text": [
            "Multiplication of matrix and vector for k = 1: [-0.62423107  0.42658081  0.23698774  0.05049461]\n",
            "Multiplication of matrix and vector for k = 2: [0.44261272 0.80988644 1.50430648 1.35487028]\n",
            "Multiplication of matrix and vector for k = 3: [-0.92002304  0.00174861  0.90156661  0.70603253]\n",
            "Multiplication of matrix and vector for k = 4: [0.21350773 0.19823603 2.07743214 1.95844925]\n",
            "Multiplication of matrix and vector for k = 5: [-0.92090717 -0.55199384  1.43202386  1.31733276]\n",
            "Multiplication of matrix and vector for k = 6: [ 0.20987393 -0.30691289  2.39150669  2.3554515 ]\n",
            "Multiplication of matrix and vector for k = 7: [-0.77992386 -0.88183815  1.66660724  1.63492459]\n",
            "Multiplication of matrix and vector for k = 8: [ 0.28082723 -0.5356359   2.43387157  2.46015931]\n",
            "Multiplication of matrix and vector for k = 9: [-0.62873245 -0.95234869  1.68121658  1.69513013]\n",
            "Multiplication of matrix and vector for k = 10: [ 0.32956454 -0.54911348  2.33002906  2.37920399]\n",
            "Multiplication of matrix and vector for k = 11: [-0.52771976 -0.87451494  1.61192306  1.63496673]\n",
            "Multiplication of matrix and vector for k = 12: [ 0.3283046  -0.47492818  2.20270393  2.24688124]\n",
            "Multiplication of matrix and vector for k = 13: [-0.47906869 -0.76594976  1.55399374  1.56735654]\n",
            "Multiplication of matrix and vector for k = 14: [ 0.29100024 -0.4069859   2.11468309  2.14426435]\n",
            "Multiplication of matrix and vector for k = 15: [-0.45990577 -0.69041095  1.54017632  1.54124543]\n",
            "Multiplication of matrix and vector for k = 16: [ 0.24200039 -0.3803665   2.07392267  2.09150864]\n",
            "Multiplication of matrix and vector for k = 17: [-0.44792799 -0.65882506  1.56183179  1.5558613 ]\n",
            "Multiplication of matrix and vector for k = 18: [ 0.1981488  -0.38916573  2.0619296   2.07393762]\n",
            "Multiplication of matrix and vector for k = 19: [-0.43167091 -0.65508327  1.59750569  1.59042673]\n",
            "Multiplication of matrix and vector for k = 20: [ 0.16502051 -0.41349189  2.05812961  2.0695037 ]\n",
            "Multiplication of matrix and vector for k = 21: [-0.40953777 -0.65963949  1.63083534  1.62597824]\n",
            "Multiplication of matrix and vector for k = 22: [ 0.14078689 -0.43728195  2.05089704  2.06363366]\n",
            "Multiplication of matrix and vector for k = 23: [-0.38467144 -0.66087585  1.65547136  1.65346827]\n",
            "Multiplication of matrix and vector for k = 24: [ 0.12136607 -0.45379213  2.03780449  2.05175735]\n",
            "Multiplication of matrix and vector for k = 25: [-0.36057653 -0.65597863  1.67229285  1.67233514]\n",
            "Multiplication of matrix and vector for k = 26: [ 0.10363053 -0.46338218  2.02131647  2.03555356]\n",
            "Multiplication of matrix and vector for k = 27: [-0.33915074 -0.64707669  1.68478762  1.68583701]\n",
            "Multiplication of matrix and vector for k = 28: [ 0.08627544 -0.46919206  2.0046744   2.01841135]\n",
            "Multiplication of matrix and vector for k = 29: [-0.3206519  -0.63728304  1.69589464  1.69729389]\n",
            "Multiplication of matrix and vector for k = 30: [ 0.06930717 -0.47402606  1.98983477  2.0027461 ]\n",
            "Multiplication of matrix and vector for k = 31: [-0.30447694 -0.62859589  1.70696376  1.70850699]\n",
            "Multiplication of matrix and vector for k = 32: [ 0.05320889 -0.4792295   1.97724125  1.98936652]\n",
            "Multiplication of matrix and vector for k = 33: [-0.28990068 -0.62157198  1.71808633  1.71983307]\n",
            "Multiplication of matrix and vector for k = 34: [ 0.03837334 -0.48492445  1.96646063  1.97798893]\n",
            "Multiplication of matrix and vector for k = 35: [-0.27644321 -0.61588584  1.72883162  1.73090453]\n",
            "Multiplication of matrix and vector for k = 36: [ 0.02491727 -0.49069194  1.95686871  1.96797676]\n",
            "Multiplication of matrix and vector for k = 37: [-0.26390766 -0.6109851   1.73879721  1.74126992]\n",
            "Multiplication of matrix and vector for k = 38: [ 0.01274167 -0.49611059  1.94802737  1.95881741]\n",
            "Multiplication of matrix and vector for k = 39: [-0.2522639  -0.60647071  1.7478188   1.75069469]\n",
            "Multiplication of matrix and vector for k = 40: [ 1.66389263e-03 -5.00977871e-01  1.93975326e+00  1.95026200e+00]\n"
          ]
        }
      ],
      "source": [
        "print_multiplication_until_n(G, q, 40)"
      ]
    }
  ],
  "metadata": {
    "colab": {
      "provenance": []
    },
    "kernelspec": {
      "display_name": "Python 3",
      "language": "python",
      "name": "python3"
    },
    "language_info": {
      "codemirror_mode": {
        "name": "ipython",
        "version": 3
      },
      "file_extension": ".py",
      "mimetype": "text/x-python",
      "name": "python",
      "nbconvert_exporter": "python",
      "pygments_lexer": "ipython3",
      "version": "3.9.13"
    },
    "orig_nbformat": 4,
    "vscode": {
      "interpreter": {
        "hash": "aee8b7b246df8f9039afb4144a1f6fd8d2ca17a180786b69acc140d282b71a49"
      }
    }
  },
  "nbformat": 4,
  "nbformat_minor": 0
}
