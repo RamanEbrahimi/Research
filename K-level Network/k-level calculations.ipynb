{
  "cells": [
    {
      "cell_type": "code",
      "execution_count": 1,
      "metadata": {
        "id": "dnCLC6t5O9a8"
      },
      "outputs": [],
      "source": [
        "import numpy as np\n",
        "import pandas as pd\n",
        "import networkx as nx\n",
        "import matplotlib.pyplot as plt\n",
        "%matplotlib inline\n",
        "from scipy.linalg import eigvals\n",
        "import random"
      ]
    },
    {
      "cell_type": "code",
      "execution_count": 22,
      "metadata": {},
      "outputs": [],
      "source": [
        "def create_weighted_cycle_graph_adj_matrix(n):\n",
        "    \"\"\"\n",
        "    Creates a weighted cycle graph with n nodes and returns its adjacency matrix.\n",
        "\n",
        "    Parameters:\n",
        "    n (int): Number of nodes in the graph.\n",
        "\n",
        "    Returns:\n",
        "    scipy.sparse.csr_matrix: Adjacency matrix of the graph.\n",
        "    \"\"\"\n",
        "    # Create a cycle graph with n nodes\n",
        "    G = nx.cycle_graph(n)\n",
        "\n",
        "    # Add weights to the edges using random numbers\n",
        "    for (u, v) in G.edges():\n",
        "        G[u][v]['weight'] = np.random.rand()\n",
        "\n",
        "    result = nx.adjacency_matrix(G, weight='weight')\n",
        "    result = result.todense()\n",
        "    # Return the adjacency matrix\n",
        "    return result\n",
        "\n",
        "def matrix_power(matrix, power):\n",
        "    \"\"\"\n",
        "    Calculates the power of a matrix.\n",
        "\n",
        "    Parameters:\n",
        "    matrix (numpy.ndarray): The matrix to calculate the power of.\n",
        "    power (int): The power to raise the matrix to.\n",
        "\n",
        "    Returns:\n",
        "    numpy.ndarray: The resulting matrix.\n",
        "    \"\"\"\n",
        "    return np.linalg.matrix_power(matrix, power)\n",
        "\n",
        "def matrix_vector_multiplication(matrix, vector):\n",
        "    \"\"\"\n",
        "    Calculates the multiplication of a matrix and a vector.\n",
        "\n",
        "    Parameters:\n",
        "    matrix (numpy.ndarray): The matrix to multiply.\n",
        "    vector (numpy.ndarray): The vector to multiply.\n",
        "\n",
        "    Returns:\n",
        "    numpy.ndarray: The resulting vector.\n",
        "    \"\"\"\n",
        "    return np.dot(matrix, vector)\n",
        "\n",
        "\n",
        "def print_multiplication_until_n(G, q, n):\n",
        "    \"\"\"\n",
        "    Prints the multiplication of matrix and vector for k = 1 to n.\n",
        "\n",
        "    Parameters:\n",
        "    G (numpy.ndarray): The matrix to multiply.\n",
        "    q (numpy.ndarray): The vector to multiply.\n",
        "    n (int): The number of times to multiply the matrix and vector.\n",
        "\n",
        "    Returns:\n",
        "    None\n",
        "    \"\"\"\n",
        "    result = np.eye(len(q))\n",
        "    for i in range(1, n+1):\n",
        "        result += (-1)**i * matrix_power(G, i)\n",
        "        output_k = matrix_vector_multiplication(result, q)\n",
        "        output_k = np.maximum(output_k, 0)\n",
        "        print(\"k = {}: {}\".format(i, output_k))"
      ]
    },
    {
      "cell_type": "code",
      "execution_count": 42,
      "metadata": {},
      "outputs": [
        {
          "name": "stdout",
          "output_type": "stream",
          "text": [
            "Matrix G: \n",
            "[[0.         0.32977466 0.         0.         0.06619797]\n",
            " [0.32977466 0.         0.75349925 0.         0.        ]\n",
            " [0.         0.75349925 0.         0.68215884 0.        ]\n",
            " [0.         0.         0.68215884 0.         0.93846309]\n",
            " [0.06619797 0.         0.         0.93846309 0.        ]]\n",
            "Vector q: [1. 1. 1. 1. 1.]\n",
            "\n",
            "\n",
            "\n"
          ]
        },
        {
          "name": "stderr",
          "output_type": "stream",
          "text": [
            "/var/folders/hs/y116vr4j4yg5fcthw_l99c5r0000gn/T/ipykernel_6850/3592168269.py:18: FutureWarning: adjacency_matrix will return a scipy.sparse array instead of a matrix in Networkx 3.0.\n",
            "  result = nx.adjacency_matrix(G, weight='weight')\n"
          ]
        }
      ],
      "source": [
        "n = 5\n",
        "G = create_weighted_cycle_graph_adj_matrix(n)\n",
        "\n",
        "# our vector `q` is a vector with all entries equal to 1\n",
        "q = np.ones(n)\n",
        "\n",
        "print(\"Matrix G: \\n\" + str(G))\n",
        "print(\"Vector q: \" + str(q))\n",
        "print(\"\\n\\n\")"
      ]
    },
    {
      "cell_type": "code",
      "execution_count": 43,
      "metadata": {},
      "outputs": [],
      "source": [
        "# print(\"Infinity norm of G: \" + str(np.linalg.norm(G, ord=np.inf)))\n",
        "# print(\"Norm-2 of G: \" + str(np.linalg.norm(G)))\n",
        "# print(\"Norm-1 of G: \" + str(np.linalg.norm(G, ord=1)))\n",
        "# # print sorted eigenvalues of G\n",
        "# print(\"Eigenvalues of G: \" + str(sorted(eigvals(G))))"
      ]
    },
    {
      "cell_type": "code",
      "execution_count": 44,
      "metadata": {},
      "outputs": [
        {
          "name": "stdout",
          "output_type": "stream",
          "text": [
            "k = 1: [0.60402738 0.         0.         0.         0.        ]\n",
            "k = 2: [1.02777018 1.12907512 1.48610956 1.30156224 1.54244538]\n",
            "k = 3: [0.52555289 0.         0.         0.         0.        ]\n",
            "k = 4: [1.17043718 1.38324271 2.34247385 1.77555181 2.33657697]\n",
            "k = 5: [0.38916497 0.         0.         0.         0.        ]\n",
            "k = 6: [1.42881754 1.81616002 3.77102381 2.55307399 3.59323561]\n",
            "k = 7: [0.16321156 0.         0.         0.         0.        ]\n",
            "k = 8: [1.86132525 2.53611855 6.11555381 3.83823445 5.6294792 ]\n",
            "k = 9: [0. 0. 0. 0. 0.]\n",
            "k = 10: [2.57267655 3.7282119  9.94872787 5.96506176 8.9483888 ]\n",
            "k = 11: [0. 0. 0. 0. 0.]\n",
            "k = 12: [ 3.73776806  5.70033341 16.21024947  9.48482098 14.36588822]\n",
            "k = 13: [0. 0. 0. 0. 0.]\n",
            "k = 14: [ 5.64413561  8.96194236 26.43672599 15.30866888 23.21244929]\n",
            "k = 15: [0. 0. 0. 0. 0.]\n",
            "k = 16: [ 8.76273797 14.35507924 43.13882025 24.94279955 37.66049458]\n",
            "k = 17: [0. 0. 0. 0. 0.]\n",
            "k = 18: [13.86428962 23.27101287 70.41807208 40.87670305 61.25848517]\n",
            "k = 19: [0. 0. 0. 0. 0.]\n",
            "k = 20: [ 22.20981308  38.00803151 114.9749576   67.2243674   99.80324608]\n",
            "k = 21: [0. 0. 0. 0. 0.]\n",
            "k = 22: [ 35.86251858  62.36211812 187.75611242 110.78311579 162.7652083 ]\n",
            "k = 23: [0. 0. 0. 0. 0.]\n",
            "k = 24: [ 58.19817786 102.60191187 306.6459911  182.78184409 265.61729904]\n",
            "k = 25: [0. 0. 0. 0. 0.]\n",
            "k = 26: [ 94.74030955 169.07772733 500.8653566  301.76708537 433.64066394]\n",
            "k = 27: [0. 0. 0. 0. 0.]\n",
            "k = 28: [154.52691991 278.8766114  818.15924915 498.36673863 708.14404768]\n",
            "k = 29: [0. 0. 0. 0. 0.]\n",
            "k = 30: [ 252.34717272  460.20287998 1336.54403314  823.15192678 1156.62809891]\n",
            "k = 31: [0. 0. 0. 0. 0.]\n",
            "k = 32: [ 412.4018088   759.60454003 2183.50606474 1359.61005374 1889.39761086]\n",
            "k = 33: [0. 0. 0. 0. 0.]\n",
            "k = 34: [ 674.29378484 1253.89293749 3567.38026818 2245.549062   3086.71331065]\n",
            "k = 35: [0. 0. 0. 0. 0.]\n",
            "k = 36: [1102.83284508 2069.80120266 5828.63803951 3708.40764859 5043.17195163]\n",
            "k = 37: [0. 0. 0. 0. 0.]\n",
            "k = 38: [1804.08264351 3416.40193784 9523.72044766 6123.49837494 8240.24960517]\n",
            "k = 39: [0. 0. 0. 0. 0.]\n",
            "k = 40: [ 2951.62581544  5638.5591542  15562.07476252 10110.06582569\n",
            " 13464.88548   ]\n"
          ]
        }
      ],
      "source": [
        "print_multiplication_until_n(G, q, 40)"
      ]
    },
    {
      "cell_type": "code",
      "execution_count": 45,
      "metadata": {},
      "outputs": [
        {
          "data": {
            "text/plain": [
              "matrix([[1.39597262, 2.08327391, 2.43565809, 2.62062192, 2.00466106]])"
            ]
          },
          "execution_count": 45,
          "metadata": {},
          "output_type": "execute_result"
        }
      ],
      "source": [
        "C = np.eye(n) + G\n",
        "np.matmul(C, q)"
      ]
    },
    {
      "cell_type": "code",
      "execution_count": null,
      "metadata": {},
      "outputs": [],
      "source": [
        "\"\"\"\n",
        "f(x) = c_0 + c_1 * x + c_2 * x^2 + ...\n",
        "\n",
        "If the series converges for |x|<r, \n",
        "then the corresponding matrix series converges for matrices A such that ||A||<r \n",
        "for some matrix norm that satisfies ||AB||<||A|| ||B||\n",
        "\"\"\""
      ]
    }
  ],
  "metadata": {
    "colab": {
      "provenance": []
    },
    "kernelspec": {
      "display_name": "Python 3",
      "language": "python",
      "name": "python3"
    },
    "language_info": {
      "codemirror_mode": {
        "name": "ipython",
        "version": 3
      },
      "file_extension": ".py",
      "mimetype": "text/x-python",
      "name": "python",
      "nbconvert_exporter": "python",
      "pygments_lexer": "ipython3",
      "version": "3.9.13"
    },
    "orig_nbformat": 4,
    "vscode": {
      "interpreter": {
        "hash": "aee8b7b246df8f9039afb4144a1f6fd8d2ca17a180786b69acc140d282b71a49"
      }
    }
  },
  "nbformat": 4,
  "nbformat_minor": 0
}
