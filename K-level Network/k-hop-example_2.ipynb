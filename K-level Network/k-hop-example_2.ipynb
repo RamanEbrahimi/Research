{
  "cells": [
    {
      "cell_type": "code",
      "execution_count": 39,
      "metadata": {},
      "outputs": [
        {
          "name": "stdout",
          "output_type": "stream",
          "text": [
            "Equilibrium actions for 'all one':\n",
            "Converged in 43 iterations.\n",
            "[0.41812103 0.66202293 0.59233701]\n",
            "\n",
            "Equilibrium actions for 'one two unaware':\n",
            "Converged in 72 iterations.\n",
            "[0.12265268 0.57180212 0.76712875]\n",
            "\n",
            "Equilibrium actions for 'one two aware':\n",
            "Converged in 12 iterations.\n",
            "[0.10000033 0.60588281 0.76823497]\n"
          ]
        }
      ],
      "source": [
        "import numpy as np\n",
        "\n",
        "def find_equilibrium(G, q, mode='all one', tol=1e-5, max_iter=1000):\n",
        "    n = len(q)  # Number of agents\n",
        "    x = np.zeros(n)  # Initial actions\n",
        "    \n",
        "    if mode == 'all one':\n",
        "        for iteration in range(max_iter):\n",
        "            x_new = np.zeros(n)\n",
        "            for i in range(n):\n",
        "                sum_gx = np.sum(G[i, :] * x)\n",
        "                x_new[i] = max(0, q[i] - sum_gx)\n",
        "            \n",
        "            # Check for convergence\n",
        "            if np.linalg.norm(x_new - x) < tol:\n",
        "                print(f\"Converged in {iteration+1} iterations.\")\n",
        "                return x_new\n",
        "            x = x_new\n",
        "\n",
        "    elif mode in ['one two unaware', 'one two aware']:\n",
        "        G2 = np.linalg.matrix_power(G, 2)  # Compute G squared\n",
        "        for iteration in range(max_iter):\n",
        "            x_new = np.zeros(n)\n",
        "            # Update x1 using G + G^2\n",
        "            sum_g1x = np.sum((G[0, :] + G2[0, :]) * x)\n",
        "            x_new[0] = max(0, q[0] - sum_g1x)\n",
        "            \n",
        "            if mode == 'one two unaware':\n",
        "                # x_11 for Agent 1 using original G\n",
        "                x_11 = max(0, q[0] - np.sum(G[0, :] * x))  \n",
        "                # Update x2 specifically using x_11 and x3\n",
        "                x_new[1] = max(0, q[1] - G[1, 0] * x_11 - G[1, 2] * x[2])\n",
        "            elif mode == 'one two aware':\n",
        "                # Update x2 and x3 using x_12 (Agent 1's action from one two aware mode)\n",
        "                x_new[1] = max(0, q[1] - G[1, 0] * x_new[0] - G[1, 2] * x[2])\n",
        "                x_new[2] = max(0, q[2] - G[2, 0] * x_new[0] - G[2, 1] * x[1])\n",
        "            \n",
        "            # Update x3 normally (assuming similar to x2)\n",
        "            if mode == 'one two unaware':\n",
        "                sum_g3x = np.sum(G[2, :] * x)\n",
        "                x_new[2] = max(0, q[2] - sum_g3x)\n",
        "            \n",
        "            # Check for convergence\n",
        "            if np.linalg.norm(x_new - x) < tol:\n",
        "                print(f\"Converged in {iteration+1} iterations.\")\n",
        "                return x_new\n",
        "            x = x_new\n",
        "\n",
        "    print(\"Max iterations reached without convergence.\")\n",
        "    return x\n",
        "\n",
        "# Example adjacency matrix and q vector\n",
        "G = np.array([[0, 0.7, 0.2],\n",
        "              [0.1, 0, 0.5],\n",
        "              [0.5, 0.3, 0]])\n",
        "\n",
        "q = np.array([1, 1, 1])\n",
        "\n",
        "# Testing all modes\n",
        "print(\"Equilibrium actions for 'all one':\")\n",
        "equilibrium_all_one = find_equilibrium(G, q, mode='all one')\n",
        "print(equilibrium_all_one)\n",
        "\n",
        "print(\"\\nEquilibrium actions for 'one two unaware':\")\n",
        "equilibrium_one_two = find_equilibrium(G, q, mode='one two unaware')\n",
        "print(equilibrium_one_two)\n",
        "\n",
        "print(\"\\nEquilibrium actions for 'one two aware':\")\n",
        "equilibrium_one_two_aware = find_equilibrium(G, q, mode='one two aware')\n",
        "print(equilibrium_one_two_aware)"
      ]
    }
  ],
  "metadata": {
    "colab": {
      "provenance": []
    },
    "kernelspec": {
      "display_name": "Python 3",
      "language": "python",
      "name": "python3"
    },
    "language_info": {
      "codemirror_mode": {
        "name": "ipython",
        "version": 3
      },
      "file_extension": ".py",
      "mimetype": "text/x-python",
      "name": "python",
      "nbconvert_exporter": "python",
      "pygments_lexer": "ipython3",
      "version": "3.9.13"
    },
    "orig_nbformat": 4,
    "vscode": {
      "interpreter": {
        "hash": "aee8b7b246df8f9039afb4144a1f6fd8d2ca17a180786b69acc140d282b71a49"
      }
    }
  },
  "nbformat": 4,
  "nbformat_minor": 0
}
